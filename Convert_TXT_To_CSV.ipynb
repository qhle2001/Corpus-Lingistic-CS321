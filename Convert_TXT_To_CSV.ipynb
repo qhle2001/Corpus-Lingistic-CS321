{
  "nbformat": 4,
  "nbformat_minor": 0,
  "metadata": {
    "colab": {
      "provenance": []
    },
    "kernelspec": {
      "name": "python3",
      "display_name": "Python 3"
    },
    "language_info": {
      "name": "python"
    }
  },
  "cells": [
    {
      "cell_type": "code",
      "execution_count": null,
      "metadata": {
        "id": "SvFdABBoV2Ks"
      },
      "outputs": [],
      "source": [
        "f = open('/content/Test.txt', 'r', encoding='UTF-8')\n",
        "a = f.readlines()\n",
        "f.close()"
      ]
    },
    {
      "cell_type": "code",
      "source": [
        "test = []\n",
        "label = []\n",
        "for i in range(1,len(a),4):\n",
        "  test.append(a[i])\n",
        "for i in range(2,len(a), 4):\n",
        "  label.append(a[i])\n",
        "print(test)\n",
        "print(label)"
      ],
      "metadata": {
        "id": "tKpfZIyhV7Vd"
      },
      "execution_count": null,
      "outputs": []
    },
    {
      "cell_type": "code",
      "source": [
        "column = ['review','FOOD#PRICES','FOOD#QUALITY',\n",
        "                     'FOOD#STYLE&OPTIONS','DRINKS#PRICES',\n",
        "                     'DRINKS#QUALITY','DRINKS#STYLE&OPTIONS',\n",
        "                     'RESTAURANT#PRICES','RESTAURANT#GENERAL',\n",
        "                     'RESTAURANT#MISCELLANEOUS','SERVICE#GENERAL',\n",
        "                     'AMBIENCE#GENERAL','LOCATION#GENERAL']\n",
        "print(len(column))"
      ],
      "metadata": {
        "id": "qaGCso39V7R_"
      },
      "execution_count": null,
      "outputs": []
    },
    {
      "cell_type": "code",
      "source": [
        "import csv"
      ],
      "metadata": {
        "id": "bi8EbhRKV7Ps"
      },
      "execution_count": null,
      "outputs": []
    },
    {
      "cell_type": "code",
      "source": [
        "with open('/content/Test.csv', 'a', encoding='utf-8') as f:\n",
        "  writer = csv.writer(f)\n",
        "  writer.writerow(column)\n",
        "  for idx in range(0,len(test)):\n",
        "    row = list()\n",
        "    review = test[idx].replace(\"\\n\", \"\")\n",
        "    row.append(review)\n",
        "    for i in range(1,len(column)):\n",
        "      row.append(\"\")\n",
        "    list_labels = list()\n",
        "    labels = label[idx].replace(\"\\n\", \"\")\n",
        "    labels = labels.replace(\" \", \"\")\n",
        "    temp_list = labels.strip('{').split(',')\n",
        "    for temp in temp_list:\n",
        "      list_labels.append(temp.strip(\"{\").strip(\"}\"))\n",
        "    value = list()\n",
        "    aspect = list()\n",
        "    for i in range(0,len(list_labels)):\n",
        "      if i % 2 == 0:\n",
        "        aspect.append(list_labels[i])\n",
        "      else:\n",
        "        value.append(list_labels[i])\n",
        "    for i in range(0,len(aspect)):\n",
        "      for j in range(1,len(column)):\n",
        "        if aspect[i] == column[j]:\n",
        "          row[j] = value[i]\n",
        "          break\n",
        "    writer = csv.writer(f)\n",
        "    writer.writerow(row)"
      ],
      "metadata": {
        "id": "HiSUxZWSV7NR"
      },
      "execution_count": null,
      "outputs": []
    },
    {
      "cell_type": "code",
      "source": [],
      "metadata": {
        "id": "Cms0YIqnV7Kx"
      },
      "execution_count": null,
      "outputs": []
    }
  ]
}