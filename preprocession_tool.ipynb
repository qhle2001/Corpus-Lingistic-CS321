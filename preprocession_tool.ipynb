{
  "cells": [
    {
      "cell_type": "markdown",
      "metadata": {
        "id": "7IvR3JycPXRo"
      },
      "source": [
        "## Import packages"
      ]
    },
    {
      "cell_type": "code",
      "source": [
        "!pip install -Uq emoji==1.7\n",
        "!pip install -Uq optuna\n",
        "!pip install -Uq flashtext\n",
        "!pip install -Uq underthesea\n",
        "!pip install -Uq scikit-learn"
      ],
      "metadata": {
        "colab": {
          "base_uri": "https://localhost:8080/"
        },
        "id": "nEq-uS-qSmvo",
        "outputId": "bd190636-0108-4528-8bc6-348f3535b829"
      },
      "execution_count": 1,
      "outputs": [
        {
          "output_type": "stream",
          "name": "stdout",
          "text": [
            "\u001b[?25l     \u001b[90m━━━━━━━━━━━━━━━━━━━━━━━━━━━━━━━━━━━━━━━━\u001b[0m \u001b[32m0.0/175.4 kB\u001b[0m \u001b[31m?\u001b[0m eta \u001b[36m-:--:--\u001b[0m\r\u001b[2K     \u001b[91m━━━━━━━━━━━━━━━━━━━━━━━━━━━━━━━━━━━━━\u001b[0m\u001b[91m╸\u001b[0m \u001b[32m174.1/175.4 kB\u001b[0m \u001b[31m21.9 MB/s\u001b[0m eta \u001b[36m0:00:01\u001b[0m\r\u001b[2K     \u001b[90m━━━━━━━━━━━━━━━━━━━━━━━━━━━━━━━━━━━━━━━\u001b[0m \u001b[32m175.4/175.4 kB\u001b[0m \u001b[31m2.9 MB/s\u001b[0m eta \u001b[36m0:00:00\u001b[0m\n",
            "\u001b[?25h  Preparing metadata (setup.py) ... \u001b[?25l\u001b[?25hdone\n",
            "  Building wheel for emoji (setup.py) ... \u001b[?25l\u001b[?25hdone\n",
            "\u001b[2K     \u001b[90m━━━━━━━━━━━━━━━━━━━━━━━━━━━━━━━━━━━━━━\u001b[0m \u001b[32m365.7/365.7 kB\u001b[0m \u001b[31m11.2 MB/s\u001b[0m eta \u001b[36m0:00:00\u001b[0m\n",
            "\u001b[2K     \u001b[90m━━━━━━━━━━━━━━━━━━━━━━━━━━━━━━━━━━━━━━\u001b[0m \u001b[32m212.9/212.9 kB\u001b[0m \u001b[31m20.5 MB/s\u001b[0m eta \u001b[36m0:00:00\u001b[0m\n",
            "\u001b[2K     \u001b[90m━━━━━━━━━━━━━━━━━━━━━━━━━━━━━━━━━━━━━━━━\u001b[0m \u001b[32m78.7/78.7 kB\u001b[0m \u001b[31m9.3 MB/s\u001b[0m eta \u001b[36m0:00:00\u001b[0m\n",
            "\u001b[?25h  Preparing metadata (setup.py) ... \u001b[?25l\u001b[?25hdone\n",
            "  Building wheel for flashtext (setup.py) ... \u001b[?25l\u001b[?25hdone\n",
            "\u001b[2K     \u001b[90m━━━━━━━━━━━━━━━━━━━━━━━━━━━━━━━━━━━━━━━━\u001b[0m \u001b[32m19.2/19.2 MB\u001b[0m \u001b[31m69.7 MB/s\u001b[0m eta \u001b[36m0:00:00\u001b[0m\n",
            "\u001b[2K     \u001b[90m━━━━━━━━━━━━━━━━━━━━━━━━━━━━━━━━━━━━━━\u001b[0m \u001b[32m993.5/993.5 kB\u001b[0m \u001b[31m70.3 MB/s\u001b[0m eta \u001b[36m0:00:00\u001b[0m\n",
            "\u001b[2K     \u001b[90m━━━━━━━━━━━━━━━━━━━━━━━━━━━━━━━━━━━━━━\u001b[0m \u001b[32m599.6/599.6 kB\u001b[0m \u001b[31m52.0 MB/s\u001b[0m eta \u001b[36m0:00:00\u001b[0m\n",
            "\u001b[?25h"
          ]
        }
      ]
    },
    {
      "cell_type": "code",
      "execution_count": 2,
      "metadata": {
        "id": "g13UgoTNPXRt"
      },
      "outputs": [],
      "source": [
        "import re\n",
        "import unicodedata\n",
        "import numpy as np\n",
        "import pandas as pd\n",
        "from functools import partial\n",
        "from emoji import get_emoji_regexp\n",
        "from flashtext import KeywordProcessor\n",
        "from sklearn.base import BaseEstimator, TransformerMixin"
      ]
    },
    {
      "cell_type": "markdown",
      "metadata": {
        "id": "B0H8h_UD9PBW"
      },
      "source": [
        "## TextCleaner class"
      ]
    },
    {
      "cell_type": "code",
      "execution_count": 3,
      "metadata": {
        "cell_id": "00003-c74a2f8e-bc89-467a-85c2-abee6f93cd4f",
        "deepnote_cell_type": "code",
        "deepnote_to_be_reexecuted": false,
        "execution_millis": 1175,
        "execution_start": 1636288345626,
        "id": "ipXDgXJ5Pray",
        "source_hash": "e9c1ba90",
        "tags": []
      },
      "outputs": [],
      "source": [
        "from sklearn.base import BaseEstimator, TransformerMixin\n",
        "\n",
        "HASHTAG = 'hashtag'\n",
        "\n",
        "class TextCleanerBase(BaseEstimator, TransformerMixin):\n",
        "    def __init__(self):\n",
        "        super().__init__()\n",
        "\n",
        "        # Find emojis\n",
        "        emoji = get_emoji_regexp()\n",
        "\n",
        "        # Create preprocessing function\n",
        "        self.remove_emoji      = partial(emoji.sub, '')\n",
        "        self.normalize_unicode = partial(unicodedata.normalize, 'NFC')\n",
        "\n",
        "    def fit(self, X, y=None):\n",
        "        return self\n",
        "\n",
        "    def transform(self, X):\n",
        "        if not isinstance(X, pd.Series):\n",
        "            X = pd.Series(X)\n",
        "\n",
        "        return X.apply(str.lower) \\\n",
        "                .apply(self.remove_emoji) \\\n",
        "                .apply(self.normalize_unicode)\n",
        "        \n",
        "\n",
        "class TextCleaner(TextCleanerBase):\n",
        "    def __init__(self):\n",
        "        super().__init__()\n",
        "\n",
        "        # Find hashtag\n",
        "        hashtag = re.compile('#\\S+')\n",
        "\n",
        "        # Find price tags\n",
        "        pricetag = '((?:(?:\\d+[,\\.]?)+) ?(?:nghìn đồng|đồng|k|vnd|d|đ))'\n",
        "        pricetag = re.compile(pricetag)\n",
        "\n",
        "        # Find special characters\n",
        "        specialchar = r\"[\\\"#$%&'()*+,\\-.\\/\\\\:;<=>@[\\]^_`{|}~\\n\\r\\t]\"\n",
        "        specialchar = re.compile(specialchar)\n",
        "\n",
        "        # Spelling correction\n",
        "        rules = {\n",
        "            \"òa\":[\"oà\"], \"óa\":[\"oá\"], \"ỏa\":[\"oả\"], \"õa\":[\"oã\"], \"ọa\":[\"oạ\"],\n",
        "            \"òe\":[\"oè\"], \"óe\":[\"oé\"], \"ỏe\":[\"oẻ\"], \"õe\":[\"oẽ\"], \"ọe\":[\"oẹ\"],\n",
        "            \"ùy\":[\"uỳ\"], \"úy\":[\"uý\"], \"ủy\":[\"uỷ\"], \"ũy\":[\"uỹ\"], \"ụy\":[\"uỵ\"],\n",
        "            \"ùa\":[\"uà\"], \"úa\":[\"uá\"], \"ủa\":[\"uả\"], \"ũa\":[\"uã\"], \"ụa\":[\"uạ\"],\n",
        "            \"xảy\":[\"xẩy\"], \"bảy\":[\"bẩy\"], \"gãy\":[\"gẫy\"],\n",
        "            \"không\":[\"k\", \"hông\", \"ko\", \"khong\"]}\n",
        "\n",
        "        kp = KeywordProcessor(case_sensitive=False)\n",
        "        kp.add_keywords_from_dict(rules)\n",
        "\n",
        "        # Create preprocessing functions\n",
        "        self.autocorrect          = kp.replace_keywords\n",
        "        self.normalize_pricetag   = partial(pricetag.sub, 'giá_tiền')\n",
        "        self.normalize_hashtag    = partial(hashtag.sub, HASHTAG)\n",
        "        self.remove_specialchar   = partial(specialchar.sub, '')\n",
        "\n",
        "    def transform(self, X):\n",
        "        X = super().transform(X)\n",
        "\n",
        "        return X.apply(self.autocorrect) \\\n",
        "                .apply(self.normalize_pricetag) \\\n",
        "                .apply(self.normalize_hashtag) \\\n",
        "                .apply(self.remove_specialchar)\n"
      ]
    },
    {
      "cell_type": "markdown",
      "metadata": {
        "id": "KM0ohCtvRaHZ"
      },
      "source": [
        "## mo2ml - Multioutput to multilabel"
      ]
    },
    {
      "cell_type": "code",
      "execution_count": 4,
      "metadata": {
        "id": "iZif1GwORnKq"
      },
      "outputs": [],
      "source": [
        "aspects = ['FOOD#PRICES',\n",
        "           'FOOD#QUALITY',\n",
        "           'FOOD#STYLE&OPTIONS',\n",
        "           'DRINKS#PRICES',\n",
        "           'DRINKS#QUALITY',\n",
        "           'DRINKS#STYLE&OPTIONS',\n",
        "           'RESTAURANT#PRICES',\n",
        "           'RESTAURANT#GENERAL',\n",
        "           'RESTAURANT#MISCELLANEOUS',\n",
        "           'SERVICE#GENERAL',\n",
        "           'AMBIENCE#GENERAL',\n",
        "           'LOCATION#GENERAL']\n",
        "\n",
        "sentiments = ['-', 'o', '+']\n",
        "\n",
        "def mo2ml(y):\n",
        "    \"\"\"Convert multi-output to multi-label data\n",
        "    \"\"\"\n",
        "    newcols = [f'{a} {s}' for a in aspects for s in sentiments]\n",
        "\n",
        "    nrows, ncols = len(y), len(newcols)\n",
        "    ml = pd.DataFrame(np.zeros((nrows, ncols), dtype='bool'),\n",
        "                      columns=newcols)\n",
        "    \n",
        "    for i, a in enumerate(aspects):\n",
        "        for j in range(1, 4):\n",
        "            indices = y[a] == j\n",
        "            ml.iloc[indices, i * 3 + j - 1] = True\n",
        "\n",
        "    return ml"
      ]
    },
    {
      "cell_type": "markdown",
      "metadata": {
        "id": "jhbl0ne_6uET"
      },
      "source": [
        "## mo2df - Multioutput to DataFrame"
      ]
    },
    {
      "cell_type": "code",
      "execution_count": 5,
      "metadata": {
        "id": "yGc_-Ed_6zKL"
      },
      "outputs": [],
      "source": [
        "def mo2df(y):\n",
        "    if isinstance(y, pd.DataFrame):\n",
        "        return y\n",
        "    return pd.DataFrame(y, columns=aspects)"
      ]
    },
    {
      "cell_type": "markdown",
      "metadata": {
        "id": "WqJJy6pSPXRz"
      },
      "source": [
        "## Reading csv files"
      ]
    },
    {
      "cell_type": "code",
      "source": [
        "!git clone https://github.com/qhle2001/Corpus-Lingistic-CS321.git"
      ],
      "metadata": {
        "colab": {
          "base_uri": "https://localhost:8080/"
        },
        "id": "O3aHco6JTYhb",
        "outputId": "12c48c0b-2195-4d3a-b6eb-c7bb7161e858"
      },
      "execution_count": 6,
      "outputs": [
        {
          "output_type": "stream",
          "name": "stdout",
          "text": [
            "Cloning into 'Corpus-Lingistic-CS321'...\n",
            "remote: Enumerating objects: 78, done.\u001b[K\n",
            "remote: Counting objects: 100% (78/78), done.\u001b[K\n",
            "remote: Compressing objects: 100% (53/53), done.\u001b[K\n",
            "remote: Total 78 (delta 37), reused 54 (delta 22), pack-reused 0\u001b[K\n",
            "Unpacking objects: 100% (78/78), 15.09 MiB | 8.73 MiB/s, done.\n"
          ]
        }
      ]
    },
    {
      "cell_type": "code",
      "source": [
        "train_data = pd.read_csv('/content/Corpus-Lingistic-CS321/file csv/Train.csv')\n",
        "dev_data = pd.read_csv('/content/Corpus-Lingistic-CS321/file csv/Dev.csv')\n",
        "test_data = pd.read_csv('/content/Corpus-Lingistic-CS321/file csv/Test.csv')"
      ],
      "metadata": {
        "id": "2XIXtbTRTo9L"
      },
      "execution_count": 7,
      "outputs": []
    },
    {
      "cell_type": "code",
      "source": [
        "test_data.head()"
      ],
      "metadata": {
        "colab": {
          "base_uri": "https://localhost:8080/",
          "height": 825
        },
        "id": "MdWF3pYNgusJ",
        "outputId": "edef2f44-e33c-46d9-9571-c211c911323e"
      },
      "execution_count": 8,
      "outputs": [
        {
          "output_type": "execute_result",
          "data": {
            "text/plain": [
              "                                              review FOOD#PRICES FOOD#QUALITY  \\\n",
              "0  ❤ Bánh đc bao gói bao bì khá lạ, là túi nilong...         NaN          NaN   \n",
              "1                * soda and lemon thì cũng tạm được.         NaN          NaN   \n",
              "2  Mình sẽ ko baoh order ship thế này nữa, làm ăn...         NaN          NaN   \n",
              "3  Cơ sở Kichi Kichi này đã hạn chế về không gian...         NaN          NaN   \n",
              "4                     Nhắc 2 3 lần mới thấy đem tới.         NaN          NaN   \n",
              "\n",
              "  FOOD#STYLE&OPTIONS DRINKS#PRICES DRINKS#QUALITY DRINKS#STYLE&OPTIONS  \\\n",
              "0                NaN           NaN            NaN                  NaN   \n",
              "1                NaN           NaN        neutral                  NaN   \n",
              "2                NaN           NaN            NaN                  NaN   \n",
              "3                NaN           NaN            NaN                  NaN   \n",
              "4                NaN           NaN            NaN                  NaN   \n",
              "\n",
              "  RESTAURANT#PRICES RESTAURANT#GENERAL RESTAURANT#MISCELLANEOUS  \\\n",
              "0               NaN                NaN                 positive   \n",
              "1               NaN                NaN                      NaN   \n",
              "2               NaN                NaN                      NaN   \n",
              "3               NaN           positive                      NaN   \n",
              "4               NaN                NaN                      NaN   \n",
              "\n",
              "  SERVICE#GENERAL AMBIENCE#GENERAL LOCATION#GENERAL  \n",
              "0             NaN              NaN              NaN  \n",
              "1             NaN              NaN              NaN  \n",
              "2        negative              NaN              NaN  \n",
              "3             NaN         negative              NaN  \n",
              "4        negative              NaN              NaN  "
            ],
            "text/html": [
              "\n",
              "  <div id=\"df-b14557cd-a188-405d-b60b-aa3a6c6e7182\">\n",
              "    <div class=\"colab-df-container\">\n",
              "      <div>\n",
              "<style scoped>\n",
              "    .dataframe tbody tr th:only-of-type {\n",
              "        vertical-align: middle;\n",
              "    }\n",
              "\n",
              "    .dataframe tbody tr th {\n",
              "        vertical-align: top;\n",
              "    }\n",
              "\n",
              "    .dataframe thead th {\n",
              "        text-align: right;\n",
              "    }\n",
              "</style>\n",
              "<table border=\"1\" class=\"dataframe\">\n",
              "  <thead>\n",
              "    <tr style=\"text-align: right;\">\n",
              "      <th></th>\n",
              "      <th>review</th>\n",
              "      <th>FOOD#PRICES</th>\n",
              "      <th>FOOD#QUALITY</th>\n",
              "      <th>FOOD#STYLE&amp;OPTIONS</th>\n",
              "      <th>DRINKS#PRICES</th>\n",
              "      <th>DRINKS#QUALITY</th>\n",
              "      <th>DRINKS#STYLE&amp;OPTIONS</th>\n",
              "      <th>RESTAURANT#PRICES</th>\n",
              "      <th>RESTAURANT#GENERAL</th>\n",
              "      <th>RESTAURANT#MISCELLANEOUS</th>\n",
              "      <th>SERVICE#GENERAL</th>\n",
              "      <th>AMBIENCE#GENERAL</th>\n",
              "      <th>LOCATION#GENERAL</th>\n",
              "    </tr>\n",
              "  </thead>\n",
              "  <tbody>\n",
              "    <tr>\n",
              "      <th>0</th>\n",
              "      <td>❤ Bánh đc bao gói bao bì khá lạ, là túi nilong...</td>\n",
              "      <td>NaN</td>\n",
              "      <td>NaN</td>\n",
              "      <td>NaN</td>\n",
              "      <td>NaN</td>\n",
              "      <td>NaN</td>\n",
              "      <td>NaN</td>\n",
              "      <td>NaN</td>\n",
              "      <td>NaN</td>\n",
              "      <td>positive</td>\n",
              "      <td>NaN</td>\n",
              "      <td>NaN</td>\n",
              "      <td>NaN</td>\n",
              "    </tr>\n",
              "    <tr>\n",
              "      <th>1</th>\n",
              "      <td>* soda and lemon thì cũng tạm được.</td>\n",
              "      <td>NaN</td>\n",
              "      <td>NaN</td>\n",
              "      <td>NaN</td>\n",
              "      <td>NaN</td>\n",
              "      <td>neutral</td>\n",
              "      <td>NaN</td>\n",
              "      <td>NaN</td>\n",
              "      <td>NaN</td>\n",
              "      <td>NaN</td>\n",
              "      <td>NaN</td>\n",
              "      <td>NaN</td>\n",
              "      <td>NaN</td>\n",
              "    </tr>\n",
              "    <tr>\n",
              "      <th>2</th>\n",
              "      <td>Mình sẽ ko baoh order ship thế này nữa, làm ăn...</td>\n",
              "      <td>NaN</td>\n",
              "      <td>NaN</td>\n",
              "      <td>NaN</td>\n",
              "      <td>NaN</td>\n",
              "      <td>NaN</td>\n",
              "      <td>NaN</td>\n",
              "      <td>NaN</td>\n",
              "      <td>NaN</td>\n",
              "      <td>NaN</td>\n",
              "      <td>negative</td>\n",
              "      <td>NaN</td>\n",
              "      <td>NaN</td>\n",
              "    </tr>\n",
              "    <tr>\n",
              "      <th>3</th>\n",
              "      <td>Cơ sở Kichi Kichi này đã hạn chế về không gian...</td>\n",
              "      <td>NaN</td>\n",
              "      <td>NaN</td>\n",
              "      <td>NaN</td>\n",
              "      <td>NaN</td>\n",
              "      <td>NaN</td>\n",
              "      <td>NaN</td>\n",
              "      <td>NaN</td>\n",
              "      <td>positive</td>\n",
              "      <td>NaN</td>\n",
              "      <td>NaN</td>\n",
              "      <td>negative</td>\n",
              "      <td>NaN</td>\n",
              "    </tr>\n",
              "    <tr>\n",
              "      <th>4</th>\n",
              "      <td>Nhắc 2 3 lần mới thấy đem tới.</td>\n",
              "      <td>NaN</td>\n",
              "      <td>NaN</td>\n",
              "      <td>NaN</td>\n",
              "      <td>NaN</td>\n",
              "      <td>NaN</td>\n",
              "      <td>NaN</td>\n",
              "      <td>NaN</td>\n",
              "      <td>NaN</td>\n",
              "      <td>NaN</td>\n",
              "      <td>negative</td>\n",
              "      <td>NaN</td>\n",
              "      <td>NaN</td>\n",
              "    </tr>\n",
              "  </tbody>\n",
              "</table>\n",
              "</div>\n",
              "      <button class=\"colab-df-convert\" onclick=\"convertToInteractive('df-b14557cd-a188-405d-b60b-aa3a6c6e7182')\"\n",
              "              title=\"Convert this dataframe to an interactive table.\"\n",
              "              style=\"display:none;\">\n",
              "        \n",
              "  <svg xmlns=\"http://www.w3.org/2000/svg\" height=\"24px\"viewBox=\"0 0 24 24\"\n",
              "       width=\"24px\">\n",
              "    <path d=\"M0 0h24v24H0V0z\" fill=\"none\"/>\n",
              "    <path d=\"M18.56 5.44l.94 2.06.94-2.06 2.06-.94-2.06-.94-.94-2.06-.94 2.06-2.06.94zm-11 1L8.5 8.5l.94-2.06 2.06-.94-2.06-.94L8.5 2.5l-.94 2.06-2.06.94zm10 10l.94 2.06.94-2.06 2.06-.94-2.06-.94-.94-2.06-.94 2.06-2.06.94z\"/><path d=\"M17.41 7.96l-1.37-1.37c-.4-.4-.92-.59-1.43-.59-.52 0-1.04.2-1.43.59L10.3 9.45l-7.72 7.72c-.78.78-.78 2.05 0 2.83L4 21.41c.39.39.9.59 1.41.59.51 0 1.02-.2 1.41-.59l7.78-7.78 2.81-2.81c.8-.78.8-2.07 0-2.86zM5.41 20L4 18.59l7.72-7.72 1.47 1.35L5.41 20z\"/>\n",
              "  </svg>\n",
              "      </button>\n",
              "      \n",
              "  <style>\n",
              "    .colab-df-container {\n",
              "      display:flex;\n",
              "      flex-wrap:wrap;\n",
              "      gap: 12px;\n",
              "    }\n",
              "\n",
              "    .colab-df-convert {\n",
              "      background-color: #E8F0FE;\n",
              "      border: none;\n",
              "      border-radius: 50%;\n",
              "      cursor: pointer;\n",
              "      display: none;\n",
              "      fill: #1967D2;\n",
              "      height: 32px;\n",
              "      padding: 0 0 0 0;\n",
              "      width: 32px;\n",
              "    }\n",
              "\n",
              "    .colab-df-convert:hover {\n",
              "      background-color: #E2EBFA;\n",
              "      box-shadow: 0px 1px 2px rgba(60, 64, 67, 0.3), 0px 1px 3px 1px rgba(60, 64, 67, 0.15);\n",
              "      fill: #174EA6;\n",
              "    }\n",
              "\n",
              "    [theme=dark] .colab-df-convert {\n",
              "      background-color: #3B4455;\n",
              "      fill: #D2E3FC;\n",
              "    }\n",
              "\n",
              "    [theme=dark] .colab-df-convert:hover {\n",
              "      background-color: #434B5C;\n",
              "      box-shadow: 0px 1px 3px 1px rgba(0, 0, 0, 0.15);\n",
              "      filter: drop-shadow(0px 1px 2px rgba(0, 0, 0, 0.3));\n",
              "      fill: #FFFFFF;\n",
              "    }\n",
              "  </style>\n",
              "\n",
              "      <script>\n",
              "        const buttonEl =\n",
              "          document.querySelector('#df-b14557cd-a188-405d-b60b-aa3a6c6e7182 button.colab-df-convert');\n",
              "        buttonEl.style.display =\n",
              "          google.colab.kernel.accessAllowed ? 'block' : 'none';\n",
              "\n",
              "        async function convertToInteractive(key) {\n",
              "          const element = document.querySelector('#df-b14557cd-a188-405d-b60b-aa3a6c6e7182');\n",
              "          const dataTable =\n",
              "            await google.colab.kernel.invokeFunction('convertToInteractive',\n",
              "                                                     [key], {});\n",
              "          if (!dataTable) return;\n",
              "\n",
              "          const docLinkHtml = 'Like what you see? Visit the ' +\n",
              "            '<a target=\"_blank\" href=https://colab.research.google.com/notebooks/data_table.ipynb>data table notebook</a>'\n",
              "            + ' to learn more about interactive tables.';\n",
              "          element.innerHTML = '';\n",
              "          dataTable['output_type'] = 'display_data';\n",
              "          await google.colab.output.renderOutput(dataTable, element);\n",
              "          const docLink = document.createElement('div');\n",
              "          docLink.innerHTML = docLinkHtml;\n",
              "          element.appendChild(docLink);\n",
              "        }\n",
              "      </script>\n",
              "    </div>\n",
              "  </div>\n",
              "  "
            ]
          },
          "metadata": {},
          "execution_count": 8
        }
      ]
    },
    {
      "cell_type": "code",
      "source": [
        "sentences_review = test_data['review']\n",
        "print(sentences_review)"
      ],
      "metadata": {
        "colab": {
          "base_uri": "https://localhost:8080/"
        },
        "id": "4Rg6fhPbjbS7",
        "outputId": "5ae1a26c-87ef-4a4a-8c91-533a608d5bd9"
      },
      "execution_count": 9,
      "outputs": [
        {
          "output_type": "stream",
          "name": "stdout",
          "text": [
            "0       ❤ Bánh đc bao gói bao bì khá lạ, là túi nilong...\n",
            "1                     * soda and lemon thì cũng tạm được.\n",
            "2       Mình sẽ ko baoh order ship thế này nữa, làm ăn...\n",
            "3       Cơ sở Kichi Kichi này đã hạn chế về không gian...\n",
            "4                          Nhắc 2 3 lần mới thấy đem tới.\n",
            "                              ...                        \n",
            "1933    Nước sốt, mình thử vị BBQ và Tiêu:cả hai cái đ...\n",
            "1934                           Phục vụ tệ, đồ ăn siêu tệ.\n",
            "1935    Lần 1 thì order 5 ly có hết 4 ly là cf trứng c...\n",
            "1936        Vừa sánh vừa béo ngậy mà thơm đậm mùi phomai.\n",
            "1937    Giá cả bình thg, đầy đủ mấy loại đồ ăn vặt mìn...\n",
            "Name: review, Length: 1938, dtype: object\n"
          ]
        }
      ]
    },
    {
      "cell_type": "code",
      "execution_count": null,
      "metadata": {
        "id": "2AHiLec0PXRz"
      },
      "outputs": [],
      "source": [
        "# train_data = pd.read_csv('/content/Train.csv')\n",
        "# dev_data = pd.read_csv('/content/Dev.csv')\n",
        "# test_data = pd.read_csv('/content/Test.csv')"
      ]
    },
    {
      "cell_type": "code",
      "execution_count": 10,
      "metadata": {
        "id": "eNlyQuIOPXRz"
      },
      "outputs": [],
      "source": [
        "def ConvertOutput(df):\n",
        "    X = df.pop('review')\n",
        "    y = df.replace({np.nan: 0, \n",
        "                    'negative': 1, \n",
        "                    'neutral': 2, \n",
        "                    'positive': 3}).astype(np.uint8)\n",
        "\n",
        "    print('X.shape:', X.shape, 'y.shape:', y.shape)\n",
        "    return X, y"
      ]
    },
    {
      "cell_type": "code",
      "execution_count": 11,
      "metadata": {
        "colab": {
          "base_uri": "https://localhost:8080/"
        },
        "id": "X2_f6ZtBPXR0",
        "outputId": "1e49eb0b-8f8e-4b89-ab6c-459a33659646"
      },
      "outputs": [
        {
          "output_type": "stream",
          "name": "stdout",
          "text": [
            "X.shape: (7028,) y.shape: (7028, 12)\n",
            "X.shape: (771,) y.shape: (771, 12)\n",
            "X.shape: (1938,) y.shape: (1938, 12)\n"
          ]
        }
      ],
      "source": [
        "Xtrain, ytrain = ConvertOutput(train_data)\n",
        "Xdev,   ydev   = ConvertOutput(dev_data)\n",
        "Xtest,  ytest  = ConvertOutput(test_data)"
      ]
    },
    {
      "cell_type": "code",
      "execution_count": 12,
      "metadata": {
        "cell_id": "00000-d1f2d812-aabe-4dfd-9477-93be642302e1",
        "colab": {
          "base_uri": "https://localhost:8080/"
        },
        "deepnote_cell_type": "code",
        "deepnote_to_be_reexecuted": false,
        "execution_millis": 304,
        "execution_start": 1636288255576,
        "id": "gZj_jnCGPran",
        "outputId": "bf53374e-1d95-420c-8792-f159a2971230",
        "source_hash": "1fdd19ce",
        "tags": []
      },
      "outputs": [
        {
          "output_type": "stream",
          "name": "stderr",
          "text": [
            "<ipython-input-3-5a91bb693718>:10: DeprecationWarning: 'emoji.get_emoji_regexp()' is deprecated and will be removed in version 2.0.0. If you want to remove emoji from a string, consider the method emoji.replace_emoji(str, replace='').\n",
            "To hide this warning, pin/downgrade the package to 'emoji~=1.6.3'\n",
            "  emoji = get_emoji_regexp()\n"
          ]
        }
      ],
      "source": [
        "# Advanced text cleanup\n",
        "cleaner       = TextCleaner()\n",
        "\n",
        "xtrain        = cleaner.transform(Xtrain)\n",
        "xdev          = cleaner.transform(Xdev)\n",
        "xtest         = cleaner.transform(Xtest)"
      ]
    },
    {
      "cell_type": "code",
      "execution_count": 13,
      "metadata": {
        "id": "MeYOZp0Uc2I9"
      },
      "outputs": [],
      "source": [
        "# y target for evaluation\n",
        "ytrain_ml = mo2ml(ytrain)\n",
        "ydev_ml   = mo2ml(ydev)\n",
        "ytest_ml  = mo2ml(ytest)"
      ]
    },
    {
      "cell_type": "markdown",
      "metadata": {
        "id": "03IBx4ZS8tn4"
      },
      "source": [
        "## Class distribution"
      ]
    },
    {
      "cell_type": "code",
      "execution_count": 14,
      "metadata": {
        "colab": {
          "base_uri": "https://localhost:8080/",
          "height": 542
        },
        "id": "ohAmNN9b50AH",
        "outputId": "0fb362ed-99c2-40c0-c9a1-7eb6f28e37aa"
      },
      "outputs": [
        {
          "output_type": "display_data",
          "data": {
            "text/html": [
              "<html>\n",
              "<head><meta charset=\"utf-8\" /></head>\n",
              "<body>\n",
              "    <div>            <script src=\"https://cdnjs.cloudflare.com/ajax/libs/mathjax/2.7.5/MathJax.js?config=TeX-AMS-MML_SVG\"></script><script type=\"text/javascript\">if (window.MathJax && window.MathJax.Hub && window.MathJax.Hub.Config) {window.MathJax.Hub.Config({SVG: {font: \"STIX-Web\"}});}</script>                <script type=\"text/javascript\">window.PlotlyConfig = {MathJaxConfig: 'local'};</script>\n",
              "        <script src=\"https://cdn.plot.ly/plotly-2.18.2.min.js\"></script>                <div id=\"9de6526c-8086-4d47-ae38-8b68649cd257\" class=\"plotly-graph-div\" style=\"height:525px; width:100%;\"></div>            <script type=\"text/javascript\">                                    window.PLOTLYENV=window.PLOTLYENV || {};                                    if (document.getElementById(\"9de6526c-8086-4d47-ae38-8b68649cd257\")) {                    Plotly.newPlot(                        \"9de6526c-8086-4d47-ae38-8b68649cd257\",                        [{\"labels\":[\"FOOD#PRICES\",\"FOOD#QUALITY\",\"FOOD#STYLE&OPTIONS\",\"DRINKS#PRICES\",\"DRINKS#QUALITY\",\"DRINKS#STYLE&OPTIONS\",\"RESTAURANT#PRICES\",\"RESTAURANT#GENERAL\",\"RESTAURANT#MISCELLANEOUS\",\"SERVICE#GENERAL\",\"AMBIENCE#GENERAL\",\"LOCATION#GENERAL\"],\"name\":\"Train\",\"textposition\":\"inside\",\"values\":[841,5056,3648,333,1825,1055,884,2210,1167,2443,2003,884],\"type\":\"pie\",\"domain\":{\"x\":[0.0,0.2888888888888889],\"y\":[0.0,1.0]}},{\"labels\":[\"FOOD#PRICES\",\"FOOD#QUALITY\",\"FOOD#STYLE&OPTIONS\",\"DRINKS#PRICES\",\"DRINKS#QUALITY\",\"DRINKS#STYLE&OPTIONS\",\"RESTAURANT#PRICES\",\"RESTAURANT#GENERAL\",\"RESTAURANT#MISCELLANEOUS\",\"SERVICE#GENERAL\",\"AMBIENCE#GENERAL\",\"LOCATION#GENERAL\"],\"name\":\"Dev\",\"textposition\":\"inside\",\"values\":[88,563,434,39,182,120,101,233,139,261,232,97],\"type\":\"pie\",\"domain\":{\"x\":[0.35555555555555557,0.6444444444444445],\"y\":[0.0,1.0]}},{\"labels\":[\"FOOD#PRICES\",\"FOOD#QUALITY\",\"FOOD#STYLE&OPTIONS\",\"DRINKS#PRICES\",\"DRINKS#QUALITY\",\"DRINKS#STYLE&OPTIONS\",\"RESTAURANT#PRICES\",\"RESTAURANT#GENERAL\",\"RESTAURANT#MISCELLANEOUS\",\"SERVICE#GENERAL\",\"AMBIENCE#GENERAL\",\"LOCATION#GENERAL\"],\"name\":\"Test\",\"textposition\":\"inside\",\"values\":[245,1431,1022,99,509,305,244,620,348,678,577,248],\"type\":\"pie\",\"domain\":{\"x\":[0.7111111111111111,1.0],\"y\":[0.0,1.0]}}],                        {\"template\":{\"data\":{\"histogram2dcontour\":[{\"type\":\"histogram2dcontour\",\"colorbar\":{\"outlinewidth\":0,\"ticks\":\"\"},\"colorscale\":[[0.0,\"#0d0887\"],[0.1111111111111111,\"#46039f\"],[0.2222222222222222,\"#7201a8\"],[0.3333333333333333,\"#9c179e\"],[0.4444444444444444,\"#bd3786\"],[0.5555555555555556,\"#d8576b\"],[0.6666666666666666,\"#ed7953\"],[0.7777777777777778,\"#fb9f3a\"],[0.8888888888888888,\"#fdca26\"],[1.0,\"#f0f921\"]]}],\"choropleth\":[{\"type\":\"choropleth\",\"colorbar\":{\"outlinewidth\":0,\"ticks\":\"\"}}],\"histogram2d\":[{\"type\":\"histogram2d\",\"colorbar\":{\"outlinewidth\":0,\"ticks\":\"\"},\"colorscale\":[[0.0,\"#0d0887\"],[0.1111111111111111,\"#46039f\"],[0.2222222222222222,\"#7201a8\"],[0.3333333333333333,\"#9c179e\"],[0.4444444444444444,\"#bd3786\"],[0.5555555555555556,\"#d8576b\"],[0.6666666666666666,\"#ed7953\"],[0.7777777777777778,\"#fb9f3a\"],[0.8888888888888888,\"#fdca26\"],[1.0,\"#f0f921\"]]}],\"heatmap\":[{\"type\":\"heatmap\",\"colorbar\":{\"outlinewidth\":0,\"ticks\":\"\"},\"colorscale\":[[0.0,\"#0d0887\"],[0.1111111111111111,\"#46039f\"],[0.2222222222222222,\"#7201a8\"],[0.3333333333333333,\"#9c179e\"],[0.4444444444444444,\"#bd3786\"],[0.5555555555555556,\"#d8576b\"],[0.6666666666666666,\"#ed7953\"],[0.7777777777777778,\"#fb9f3a\"],[0.8888888888888888,\"#fdca26\"],[1.0,\"#f0f921\"]]}],\"heatmapgl\":[{\"type\":\"heatmapgl\",\"colorbar\":{\"outlinewidth\":0,\"ticks\":\"\"},\"colorscale\":[[0.0,\"#0d0887\"],[0.1111111111111111,\"#46039f\"],[0.2222222222222222,\"#7201a8\"],[0.3333333333333333,\"#9c179e\"],[0.4444444444444444,\"#bd3786\"],[0.5555555555555556,\"#d8576b\"],[0.6666666666666666,\"#ed7953\"],[0.7777777777777778,\"#fb9f3a\"],[0.8888888888888888,\"#fdca26\"],[1.0,\"#f0f921\"]]}],\"contourcarpet\":[{\"type\":\"contourcarpet\",\"colorbar\":{\"outlinewidth\":0,\"ticks\":\"\"}}],\"contour\":[{\"type\":\"contour\",\"colorbar\":{\"outlinewidth\":0,\"ticks\":\"\"},\"colorscale\":[[0.0,\"#0d0887\"],[0.1111111111111111,\"#46039f\"],[0.2222222222222222,\"#7201a8\"],[0.3333333333333333,\"#9c179e\"],[0.4444444444444444,\"#bd3786\"],[0.5555555555555556,\"#d8576b\"],[0.6666666666666666,\"#ed7953\"],[0.7777777777777778,\"#fb9f3a\"],[0.8888888888888888,\"#fdca26\"],[1.0,\"#f0f921\"]]}],\"surface\":[{\"type\":\"surface\",\"colorbar\":{\"outlinewidth\":0,\"ticks\":\"\"},\"colorscale\":[[0.0,\"#0d0887\"],[0.1111111111111111,\"#46039f\"],[0.2222222222222222,\"#7201a8\"],[0.3333333333333333,\"#9c179e\"],[0.4444444444444444,\"#bd3786\"],[0.5555555555555556,\"#d8576b\"],[0.6666666666666666,\"#ed7953\"],[0.7777777777777778,\"#fb9f3a\"],[0.8888888888888888,\"#fdca26\"],[1.0,\"#f0f921\"]]}],\"mesh3d\":[{\"type\":\"mesh3d\",\"colorbar\":{\"outlinewidth\":0,\"ticks\":\"\"}}],\"scatter\":[{\"fillpattern\":{\"fillmode\":\"overlay\",\"size\":10,\"solidity\":0.2},\"type\":\"scatter\"}],\"parcoords\":[{\"type\":\"parcoords\",\"line\":{\"colorbar\":{\"outlinewidth\":0,\"ticks\":\"\"}}}],\"scatterpolargl\":[{\"type\":\"scatterpolargl\",\"marker\":{\"colorbar\":{\"outlinewidth\":0,\"ticks\":\"\"}}}],\"bar\":[{\"error_x\":{\"color\":\"#2a3f5f\"},\"error_y\":{\"color\":\"#2a3f5f\"},\"marker\":{\"line\":{\"color\":\"#E5ECF6\",\"width\":0.5},\"pattern\":{\"fillmode\":\"overlay\",\"size\":10,\"solidity\":0.2}},\"type\":\"bar\"}],\"scattergeo\":[{\"type\":\"scattergeo\",\"marker\":{\"colorbar\":{\"outlinewidth\":0,\"ticks\":\"\"}}}],\"scatterpolar\":[{\"type\":\"scatterpolar\",\"marker\":{\"colorbar\":{\"outlinewidth\":0,\"ticks\":\"\"}}}],\"histogram\":[{\"marker\":{\"pattern\":{\"fillmode\":\"overlay\",\"size\":10,\"solidity\":0.2}},\"type\":\"histogram\"}],\"scattergl\":[{\"type\":\"scattergl\",\"marker\":{\"colorbar\":{\"outlinewidth\":0,\"ticks\":\"\"}}}],\"scatter3d\":[{\"type\":\"scatter3d\",\"line\":{\"colorbar\":{\"outlinewidth\":0,\"ticks\":\"\"}},\"marker\":{\"colorbar\":{\"outlinewidth\":0,\"ticks\":\"\"}}}],\"scattermapbox\":[{\"type\":\"scattermapbox\",\"marker\":{\"colorbar\":{\"outlinewidth\":0,\"ticks\":\"\"}}}],\"scatterternary\":[{\"type\":\"scatterternary\",\"marker\":{\"colorbar\":{\"outlinewidth\":0,\"ticks\":\"\"}}}],\"scattercarpet\":[{\"type\":\"scattercarpet\",\"marker\":{\"colorbar\":{\"outlinewidth\":0,\"ticks\":\"\"}}}],\"carpet\":[{\"aaxis\":{\"endlinecolor\":\"#2a3f5f\",\"gridcolor\":\"white\",\"linecolor\":\"white\",\"minorgridcolor\":\"white\",\"startlinecolor\":\"#2a3f5f\"},\"baxis\":{\"endlinecolor\":\"#2a3f5f\",\"gridcolor\":\"white\",\"linecolor\":\"white\",\"minorgridcolor\":\"white\",\"startlinecolor\":\"#2a3f5f\"},\"type\":\"carpet\"}],\"table\":[{\"cells\":{\"fill\":{\"color\":\"#EBF0F8\"},\"line\":{\"color\":\"white\"}},\"header\":{\"fill\":{\"color\":\"#C8D4E3\"},\"line\":{\"color\":\"white\"}},\"type\":\"table\"}],\"barpolar\":[{\"marker\":{\"line\":{\"color\":\"#E5ECF6\",\"width\":0.5},\"pattern\":{\"fillmode\":\"overlay\",\"size\":10,\"solidity\":0.2}},\"type\":\"barpolar\"}],\"pie\":[{\"automargin\":true,\"type\":\"pie\"}]},\"layout\":{\"autotypenumbers\":\"strict\",\"colorway\":[\"#636efa\",\"#EF553B\",\"#00cc96\",\"#ab63fa\",\"#FFA15A\",\"#19d3f3\",\"#FF6692\",\"#B6E880\",\"#FF97FF\",\"#FECB52\"],\"font\":{\"color\":\"#2a3f5f\"},\"hovermode\":\"closest\",\"hoverlabel\":{\"align\":\"left\"},\"paper_bgcolor\":\"white\",\"plot_bgcolor\":\"#E5ECF6\",\"polar\":{\"bgcolor\":\"#E5ECF6\",\"angularaxis\":{\"gridcolor\":\"white\",\"linecolor\":\"white\",\"ticks\":\"\"},\"radialaxis\":{\"gridcolor\":\"white\",\"linecolor\":\"white\",\"ticks\":\"\"}},\"ternary\":{\"bgcolor\":\"#E5ECF6\",\"aaxis\":{\"gridcolor\":\"white\",\"linecolor\":\"white\",\"ticks\":\"\"},\"baxis\":{\"gridcolor\":\"white\",\"linecolor\":\"white\",\"ticks\":\"\"},\"caxis\":{\"gridcolor\":\"white\",\"linecolor\":\"white\",\"ticks\":\"\"}},\"coloraxis\":{\"colorbar\":{\"outlinewidth\":0,\"ticks\":\"\"}},\"colorscale\":{\"sequential\":[[0.0,\"#0d0887\"],[0.1111111111111111,\"#46039f\"],[0.2222222222222222,\"#7201a8\"],[0.3333333333333333,\"#9c179e\"],[0.4444444444444444,\"#bd3786\"],[0.5555555555555556,\"#d8576b\"],[0.6666666666666666,\"#ed7953\"],[0.7777777777777778,\"#fb9f3a\"],[0.8888888888888888,\"#fdca26\"],[1.0,\"#f0f921\"]],\"sequentialminus\":[[0.0,\"#0d0887\"],[0.1111111111111111,\"#46039f\"],[0.2222222222222222,\"#7201a8\"],[0.3333333333333333,\"#9c179e\"],[0.4444444444444444,\"#bd3786\"],[0.5555555555555556,\"#d8576b\"],[0.6666666666666666,\"#ed7953\"],[0.7777777777777778,\"#fb9f3a\"],[0.8888888888888888,\"#fdca26\"],[1.0,\"#f0f921\"]],\"diverging\":[[0,\"#8e0152\"],[0.1,\"#c51b7d\"],[0.2,\"#de77ae\"],[0.3,\"#f1b6da\"],[0.4,\"#fde0ef\"],[0.5,\"#f7f7f7\"],[0.6,\"#e6f5d0\"],[0.7,\"#b8e186\"],[0.8,\"#7fbc41\"],[0.9,\"#4d9221\"],[1,\"#276419\"]]},\"xaxis\":{\"gridcolor\":\"white\",\"linecolor\":\"white\",\"ticks\":\"\",\"title\":{\"standoff\":15},\"zerolinecolor\":\"white\",\"automargin\":true,\"zerolinewidth\":2},\"yaxis\":{\"gridcolor\":\"white\",\"linecolor\":\"white\",\"ticks\":\"\",\"title\":{\"standoff\":15},\"zerolinecolor\":\"white\",\"automargin\":true,\"zerolinewidth\":2},\"scene\":{\"xaxis\":{\"backgroundcolor\":\"#E5ECF6\",\"gridcolor\":\"white\",\"linecolor\":\"white\",\"showbackground\":true,\"ticks\":\"\",\"zerolinecolor\":\"white\",\"gridwidth\":2},\"yaxis\":{\"backgroundcolor\":\"#E5ECF6\",\"gridcolor\":\"white\",\"linecolor\":\"white\",\"showbackground\":true,\"ticks\":\"\",\"zerolinecolor\":\"white\",\"gridwidth\":2},\"zaxis\":{\"backgroundcolor\":\"#E5ECF6\",\"gridcolor\":\"white\",\"linecolor\":\"white\",\"showbackground\":true,\"ticks\":\"\",\"zerolinecolor\":\"white\",\"gridwidth\":2}},\"shapedefaults\":{\"line\":{\"color\":\"#2a3f5f\"}},\"annotationdefaults\":{\"arrowcolor\":\"#2a3f5f\",\"arrowhead\":0,\"arrowwidth\":1},\"geo\":{\"bgcolor\":\"white\",\"landcolor\":\"#E5ECF6\",\"subunitcolor\":\"white\",\"showland\":true,\"showlakes\":true,\"lakecolor\":\"white\"},\"title\":{\"x\":0.05},\"mapbox\":{\"style\":\"light\"}}},\"annotations\":[{\"font\":{\"size\":16},\"showarrow\":false,\"text\":\"Train\",\"x\":0.14444444444444446,\"xanchor\":\"center\",\"xref\":\"paper\",\"y\":1.0,\"yanchor\":\"bottom\",\"yref\":\"paper\"},{\"font\":{\"size\":16},\"showarrow\":false,\"text\":\"Dev\",\"x\":0.5,\"xanchor\":\"center\",\"xref\":\"paper\",\"y\":1.0,\"yanchor\":\"bottom\",\"yref\":\"paper\"},{\"font\":{\"size\":16},\"showarrow\":false,\"text\":\"Test\",\"x\":0.8555555555555556,\"xanchor\":\"center\",\"xref\":\"paper\",\"y\":1.0,\"yanchor\":\"bottom\",\"yref\":\"paper\"}],\"title\":{\"text\":\"# of samples per aspect\"}},                        {\"responsive\": true}                    ).then(function(){\n",
              "                            \n",
              "var gd = document.getElementById('9de6526c-8086-4d47-ae38-8b68649cd257');\n",
              "var x = new MutationObserver(function (mutations, observer) {{\n",
              "        var display = window.getComputedStyle(gd).display;\n",
              "        if (!display || display === 'none') {{\n",
              "            console.log([gd, 'removed!']);\n",
              "            Plotly.purge(gd);\n",
              "            observer.disconnect();\n",
              "        }}\n",
              "}});\n",
              "\n",
              "// Listen for the removal of the full notebook cells\n",
              "var notebookContainer = gd.closest('#notebook-container');\n",
              "if (notebookContainer) {{\n",
              "    x.observe(notebookContainer, {childList: true});\n",
              "}}\n",
              "\n",
              "// Listen for the clearing of the current output cell\n",
              "var outputEl = gd.closest('.output');\n",
              "if (outputEl) {{\n",
              "    x.observe(outputEl, {childList: true});\n",
              "}}\n",
              "\n",
              "                        })                };                            </script>        </div>\n",
              "</body>\n",
              "</html>"
            ]
          },
          "metadata": {}
        }
      ],
      "source": [
        "import plotly.graph_objects as go\n",
        "from plotly.subplots import make_subplots\n",
        "\n",
        "def get_pie(df, name):\n",
        "    count = df.sum(axis=0)\n",
        "    return go.Pie(labels=count.index, values=count, \n",
        "                  textposition='inside', name=name)\n",
        "\n",
        "\n",
        "names = ('Train', 'Dev', 'Test')\n",
        "phaseA = (ytrain, ydev, ytest)\n",
        "\n",
        "fig = make_subplots(cols=3, subplot_titles=names,\n",
        "                    specs=[[{'type': 'pie'}] * 3])\n",
        "\n",
        "for i, (df, name) in enumerate(zip(phaseA, names), 1):\n",
        "    fig.add_trace(get_pie(df, name), row=1, col=i)\n",
        "\n",
        "fig.update_layout(title='# of samples per aspect')"
      ]
    },
    {
      "cell_type": "code",
      "execution_count": 15,
      "metadata": {
        "colab": {
          "base_uri": "https://localhost:8080/",
          "height": 542
        },
        "id": "VQLRJkhS1t83",
        "outputId": "a76c1118-b33b-477e-ea61-2844c7cc8732"
      },
      "outputs": [
        {
          "output_type": "display_data",
          "data": {
            "text/html": [
              "<html>\n",
              "<head><meta charset=\"utf-8\" /></head>\n",
              "<body>\n",
              "    <div>            <script src=\"https://cdnjs.cloudflare.com/ajax/libs/mathjax/2.7.5/MathJax.js?config=TeX-AMS-MML_SVG\"></script><script type=\"text/javascript\">if (window.MathJax && window.MathJax.Hub && window.MathJax.Hub.Config) {window.MathJax.Hub.Config({SVG: {font: \"STIX-Web\"}});}</script>                <script type=\"text/javascript\">window.PlotlyConfig = {MathJaxConfig: 'local'};</script>\n",
              "        <script src=\"https://cdn.plot.ly/plotly-2.18.2.min.js\"></script>                <div id=\"1b55429f-f721-406d-94f2-435266fca98e\" class=\"plotly-graph-div\" style=\"height:525px; width:100%;\"></div>            <script type=\"text/javascript\">                                    window.PLOTLYENV=window.PLOTLYENV || {};                                    if (document.getElementById(\"1b55429f-f721-406d-94f2-435266fca98e\")) {                    Plotly.newPlot(                        \"1b55429f-f721-406d-94f2-435266fca98e\",                        [{\"labels\":[\"FOOD#PRICES -\",\"FOOD#PRICES o\",\"FOOD#PRICES +\",\"FOOD#QUALITY -\",\"FOOD#QUALITY o\",\"FOOD#QUALITY +\",\"FOOD#STYLE&OPTIONS -\",\"FOOD#STYLE&OPTIONS o\",\"FOOD#STYLE&OPTIONS +\",\"DRINKS#PRICES -\",\"DRINKS#PRICES o\",\"DRINKS#PRICES +\",\"DRINKS#QUALITY -\",\"DRINKS#QUALITY o\",\"DRINKS#QUALITY +\",\"DRINKS#STYLE&OPTIONS -\",\"DRINKS#STYLE&OPTIONS o\",\"DRINKS#STYLE&OPTIONS +\",\"RESTAURANT#PRICES -\",\"RESTAURANT#PRICES o\",\"RESTAURANT#PRICES +\",\"RESTAURANT#GENERAL -\",\"RESTAURANT#GENERAL o\",\"RESTAURANT#GENERAL +\",\"RESTAURANT#MISCELLANEOUS -\",\"RESTAURANT#MISCELLANEOUS o\",\"RESTAURANT#MISCELLANEOUS +\",\"SERVICE#GENERAL -\",\"SERVICE#GENERAL o\",\"SERVICE#GENERAL +\",\"AMBIENCE#GENERAL -\",\"AMBIENCE#GENERAL o\",\"AMBIENCE#GENERAL +\",\"LOCATION#GENERAL -\",\"LOCATION#GENERAL o\",\"LOCATION#GENERAL +\"],\"name\":\"Train\",\"textposition\":\"inside\",\"values\":[52,258,91,310,309,1376,234,597,740,39,99,32,116,130,483,47,246,172,99,181,141,126,244,532,161,80,282,372,92,629,158,126,531,32,171,170],\"type\":\"pie\",\"domain\":{\"x\":[0.0,0.2888888888888889],\"y\":[0.0,1.0]}},{\"labels\":[\"FOOD#PRICES -\",\"FOOD#PRICES o\",\"FOOD#PRICES +\",\"FOOD#QUALITY -\",\"FOOD#QUALITY o\",\"FOOD#QUALITY +\",\"FOOD#STYLE&OPTIONS -\",\"FOOD#STYLE&OPTIONS o\",\"FOOD#STYLE&OPTIONS +\",\"DRINKS#PRICES -\",\"DRINKS#PRICES o\",\"DRINKS#PRICES +\",\"DRINKS#QUALITY -\",\"DRINKS#QUALITY o\",\"DRINKS#QUALITY +\",\"DRINKS#STYLE&OPTIONS -\",\"DRINKS#STYLE&OPTIONS o\",\"DRINKS#STYLE&OPTIONS +\",\"RESTAURANT#PRICES -\",\"RESTAURANT#PRICES o\",\"RESTAURANT#PRICES +\",\"RESTAURANT#GENERAL -\",\"RESTAURANT#GENERAL o\",\"RESTAURANT#GENERAL +\",\"RESTAURANT#MISCELLANEOUS -\",\"RESTAURANT#MISCELLANEOUS o\",\"RESTAURANT#MISCELLANEOUS +\",\"SERVICE#GENERAL -\",\"SERVICE#GENERAL o\",\"SERVICE#GENERAL +\",\"AMBIENCE#GENERAL -\",\"AMBIENCE#GENERAL o\",\"AMBIENCE#GENERAL +\",\"LOCATION#GENERAL -\",\"LOCATION#GENERAL o\",\"LOCATION#GENERAL +\"],\"name\":\"Dev\",\"textposition\":\"inside\",\"values\":[9,29,7,33,37,152,18,55,102,2,14,3,23,15,43,5,26,21,8,24,15,22,23,55,13,9,36,46,10,65,13,15,63,4,21,17],\"type\":\"pie\",\"domain\":{\"x\":[0.35555555555555557,0.6444444444444445],\"y\":[0.0,1.0]}},{\"labels\":[\"FOOD#PRICES -\",\"FOOD#PRICES o\",\"FOOD#PRICES +\",\"FOOD#QUALITY -\",\"FOOD#QUALITY o\",\"FOOD#QUALITY +\",\"FOOD#STYLE&OPTIONS -\",\"FOOD#STYLE&OPTIONS o\",\"FOOD#STYLE&OPTIONS +\",\"DRINKS#PRICES -\",\"DRINKS#PRICES o\",\"DRINKS#PRICES +\",\"DRINKS#QUALITY -\",\"DRINKS#QUALITY o\",\"DRINKS#QUALITY +\",\"DRINKS#STYLE&OPTIONS -\",\"DRINKS#STYLE&OPTIONS o\",\"DRINKS#STYLE&OPTIONS +\",\"RESTAURANT#PRICES -\",\"RESTAURANT#PRICES o\",\"RESTAURANT#PRICES +\",\"RESTAURANT#GENERAL -\",\"RESTAURANT#GENERAL o\",\"RESTAURANT#GENERAL +\",\"RESTAURANT#MISCELLANEOUS -\",\"RESTAURANT#MISCELLANEOUS o\",\"RESTAURANT#MISCELLANEOUS +\",\"SERVICE#GENERAL -\",\"SERVICE#GENERAL o\",\"SERVICE#GENERAL +\",\"AMBIENCE#GENERAL -\",\"AMBIENCE#GENERAL o\",\"AMBIENCE#GENERAL +\",\"LOCATION#GENERAL -\",\"LOCATION#GENERAL o\",\"LOCATION#GENERAL +\"],\"name\":\"Test\",\"textposition\":\"inside\",\"values\":[10,71,31,78,75,401,58,173,206,5,32,10,26,48,129,10,62,57,26,55,36,37,59,155,34,19,92,104,23,176,37,30,160,10,44,50],\"type\":\"pie\",\"domain\":{\"x\":[0.7111111111111111,1.0],\"y\":[0.0,1.0]}}],                        {\"template\":{\"data\":{\"histogram2dcontour\":[{\"type\":\"histogram2dcontour\",\"colorbar\":{\"outlinewidth\":0,\"ticks\":\"\"},\"colorscale\":[[0.0,\"#0d0887\"],[0.1111111111111111,\"#46039f\"],[0.2222222222222222,\"#7201a8\"],[0.3333333333333333,\"#9c179e\"],[0.4444444444444444,\"#bd3786\"],[0.5555555555555556,\"#d8576b\"],[0.6666666666666666,\"#ed7953\"],[0.7777777777777778,\"#fb9f3a\"],[0.8888888888888888,\"#fdca26\"],[1.0,\"#f0f921\"]]}],\"choropleth\":[{\"type\":\"choropleth\",\"colorbar\":{\"outlinewidth\":0,\"ticks\":\"\"}}],\"histogram2d\":[{\"type\":\"histogram2d\",\"colorbar\":{\"outlinewidth\":0,\"ticks\":\"\"},\"colorscale\":[[0.0,\"#0d0887\"],[0.1111111111111111,\"#46039f\"],[0.2222222222222222,\"#7201a8\"],[0.3333333333333333,\"#9c179e\"],[0.4444444444444444,\"#bd3786\"],[0.5555555555555556,\"#d8576b\"],[0.6666666666666666,\"#ed7953\"],[0.7777777777777778,\"#fb9f3a\"],[0.8888888888888888,\"#fdca26\"],[1.0,\"#f0f921\"]]}],\"heatmap\":[{\"type\":\"heatmap\",\"colorbar\":{\"outlinewidth\":0,\"ticks\":\"\"},\"colorscale\":[[0.0,\"#0d0887\"],[0.1111111111111111,\"#46039f\"],[0.2222222222222222,\"#7201a8\"],[0.3333333333333333,\"#9c179e\"],[0.4444444444444444,\"#bd3786\"],[0.5555555555555556,\"#d8576b\"],[0.6666666666666666,\"#ed7953\"],[0.7777777777777778,\"#fb9f3a\"],[0.8888888888888888,\"#fdca26\"],[1.0,\"#f0f921\"]]}],\"heatmapgl\":[{\"type\":\"heatmapgl\",\"colorbar\":{\"outlinewidth\":0,\"ticks\":\"\"},\"colorscale\":[[0.0,\"#0d0887\"],[0.1111111111111111,\"#46039f\"],[0.2222222222222222,\"#7201a8\"],[0.3333333333333333,\"#9c179e\"],[0.4444444444444444,\"#bd3786\"],[0.5555555555555556,\"#d8576b\"],[0.6666666666666666,\"#ed7953\"],[0.7777777777777778,\"#fb9f3a\"],[0.8888888888888888,\"#fdca26\"],[1.0,\"#f0f921\"]]}],\"contourcarpet\":[{\"type\":\"contourcarpet\",\"colorbar\":{\"outlinewidth\":0,\"ticks\":\"\"}}],\"contour\":[{\"type\":\"contour\",\"colorbar\":{\"outlinewidth\":0,\"ticks\":\"\"},\"colorscale\":[[0.0,\"#0d0887\"],[0.1111111111111111,\"#46039f\"],[0.2222222222222222,\"#7201a8\"],[0.3333333333333333,\"#9c179e\"],[0.4444444444444444,\"#bd3786\"],[0.5555555555555556,\"#d8576b\"],[0.6666666666666666,\"#ed7953\"],[0.7777777777777778,\"#fb9f3a\"],[0.8888888888888888,\"#fdca26\"],[1.0,\"#f0f921\"]]}],\"surface\":[{\"type\":\"surface\",\"colorbar\":{\"outlinewidth\":0,\"ticks\":\"\"},\"colorscale\":[[0.0,\"#0d0887\"],[0.1111111111111111,\"#46039f\"],[0.2222222222222222,\"#7201a8\"],[0.3333333333333333,\"#9c179e\"],[0.4444444444444444,\"#bd3786\"],[0.5555555555555556,\"#d8576b\"],[0.6666666666666666,\"#ed7953\"],[0.7777777777777778,\"#fb9f3a\"],[0.8888888888888888,\"#fdca26\"],[1.0,\"#f0f921\"]]}],\"mesh3d\":[{\"type\":\"mesh3d\",\"colorbar\":{\"outlinewidth\":0,\"ticks\":\"\"}}],\"scatter\":[{\"fillpattern\":{\"fillmode\":\"overlay\",\"size\":10,\"solidity\":0.2},\"type\":\"scatter\"}],\"parcoords\":[{\"type\":\"parcoords\",\"line\":{\"colorbar\":{\"outlinewidth\":0,\"ticks\":\"\"}}}],\"scatterpolargl\":[{\"type\":\"scatterpolargl\",\"marker\":{\"colorbar\":{\"outlinewidth\":0,\"ticks\":\"\"}}}],\"bar\":[{\"error_x\":{\"color\":\"#2a3f5f\"},\"error_y\":{\"color\":\"#2a3f5f\"},\"marker\":{\"line\":{\"color\":\"#E5ECF6\",\"width\":0.5},\"pattern\":{\"fillmode\":\"overlay\",\"size\":10,\"solidity\":0.2}},\"type\":\"bar\"}],\"scattergeo\":[{\"type\":\"scattergeo\",\"marker\":{\"colorbar\":{\"outlinewidth\":0,\"ticks\":\"\"}}}],\"scatterpolar\":[{\"type\":\"scatterpolar\",\"marker\":{\"colorbar\":{\"outlinewidth\":0,\"ticks\":\"\"}}}],\"histogram\":[{\"marker\":{\"pattern\":{\"fillmode\":\"overlay\",\"size\":10,\"solidity\":0.2}},\"type\":\"histogram\"}],\"scattergl\":[{\"type\":\"scattergl\",\"marker\":{\"colorbar\":{\"outlinewidth\":0,\"ticks\":\"\"}}}],\"scatter3d\":[{\"type\":\"scatter3d\",\"line\":{\"colorbar\":{\"outlinewidth\":0,\"ticks\":\"\"}},\"marker\":{\"colorbar\":{\"outlinewidth\":0,\"ticks\":\"\"}}}],\"scattermapbox\":[{\"type\":\"scattermapbox\",\"marker\":{\"colorbar\":{\"outlinewidth\":0,\"ticks\":\"\"}}}],\"scatterternary\":[{\"type\":\"scatterternary\",\"marker\":{\"colorbar\":{\"outlinewidth\":0,\"ticks\":\"\"}}}],\"scattercarpet\":[{\"type\":\"scattercarpet\",\"marker\":{\"colorbar\":{\"outlinewidth\":0,\"ticks\":\"\"}}}],\"carpet\":[{\"aaxis\":{\"endlinecolor\":\"#2a3f5f\",\"gridcolor\":\"white\",\"linecolor\":\"white\",\"minorgridcolor\":\"white\",\"startlinecolor\":\"#2a3f5f\"},\"baxis\":{\"endlinecolor\":\"#2a3f5f\",\"gridcolor\":\"white\",\"linecolor\":\"white\",\"minorgridcolor\":\"white\",\"startlinecolor\":\"#2a3f5f\"},\"type\":\"carpet\"}],\"table\":[{\"cells\":{\"fill\":{\"color\":\"#EBF0F8\"},\"line\":{\"color\":\"white\"}},\"header\":{\"fill\":{\"color\":\"#C8D4E3\"},\"line\":{\"color\":\"white\"}},\"type\":\"table\"}],\"barpolar\":[{\"marker\":{\"line\":{\"color\":\"#E5ECF6\",\"width\":0.5},\"pattern\":{\"fillmode\":\"overlay\",\"size\":10,\"solidity\":0.2}},\"type\":\"barpolar\"}],\"pie\":[{\"automargin\":true,\"type\":\"pie\"}]},\"layout\":{\"autotypenumbers\":\"strict\",\"colorway\":[\"#636efa\",\"#EF553B\",\"#00cc96\",\"#ab63fa\",\"#FFA15A\",\"#19d3f3\",\"#FF6692\",\"#B6E880\",\"#FF97FF\",\"#FECB52\"],\"font\":{\"color\":\"#2a3f5f\"},\"hovermode\":\"closest\",\"hoverlabel\":{\"align\":\"left\"},\"paper_bgcolor\":\"white\",\"plot_bgcolor\":\"#E5ECF6\",\"polar\":{\"bgcolor\":\"#E5ECF6\",\"angularaxis\":{\"gridcolor\":\"white\",\"linecolor\":\"white\",\"ticks\":\"\"},\"radialaxis\":{\"gridcolor\":\"white\",\"linecolor\":\"white\",\"ticks\":\"\"}},\"ternary\":{\"bgcolor\":\"#E5ECF6\",\"aaxis\":{\"gridcolor\":\"white\",\"linecolor\":\"white\",\"ticks\":\"\"},\"baxis\":{\"gridcolor\":\"white\",\"linecolor\":\"white\",\"ticks\":\"\"},\"caxis\":{\"gridcolor\":\"white\",\"linecolor\":\"white\",\"ticks\":\"\"}},\"coloraxis\":{\"colorbar\":{\"outlinewidth\":0,\"ticks\":\"\"}},\"colorscale\":{\"sequential\":[[0.0,\"#0d0887\"],[0.1111111111111111,\"#46039f\"],[0.2222222222222222,\"#7201a8\"],[0.3333333333333333,\"#9c179e\"],[0.4444444444444444,\"#bd3786\"],[0.5555555555555556,\"#d8576b\"],[0.6666666666666666,\"#ed7953\"],[0.7777777777777778,\"#fb9f3a\"],[0.8888888888888888,\"#fdca26\"],[1.0,\"#f0f921\"]],\"sequentialminus\":[[0.0,\"#0d0887\"],[0.1111111111111111,\"#46039f\"],[0.2222222222222222,\"#7201a8\"],[0.3333333333333333,\"#9c179e\"],[0.4444444444444444,\"#bd3786\"],[0.5555555555555556,\"#d8576b\"],[0.6666666666666666,\"#ed7953\"],[0.7777777777777778,\"#fb9f3a\"],[0.8888888888888888,\"#fdca26\"],[1.0,\"#f0f921\"]],\"diverging\":[[0,\"#8e0152\"],[0.1,\"#c51b7d\"],[0.2,\"#de77ae\"],[0.3,\"#f1b6da\"],[0.4,\"#fde0ef\"],[0.5,\"#f7f7f7\"],[0.6,\"#e6f5d0\"],[0.7,\"#b8e186\"],[0.8,\"#7fbc41\"],[0.9,\"#4d9221\"],[1,\"#276419\"]]},\"xaxis\":{\"gridcolor\":\"white\",\"linecolor\":\"white\",\"ticks\":\"\",\"title\":{\"standoff\":15},\"zerolinecolor\":\"white\",\"automargin\":true,\"zerolinewidth\":2},\"yaxis\":{\"gridcolor\":\"white\",\"linecolor\":\"white\",\"ticks\":\"\",\"title\":{\"standoff\":15},\"zerolinecolor\":\"white\",\"automargin\":true,\"zerolinewidth\":2},\"scene\":{\"xaxis\":{\"backgroundcolor\":\"#E5ECF6\",\"gridcolor\":\"white\",\"linecolor\":\"white\",\"showbackground\":true,\"ticks\":\"\",\"zerolinecolor\":\"white\",\"gridwidth\":2},\"yaxis\":{\"backgroundcolor\":\"#E5ECF6\",\"gridcolor\":\"white\",\"linecolor\":\"white\",\"showbackground\":true,\"ticks\":\"\",\"zerolinecolor\":\"white\",\"gridwidth\":2},\"zaxis\":{\"backgroundcolor\":\"#E5ECF6\",\"gridcolor\":\"white\",\"linecolor\":\"white\",\"showbackground\":true,\"ticks\":\"\",\"zerolinecolor\":\"white\",\"gridwidth\":2}},\"shapedefaults\":{\"line\":{\"color\":\"#2a3f5f\"}},\"annotationdefaults\":{\"arrowcolor\":\"#2a3f5f\",\"arrowhead\":0,\"arrowwidth\":1},\"geo\":{\"bgcolor\":\"white\",\"landcolor\":\"#E5ECF6\",\"subunitcolor\":\"white\",\"showland\":true,\"showlakes\":true,\"lakecolor\":\"white\"},\"title\":{\"x\":0.05},\"mapbox\":{\"style\":\"light\"}}},\"annotations\":[{\"font\":{\"size\":16},\"showarrow\":false,\"text\":\"Train\",\"x\":0.14444444444444446,\"xanchor\":\"center\",\"xref\":\"paper\",\"y\":1.0,\"yanchor\":\"bottom\",\"yref\":\"paper\"},{\"font\":{\"size\":16},\"showarrow\":false,\"text\":\"Dev\",\"x\":0.5,\"xanchor\":\"center\",\"xref\":\"paper\",\"y\":1.0,\"yanchor\":\"bottom\",\"yref\":\"paper\"},{\"font\":{\"size\":16},\"showarrow\":false,\"text\":\"Test\",\"x\":0.8555555555555556,\"xanchor\":\"center\",\"xref\":\"paper\",\"y\":1.0,\"yanchor\":\"bottom\",\"yref\":\"paper\"}],\"title\":{\"text\":\"# of samples per class (entity, sentiment)\"}},                        {\"responsive\": true}                    ).then(function(){\n",
              "                            \n",
              "var gd = document.getElementById('1b55429f-f721-406d-94f2-435266fca98e');\n",
              "var x = new MutationObserver(function (mutations, observer) {{\n",
              "        var display = window.getComputedStyle(gd).display;\n",
              "        if (!display || display === 'none') {{\n",
              "            console.log([gd, 'removed!']);\n",
              "            Plotly.purge(gd);\n",
              "            observer.disconnect();\n",
              "        }}\n",
              "}});\n",
              "\n",
              "// Listen for the removal of the full notebook cells\n",
              "var notebookContainer = gd.closest('#notebook-container');\n",
              "if (notebookContainer) {{\n",
              "    x.observe(notebookContainer, {childList: true});\n",
              "}}\n",
              "\n",
              "// Listen for the clearing of the current output cell\n",
              "var outputEl = gd.closest('.output');\n",
              "if (outputEl) {{\n",
              "    x.observe(outputEl, {childList: true});\n",
              "}}\n",
              "\n",
              "                        })                };                            </script>        </div>\n",
              "</body>\n",
              "</html>"
            ]
          },
          "metadata": {}
        }
      ],
      "source": [
        "phaseML = (ytrain_ml, ydev_ml, ytest_ml)\n",
        "\n",
        "fig = make_subplots(cols=3, subplot_titles=names,\n",
        "                    specs=[[{'type': 'pie'}] * 3])\n",
        "\n",
        "for i, (df, name) in enumerate(zip(phaseML, names), 1):\n",
        "    fig.add_trace(get_pie(df, name), row=1, col=i)\n",
        "\n",
        "fig.update_layout(title='# of samples per class (entity, sentiment)')"
      ]
    },
    {
      "cell_type": "markdown",
      "metadata": {
        "id": "tz4aAURfgKIW"
      },
      "source": [
        "# Feature extraction (Convert reviews to vectors)"
      ]
    },
    {
      "cell_type": "markdown",
      "metadata": {
        "id": "v2UquVpDgbvH"
      },
      "source": [
        "##  Basic features (1, 2, 3 grams)\n"
      ]
    },
    {
      "cell_type": "code",
      "execution_count": 30,
      "metadata": {
        "id": "UM3MhHNcPXR2"
      },
      "outputs": [],
      "source": [
        "from sklearn.feature_extraction.text import CountVectorizer\n",
        "\n",
        "vectorizer = CountVectorizer()\n",
        "\n",
        "# x data using advanced clean up class and basic features extrator\n",
        "xtrain_basef = vectorizer.fit_transform(xtrain)\n",
        "xdev_basef   = vectorizer.transform(xdev)\n",
        "xtest_basef  = vectorizer.transform(xtest)"
      ]
    },
    {
      "cell_type": "code",
      "execution_count": 16,
      "metadata": {
        "id": "YTpdlwwCgY2o"
      },
      "outputs": [],
      "source": [
        "# from sklearn.feature_extraction.text import TfidfVectorizer\n",
        "\n",
        "# vectorizer = TfidfVectorizer(ngram_range=(1, 3),\n",
        "#                              min_df=2, max_df=0.9)\n",
        "\n",
        "# # x data using advanced clean up class and basic features extrator\n",
        "# xtrain_basef = vectorizer.fit_transform(xtrain)\n",
        "# xdev_basef   = vectorizer.transform(xdev)\n",
        "# xtest_basef  = vectorizer.transform(xtest)"
      ]
    },
    {
      "cell_type": "code",
      "execution_count": 31,
      "metadata": {
        "colab": {
          "base_uri": "https://localhost:8080/"
        },
        "id": "8siUMrKjPXR2",
        "outputId": "c0590153-143e-4e16-fa94-47070652b1d4"
      },
      "outputs": [
        {
          "output_type": "execute_result",
          "data": {
            "text/plain": [
              "<7028x4768 sparse matrix of type '<class 'numpy.int64'>'\n",
              "\twith 103177 stored elements in Compressed Sparse Row format>"
            ]
          },
          "metadata": {},
          "execution_count": 31
        }
      ],
      "source": [
        "xtrain_basef"
      ]
    },
    {
      "cell_type": "code",
      "execution_count": 32,
      "metadata": {
        "colab": {
          "base_uri": "https://localhost:8080/"
        },
        "id": "egBRGMSHncKX",
        "outputId": "260d6816-8180-4570-cf39-95e6454ba02c"
      },
      "outputs": [
        {
          "output_type": "execute_result",
          "data": {
            "text/plain": [
              "(7028, 4768)"
            ]
          },
          "metadata": {},
          "execution_count": 32
        }
      ],
      "source": [
        "xtrain_basef.shape"
      ]
    },
    {
      "cell_type": "markdown",
      "metadata": {
        "cell_id": "00008-3e35d1d6-b9cd-4dc2-a45e-ccf833534cd9",
        "deepnote_cell_type": "markdown",
        "id": "ppKYl2LZPra0",
        "tags": []
      },
      "source": [
        "# Model Architectures"
      ]
    },
    {
      "cell_type": "markdown",
      "metadata": {
        "id": "rFrqY_VnqN-2"
      },
      "source": [
        "## End-to-End Architecture"
      ]
    },
    {
      "cell_type": "code",
      "execution_count": 19,
      "metadata": {
        "id": "Hpwu1HJLqWmT"
      },
      "outputs": [],
      "source": [
        "from sklearn.multioutput import MultiOutputClassifier as MOC"
      ]
    },
    {
      "cell_type": "markdown",
      "metadata": {
        "cell_id": "00011-0d327c11-f739-49f4-b198-560e8b9d6e52",
        "deepnote_cell_type": "markdown",
        "id": "J7cEYevzPrbB",
        "tags": []
      },
      "source": [
        "# Evaluation functions"
      ]
    },
    {
      "cell_type": "code",
      "execution_count": 20,
      "metadata": {
        "id": "RJ952C7RUM6Y"
      },
      "outputs": [],
      "source": [
        "from sklearn.metrics import f1_score, classification_report\n",
        "\n",
        "def quick_f1(y_true, y_pred):\n",
        "    y_pred = mo2ml(mo2df(y_pred))\n",
        "    return round(f1_score(y_true, y_pred, average='micro', zero_division=0), 4)\n",
        "\n",
        "def evaluate(model, X, y):\n",
        "    yb_true  = mo2ml(y)\n",
        "\n",
        "    yb_pred  = mo2df(model.predict(X))\n",
        "    yb_pred  = mo2ml(yb_pred)\n",
        "\n",
        "    return classification_report(yb_true, yb_pred, zero_division=0)"
      ]
    },
    {
      "cell_type": "markdown",
      "metadata": {
        "id": "1mOvkWcI-j4u"
      },
      "source": [
        "# Compare models"
      ]
    },
    {
      "cell_type": "markdown",
      "metadata": {
        "id": "qhF6HkLKNPSL"
      },
      "source": [
        "## Logistic Regression"
      ]
    },
    {
      "cell_type": "code",
      "execution_count": 33,
      "metadata": {
        "colab": {
          "base_uri": "https://localhost:8080/"
        },
        "id": "3srrPw5Ay7mn",
        "outputId": "370100a4-bd4d-4edb-a0f6-05852bfef4da"
      },
      "outputs": [
        {
          "output_type": "stream",
          "name": "stderr",
          "text": [
            "/usr/local/lib/python3.10/dist-packages/sklearn/linear_model/_logistic.py:458: ConvergenceWarning:\n",
            "\n",
            "lbfgs failed to converge (status=1):\n",
            "STOP: TOTAL NO. of ITERATIONS REACHED LIMIT.\n",
            "\n",
            "Increase the number of iterations (max_iter) or scale the data as shown in:\n",
            "    https://scikit-learn.org/stable/modules/preprocessing.html\n",
            "Please also refer to the documentation for alternative solver options:\n",
            "    https://scikit-learn.org/stable/modules/linear_model.html#logistic-regression\n",
            "\n",
            "/usr/local/lib/python3.10/dist-packages/sklearn/linear_model/_logistic.py:458: ConvergenceWarning:\n",
            "\n",
            "lbfgs failed to converge (status=1):\n",
            "STOP: TOTAL NO. of ITERATIONS REACHED LIMIT.\n",
            "\n",
            "Increase the number of iterations (max_iter) or scale the data as shown in:\n",
            "    https://scikit-learn.org/stable/modules/preprocessing.html\n",
            "Please also refer to the documentation for alternative solver options:\n",
            "    https://scikit-learn.org/stable/modules/linear_model.html#logistic-regression\n",
            "\n",
            "/usr/local/lib/python3.10/dist-packages/sklearn/linear_model/_logistic.py:458: ConvergenceWarning:\n",
            "\n",
            "lbfgs failed to converge (status=1):\n",
            "STOP: TOTAL NO. of ITERATIONS REACHED LIMIT.\n",
            "\n",
            "Increase the number of iterations (max_iter) or scale the data as shown in:\n",
            "    https://scikit-learn.org/stable/modules/preprocessing.html\n",
            "Please also refer to the documentation for alternative solver options:\n",
            "    https://scikit-learn.org/stable/modules/linear_model.html#logistic-regression\n",
            "\n"
          ]
        },
        {
          "output_type": "stream",
          "name": "stdout",
          "text": [
            "Micro F1 score on train: 0.914\n",
            "Micro F1 score on dev 0.558\n",
            "Micro F1 score on test 0.5571\n",
            "              precision    recall  f1-score   support\n",
            "\n",
            "           0       0.00      0.00      0.00        10\n",
            "           1       0.60      0.41      0.49        71\n",
            "           2       0.47      0.29      0.36        31\n",
            "           3       0.42      0.22      0.29        78\n",
            "           4       0.49      0.33      0.40        75\n",
            "           5       0.74      0.74      0.74       401\n",
            "           6       0.48      0.28      0.35        58\n",
            "           7       0.52      0.45      0.48       173\n",
            "           8       0.62      0.47      0.53       206\n",
            "           9       0.20      0.20      0.20         5\n",
            "          10       0.23      0.09      0.13        32\n",
            "          11       0.50      0.10      0.17        10\n",
            "          12       0.47      0.31      0.37        26\n",
            "          13       0.60      0.25      0.35        48\n",
            "          14       0.58      0.59      0.58       129\n",
            "          15       0.00      0.00      0.00        10\n",
            "          16       0.50      0.48      0.49        62\n",
            "          17       0.41      0.21      0.28        57\n",
            "          18       0.65      0.50      0.57        26\n",
            "          19       0.69      0.44      0.53        55\n",
            "          20       0.53      0.44      0.48        36\n",
            "          21       0.42      0.22      0.29        37\n",
            "          22       0.39      0.25      0.31        59\n",
            "          23       0.54      0.40      0.46       155\n",
            "          24       0.43      0.29      0.35        34\n",
            "          25       0.33      0.16      0.21        19\n",
            "          26       0.74      0.47      0.57        92\n",
            "          27       0.73      0.60      0.66       104\n",
            "          28       0.30      0.13      0.18        23\n",
            "          29       0.84      0.76      0.80       176\n",
            "          30       0.71      0.65      0.68        37\n",
            "          31       0.29      0.13      0.18        30\n",
            "          32       0.83      0.74      0.79       160\n",
            "          33       0.50      0.10      0.17        10\n",
            "          34       0.63      0.55      0.59        44\n",
            "          35       0.77      0.54      0.64        50\n",
            "\n",
            "   micro avg       0.64      0.49      0.56      2629\n",
            "   macro avg       0.51      0.36      0.41      2629\n",
            "weighted avg       0.61      0.49      0.54      2629\n",
            " samples avg       0.52      0.51      0.50      2629\n",
            "\n"
          ]
        }
      ],
      "source": [
        "from sklearn.linear_model import LogisticRegression\n",
        "\n",
        "lr = MOC(LogisticRegression())\n",
        "lr.fit(xtrain_basef, ytrain)\n",
        "\n",
        "print('Micro F1 score on train:',quick_f1(ytrain_ml  , lr.predict(xtrain_basef)))\n",
        "print('Micro F1 score on dev',quick_f1(ydev_ml  , lr.predict(xdev_basef)))\n",
        "print('Micro F1 score on test',quick_f1(ytest_ml , lr.predict(xtest_basef)))\n",
        "print(evaluate(lr, xtest_basef, ytest))"
      ]
    },
    {
      "cell_type": "markdown",
      "metadata": {
        "id": "37vd9rwqPXR4"
      },
      "source": [
        "## Support Vector Machine"
      ]
    },
    {
      "cell_type": "code",
      "execution_count": 34,
      "metadata": {
        "colab": {
          "base_uri": "https://localhost:8080/"
        },
        "id": "vW1fbZJLPXR4",
        "outputId": "4208dc0c-cd14-4d7d-a959-d5e6eb5e494c"
      },
      "outputs": [
        {
          "output_type": "stream",
          "name": "stdout",
          "text": [
            "Micro F1 score on train: 0.8145\n",
            "Micro F1 score on dev 0.4589\n",
            "Micro F1 score on test 0.4868\n",
            "              precision    recall  f1-score   support\n",
            "\n",
            "           0       0.00      0.00      0.00        10\n",
            "           1       0.78      0.10      0.17        71\n",
            "           2       0.00      0.00      0.00        31\n",
            "           3       0.67      0.05      0.10        78\n",
            "           4       0.93      0.17      0.29        75\n",
            "           5       0.78      0.72      0.75       401\n",
            "           6       0.76      0.22      0.35        58\n",
            "           7       0.75      0.27      0.40       173\n",
            "           8       0.77      0.33      0.46       206\n",
            "           9       0.00      0.00      0.00         5\n",
            "          10       0.00      0.00      0.00        32\n",
            "          11       0.00      0.00      0.00        10\n",
            "          12       0.00      0.00      0.00        26\n",
            "          13       0.00      0.00      0.00        48\n",
            "          14       0.69      0.46      0.55       129\n",
            "          15       0.00      0.00      0.00        10\n",
            "          16       0.85      0.27      0.41        62\n",
            "          17       0.00      0.00      0.00        57\n",
            "          18       1.00      0.42      0.59        26\n",
            "          19       0.88      0.27      0.42        55\n",
            "          20       0.75      0.33      0.46        36\n",
            "          21       1.00      0.03      0.05        37\n",
            "          22       0.64      0.15      0.25        59\n",
            "          23       0.76      0.19      0.30       155\n",
            "          24       0.67      0.18      0.28        34\n",
            "          25       0.00      0.00      0.00        19\n",
            "          26       1.00      0.15      0.26        92\n",
            "          27       0.71      0.31      0.43       104\n",
            "          28       1.00      0.04      0.08        23\n",
            "          29       0.89      0.75      0.81       176\n",
            "          30       0.92      0.30      0.45        37\n",
            "          31       0.50      0.10      0.17        30\n",
            "          32       0.84      0.60      0.70       160\n",
            "          33       0.00      0.00      0.00        10\n",
            "          34       0.61      0.32      0.42        44\n",
            "          35       0.95      0.42      0.58        50\n",
            "\n",
            "   micro avg       0.79      0.35      0.49      2629\n",
            "   macro avg       0.56      0.20      0.27      2629\n",
            "weighted avg       0.72      0.35      0.44      2629\n",
            " samples avg       0.43      0.37      0.39      2629\n",
            "\n"
          ]
        }
      ],
      "source": [
        "from sklearn.svm import SVC\n",
        "\n",
        "svc = MOC(SVC())\n",
        "svc.fit(xtrain_basef, ytrain)\n",
        "\n",
        "print('Micro F1 score on train:',quick_f1(ytrain_ml  , svc.predict(xtrain_basef)))\n",
        "print('Micro F1 score on dev',quick_f1(ydev_ml  , svc.predict(xdev_basef)))\n",
        "print('Micro F1 score on test',quick_f1(ytest_ml , svc.predict(xtest_basef)))\n",
        "print(evaluate(svc, xtest_basef, ytest))"
      ]
    },
    {
      "cell_type": "markdown",
      "metadata": {
        "id": "dgLxF_zP7l26"
      },
      "source": [
        "## Unicode normalization"
      ]
    },
    {
      "cell_type": "code",
      "execution_count": null,
      "metadata": {
        "id": "7vOYbrYIAFjU"
      },
      "outputs": [],
      "source": [
        "# import unicodedata\n",
        "\n",
        "# dựng_sẵn = '\\u1EA0'\n",
        "# tổ_hợp   = '\\u0041\\u0323'\n",
        "\n",
        "# print(dựng_sẵn, tổ_hợp)\n",
        "# print(dựng_sẵn == tổ_hợp)\n",
        "\n",
        "# print('-'*10)\n",
        "\n",
        "# dựng_sẵn = unicodedata.normalize('NFC', dựng_sẵn)\n",
        "# tổ_hợp   = unicodedata.normalize('NFC', tổ_hợp)\n",
        "\n",
        "# print(dựng_sẵn, tổ_hợp)\n",
        "# print(dựng_sẵn == tổ_hợp)"
      ]
    },
    {
      "cell_type": "markdown",
      "metadata": {
        "id": "WgNHI9f9B4d_"
      },
      "source": [
        "## Test TextCleaner class"
      ]
    },
    {
      "cell_type": "code",
      "execution_count": null,
      "metadata": {
        "id": "W__UH-mI8isz"
      },
      "outputs": [],
      "source": [
        "# texts = ['K khí trong lành. đồ ăn hong ngon, thức uống  K tồi; 🥙🌮',\n",
        "#          'khung cảnh xinh đẹp',\n",
        "#          'khuyến mãi cực sốc giả chỉ 1000 đồng',\n",
        "#          '200k quá mắc',\n",
        "#          'món ăn này mắc quá tới 200k lận. ngày 23/3/2000 😴',\n",
        "#          'mua 100.000vnd',\n",
        "#          'bán 1,000,000 d. 5 cái bành xèo tốn 500k',\n",
        "#          'bán 1.000.000 d. 5 cái bành xèo tốn 500k %^^4',\n",
        "#          'món ăn này có giá 10 lít',\n",
        "#          'món ăn này tận 100 nghìn đồng',\n",
        "#          'bán 1.000đ',\n",
        "#          'quán này có giá trung bình từ 100k-200k 😛',\n",
        "#          'quán này có giá trung bình từ 100-200k 😫',\n",
        "#          '#mắc #food',\n",
        "#          'bàn ghế sạch đẹp, thái độ nhân viên ok#restaurant 😍',\n",
        "#          '#tiktok ở nhà vẫn vui',\n",
        "#          '# birthday ngày mai có tiệc ^^',\n",
        "#          'aslkdhlakd#tiktok#learn asljdalskjd',\n",
        "#          '#tiktok   #learn',\n",
        "#          '#hastag alskjdlasjd #hastag asdsadas #hastag 😁',\n",
        "#          '#123&456',\n",
        "#          '#!?@!']\n",
        "\n",
        "# cleaner = TextCleaner()\n",
        "# for t in cleaner.fit_transform(texts):\n",
        "#     print(t.strip())"
      ]
    },
    {
      "cell_type": "markdown",
      "source": [
        "#Export file"
      ],
      "metadata": {
        "id": "TH3ik81KlfA8"
      }
    },
    {
      "cell_type": "code",
      "source": [
        "testpredict = lr.predict(xtest_basef)\n",
        "# for i in testpredict:\n",
        "#   print(i)"
      ],
      "metadata": {
        "id": "PeT1AfcqToE5"
      },
      "execution_count": 35,
      "outputs": []
    },
    {
      "cell_type": "code",
      "source": [
        "number = list()\n",
        "f = open(\"/content/Corpus-Lingistic-CS321/file text/Test.txt\", 'r', encoding ='UTF8')\n",
        "tem = f.readlines()\n",
        "f.close()\n",
        "for i in range(0, len(tem), 4):\n",
        "  number.append(tem[i])\n",
        "# print(number)"
      ],
      "metadata": {
        "id": "YL8Twt2-fBKz"
      },
      "execution_count": 36,
      "outputs": []
    },
    {
      "cell_type": "code",
      "source": [
        "value = ['negative', 'neutral', 'positive']"
      ],
      "metadata": {
        "id": "shk1DOjJgkFj"
      },
      "execution_count": 25,
      "outputs": []
    },
    {
      "cell_type": "markdown",
      "source": [
        "##Export csv file"
      ],
      "metadata": {
        "id": "Ij_nv1ZwmURl"
      }
    },
    {
      "cell_type": "code",
      "source": [
        "f = open('/content/test.txt', 'w', encoding='UTF-8')\n",
        "for i in range(0,len(sentences_review)):\n",
        "  f.write(number[i])\n",
        "  f.write(sentences_review[i])\n",
        "  f.write('\\n')\n",
        "  countlabel = 0\n",
        "  count = 0\n",
        "  for j in range(0,len(testpredict[i])):\n",
        "    if testpredict[i][j] != 0:\n",
        "      countlabel += 1\n",
        "  if countlabel != 0:\n",
        "    temp = ''\n",
        "    for j in range(0, len(testpredict[i])):\n",
        "      if testpredict[i][j] == 1:\n",
        "        temp = '{'+ aspects[j] + ', ' + value[0] + '}'\n",
        "        count += 1\n",
        "      elif testpredict[i][j] == 2:\n",
        "        temp = '{'+ aspects[j] + ', ' + value[1] + '}'\n",
        "        count += 1\n",
        "      elif testpredict[i][j] == 3:\n",
        "        temp = '{'+ aspects[j] + ', ' + value[2] + '}'\n",
        "        count += 1\n",
        "      if count < countlabel:\n",
        "        temp += ','\n",
        "    f.write(temp)\n",
        "  f.write('\\n')\n",
        "  f.write('\\n')\n",
        "f.close()"
      ],
      "metadata": {
        "id": "ORjaS0wXfxt6"
      },
      "execution_count": 37,
      "outputs": []
    },
    {
      "cell_type": "markdown",
      "source": [
        "##Export 10 text files"
      ],
      "metadata": {
        "id": "qdhAapBBmX6x"
      }
    },
    {
      "cell_type": "code",
      "source": [
        "from google.colab import files"
      ],
      "metadata": {
        "id": "HnAupQHRmuqz"
      },
      "execution_count": 28,
      "outputs": []
    },
    {
      "cell_type": "code",
      "source": [
        "f = open('/content/test.txt', 'r', encoding='UTF-8')\n",
        "test_file = f.readlines()\n",
        "f.close()\n",
        "num = 1\n",
        "tem = []\n",
        "count = 0\n",
        "for idx in test_file:\n",
        "  tem.append(idx)\n",
        "  count += 1\n",
        "  if count == 800:\n",
        "    with open('{}.txt'.format(num),'w', encoding='utf-8') as f:\n",
        "      for i in tem:\n",
        "        f.write(i)\n",
        "    files.download('{}.txt'.format(num))\n",
        "    num += 1\n",
        "    count = 0\n",
        "    tem = []\n",
        "    continue\n",
        "with open('{}.txt'.format(num),'w', encoding='utf-8') as f:\n",
        "    for i in tem:\n",
        "       f.write(i)\n",
        "files.download('{}.txt'.format(num))\n",
        "f.close()"
      ],
      "metadata": {
        "colab": {
          "base_uri": "https://localhost:8080/",
          "height": 17
        },
        "id": "TVOgXg0jk_Kr",
        "outputId": "a5ea2acd-93a4-4165-a8c7-36f1c0f0c51a"
      },
      "execution_count": 38,
      "outputs": [
        {
          "output_type": "display_data",
          "data": {
            "text/plain": [
              "<IPython.core.display.Javascript object>"
            ],
            "application/javascript": [
              "\n",
              "    async function download(id, filename, size) {\n",
              "      if (!google.colab.kernel.accessAllowed) {\n",
              "        return;\n",
              "      }\n",
              "      const div = document.createElement('div');\n",
              "      const label = document.createElement('label');\n",
              "      label.textContent = `Downloading \"${filename}\": `;\n",
              "      div.appendChild(label);\n",
              "      const progress = document.createElement('progress');\n",
              "      progress.max = size;\n",
              "      div.appendChild(progress);\n",
              "      document.body.appendChild(div);\n",
              "\n",
              "      const buffers = [];\n",
              "      let downloaded = 0;\n",
              "\n",
              "      const channel = await google.colab.kernel.comms.open(id);\n",
              "      // Send a message to notify the kernel that we're ready.\n",
              "      channel.send({})\n",
              "\n",
              "      for await (const message of channel.messages) {\n",
              "        // Send a message to notify the kernel that we're ready.\n",
              "        channel.send({})\n",
              "        if (message.buffers) {\n",
              "          for (const buffer of message.buffers) {\n",
              "            buffers.push(buffer);\n",
              "            downloaded += buffer.byteLength;\n",
              "            progress.value = downloaded;\n",
              "          }\n",
              "        }\n",
              "      }\n",
              "      const blob = new Blob(buffers, {type: 'application/binary'});\n",
              "      const a = document.createElement('a');\n",
              "      a.href = window.URL.createObjectURL(blob);\n",
              "      a.download = filename;\n",
              "      div.appendChild(a);\n",
              "      a.click();\n",
              "      div.remove();\n",
              "    }\n",
              "  "
            ]
          },
          "metadata": {}
        },
        {
          "output_type": "display_data",
          "data": {
            "text/plain": [
              "<IPython.core.display.Javascript object>"
            ],
            "application/javascript": [
              "download(\"download_43bd196f-3366-4521-9f9c-3cd3a3de204c\", \"1.txt\", 25939)"
            ]
          },
          "metadata": {}
        },
        {
          "output_type": "display_data",
          "data": {
            "text/plain": [
              "<IPython.core.display.Javascript object>"
            ],
            "application/javascript": [
              "\n",
              "    async function download(id, filename, size) {\n",
              "      if (!google.colab.kernel.accessAllowed) {\n",
              "        return;\n",
              "      }\n",
              "      const div = document.createElement('div');\n",
              "      const label = document.createElement('label');\n",
              "      label.textContent = `Downloading \"${filename}\": `;\n",
              "      div.appendChild(label);\n",
              "      const progress = document.createElement('progress');\n",
              "      progress.max = size;\n",
              "      div.appendChild(progress);\n",
              "      document.body.appendChild(div);\n",
              "\n",
              "      const buffers = [];\n",
              "      let downloaded = 0;\n",
              "\n",
              "      const channel = await google.colab.kernel.comms.open(id);\n",
              "      // Send a message to notify the kernel that we're ready.\n",
              "      channel.send({})\n",
              "\n",
              "      for await (const message of channel.messages) {\n",
              "        // Send a message to notify the kernel that we're ready.\n",
              "        channel.send({})\n",
              "        if (message.buffers) {\n",
              "          for (const buffer of message.buffers) {\n",
              "            buffers.push(buffer);\n",
              "            downloaded += buffer.byteLength;\n",
              "            progress.value = downloaded;\n",
              "          }\n",
              "        }\n",
              "      }\n",
              "      const blob = new Blob(buffers, {type: 'application/binary'});\n",
              "      const a = document.createElement('a');\n",
              "      a.href = window.URL.createObjectURL(blob);\n",
              "      a.download = filename;\n",
              "      div.appendChild(a);\n",
              "      a.click();\n",
              "      div.remove();\n",
              "    }\n",
              "  "
            ]
          },
          "metadata": {}
        },
        {
          "output_type": "display_data",
          "data": {
            "text/plain": [
              "<IPython.core.display.Javascript object>"
            ],
            "application/javascript": [
              "download(\"download_5f40a98d-b9fe-48cf-948c-3db55e5df59c\", \"2.txt\", 23610)"
            ]
          },
          "metadata": {}
        },
        {
          "output_type": "display_data",
          "data": {
            "text/plain": [
              "<IPython.core.display.Javascript object>"
            ],
            "application/javascript": [
              "\n",
              "    async function download(id, filename, size) {\n",
              "      if (!google.colab.kernel.accessAllowed) {\n",
              "        return;\n",
              "      }\n",
              "      const div = document.createElement('div');\n",
              "      const label = document.createElement('label');\n",
              "      label.textContent = `Downloading \"${filename}\": `;\n",
              "      div.appendChild(label);\n",
              "      const progress = document.createElement('progress');\n",
              "      progress.max = size;\n",
              "      div.appendChild(progress);\n",
              "      document.body.appendChild(div);\n",
              "\n",
              "      const buffers = [];\n",
              "      let downloaded = 0;\n",
              "\n",
              "      const channel = await google.colab.kernel.comms.open(id);\n",
              "      // Send a message to notify the kernel that we're ready.\n",
              "      channel.send({})\n",
              "\n",
              "      for await (const message of channel.messages) {\n",
              "        // Send a message to notify the kernel that we're ready.\n",
              "        channel.send({})\n",
              "        if (message.buffers) {\n",
              "          for (const buffer of message.buffers) {\n",
              "            buffers.push(buffer);\n",
              "            downloaded += buffer.byteLength;\n",
              "            progress.value = downloaded;\n",
              "          }\n",
              "        }\n",
              "      }\n",
              "      const blob = new Blob(buffers, {type: 'application/binary'});\n",
              "      const a = document.createElement('a');\n",
              "      a.href = window.URL.createObjectURL(blob);\n",
              "      a.download = filename;\n",
              "      div.appendChild(a);\n",
              "      a.click();\n",
              "      div.remove();\n",
              "    }\n",
              "  "
            ]
          },
          "metadata": {}
        },
        {
          "output_type": "display_data",
          "data": {
            "text/plain": [
              "<IPython.core.display.Javascript object>"
            ],
            "application/javascript": [
              "download(\"download_926536d3-98ca-45ef-a254-c2b6a3e3e7e4\", \"3.txt\", 25762)"
            ]
          },
          "metadata": {}
        },
        {
          "output_type": "display_data",
          "data": {
            "text/plain": [
              "<IPython.core.display.Javascript object>"
            ],
            "application/javascript": [
              "\n",
              "    async function download(id, filename, size) {\n",
              "      if (!google.colab.kernel.accessAllowed) {\n",
              "        return;\n",
              "      }\n",
              "      const div = document.createElement('div');\n",
              "      const label = document.createElement('label');\n",
              "      label.textContent = `Downloading \"${filename}\": `;\n",
              "      div.appendChild(label);\n",
              "      const progress = document.createElement('progress');\n",
              "      progress.max = size;\n",
              "      div.appendChild(progress);\n",
              "      document.body.appendChild(div);\n",
              "\n",
              "      const buffers = [];\n",
              "      let downloaded = 0;\n",
              "\n",
              "      const channel = await google.colab.kernel.comms.open(id);\n",
              "      // Send a message to notify the kernel that we're ready.\n",
              "      channel.send({})\n",
              "\n",
              "      for await (const message of channel.messages) {\n",
              "        // Send a message to notify the kernel that we're ready.\n",
              "        channel.send({})\n",
              "        if (message.buffers) {\n",
              "          for (const buffer of message.buffers) {\n",
              "            buffers.push(buffer);\n",
              "            downloaded += buffer.byteLength;\n",
              "            progress.value = downloaded;\n",
              "          }\n",
              "        }\n",
              "      }\n",
              "      const blob = new Blob(buffers, {type: 'application/binary'});\n",
              "      const a = document.createElement('a');\n",
              "      a.href = window.URL.createObjectURL(blob);\n",
              "      a.download = filename;\n",
              "      div.appendChild(a);\n",
              "      a.click();\n",
              "      div.remove();\n",
              "    }\n",
              "  "
            ]
          },
          "metadata": {}
        },
        {
          "output_type": "display_data",
          "data": {
            "text/plain": [
              "<IPython.core.display.Javascript object>"
            ],
            "application/javascript": [
              "download(\"download_383d0988-eb7c-4180-8234-3e9ef3821df6\", \"4.txt\", 23439)"
            ]
          },
          "metadata": {}
        },
        {
          "output_type": "display_data",
          "data": {
            "text/plain": [
              "<IPython.core.display.Javascript object>"
            ],
            "application/javascript": [
              "\n",
              "    async function download(id, filename, size) {\n",
              "      if (!google.colab.kernel.accessAllowed) {\n",
              "        return;\n",
              "      }\n",
              "      const div = document.createElement('div');\n",
              "      const label = document.createElement('label');\n",
              "      label.textContent = `Downloading \"${filename}\": `;\n",
              "      div.appendChild(label);\n",
              "      const progress = document.createElement('progress');\n",
              "      progress.max = size;\n",
              "      div.appendChild(progress);\n",
              "      document.body.appendChild(div);\n",
              "\n",
              "      const buffers = [];\n",
              "      let downloaded = 0;\n",
              "\n",
              "      const channel = await google.colab.kernel.comms.open(id);\n",
              "      // Send a message to notify the kernel that we're ready.\n",
              "      channel.send({})\n",
              "\n",
              "      for await (const message of channel.messages) {\n",
              "        // Send a message to notify the kernel that we're ready.\n",
              "        channel.send({})\n",
              "        if (message.buffers) {\n",
              "          for (const buffer of message.buffers) {\n",
              "            buffers.push(buffer);\n",
              "            downloaded += buffer.byteLength;\n",
              "            progress.value = downloaded;\n",
              "          }\n",
              "        }\n",
              "      }\n",
              "      const blob = new Blob(buffers, {type: 'application/binary'});\n",
              "      const a = document.createElement('a');\n",
              "      a.href = window.URL.createObjectURL(blob);\n",
              "      a.download = filename;\n",
              "      div.appendChild(a);\n",
              "      a.click();\n",
              "      div.remove();\n",
              "    }\n",
              "  "
            ]
          },
          "metadata": {}
        },
        {
          "output_type": "display_data",
          "data": {
            "text/plain": [
              "<IPython.core.display.Javascript object>"
            ],
            "application/javascript": [
              "download(\"download_d86015ac-c35d-4b09-aa24-a05181d94820\", \"5.txt\", 22360)"
            ]
          },
          "metadata": {}
        },
        {
          "output_type": "display_data",
          "data": {
            "text/plain": [
              "<IPython.core.display.Javascript object>"
            ],
            "application/javascript": [
              "\n",
              "    async function download(id, filename, size) {\n",
              "      if (!google.colab.kernel.accessAllowed) {\n",
              "        return;\n",
              "      }\n",
              "      const div = document.createElement('div');\n",
              "      const label = document.createElement('label');\n",
              "      label.textContent = `Downloading \"${filename}\": `;\n",
              "      div.appendChild(label);\n",
              "      const progress = document.createElement('progress');\n",
              "      progress.max = size;\n",
              "      div.appendChild(progress);\n",
              "      document.body.appendChild(div);\n",
              "\n",
              "      const buffers = [];\n",
              "      let downloaded = 0;\n",
              "\n",
              "      const channel = await google.colab.kernel.comms.open(id);\n",
              "      // Send a message to notify the kernel that we're ready.\n",
              "      channel.send({})\n",
              "\n",
              "      for await (const message of channel.messages) {\n",
              "        // Send a message to notify the kernel that we're ready.\n",
              "        channel.send({})\n",
              "        if (message.buffers) {\n",
              "          for (const buffer of message.buffers) {\n",
              "            buffers.push(buffer);\n",
              "            downloaded += buffer.byteLength;\n",
              "            progress.value = downloaded;\n",
              "          }\n",
              "        }\n",
              "      }\n",
              "      const blob = new Blob(buffers, {type: 'application/binary'});\n",
              "      const a = document.createElement('a');\n",
              "      a.href = window.URL.createObjectURL(blob);\n",
              "      a.download = filename;\n",
              "      div.appendChild(a);\n",
              "      a.click();\n",
              "      div.remove();\n",
              "    }\n",
              "  "
            ]
          },
          "metadata": {}
        },
        {
          "output_type": "display_data",
          "data": {
            "text/plain": [
              "<IPython.core.display.Javascript object>"
            ],
            "application/javascript": [
              "download(\"download_6e5ebe6b-6997-4589-a0a2-5d897693b258\", \"6.txt\", 24533)"
            ]
          },
          "metadata": {}
        },
        {
          "output_type": "display_data",
          "data": {
            "text/plain": [
              "<IPython.core.display.Javascript object>"
            ],
            "application/javascript": [
              "\n",
              "    async function download(id, filename, size) {\n",
              "      if (!google.colab.kernel.accessAllowed) {\n",
              "        return;\n",
              "      }\n",
              "      const div = document.createElement('div');\n",
              "      const label = document.createElement('label');\n",
              "      label.textContent = `Downloading \"${filename}\": `;\n",
              "      div.appendChild(label);\n",
              "      const progress = document.createElement('progress');\n",
              "      progress.max = size;\n",
              "      div.appendChild(progress);\n",
              "      document.body.appendChild(div);\n",
              "\n",
              "      const buffers = [];\n",
              "      let downloaded = 0;\n",
              "\n",
              "      const channel = await google.colab.kernel.comms.open(id);\n",
              "      // Send a message to notify the kernel that we're ready.\n",
              "      channel.send({})\n",
              "\n",
              "      for await (const message of channel.messages) {\n",
              "        // Send a message to notify the kernel that we're ready.\n",
              "        channel.send({})\n",
              "        if (message.buffers) {\n",
              "          for (const buffer of message.buffers) {\n",
              "            buffers.push(buffer);\n",
              "            downloaded += buffer.byteLength;\n",
              "            progress.value = downloaded;\n",
              "          }\n",
              "        }\n",
              "      }\n",
              "      const blob = new Blob(buffers, {type: 'application/binary'});\n",
              "      const a = document.createElement('a');\n",
              "      a.href = window.URL.createObjectURL(blob);\n",
              "      a.download = filename;\n",
              "      div.appendChild(a);\n",
              "      a.click();\n",
              "      div.remove();\n",
              "    }\n",
              "  "
            ]
          },
          "metadata": {}
        },
        {
          "output_type": "display_data",
          "data": {
            "text/plain": [
              "<IPython.core.display.Javascript object>"
            ],
            "application/javascript": [
              "download(\"download_e229bd96-d3d6-4934-8829-9d2a23774b97\", \"7.txt\", 25559)"
            ]
          },
          "metadata": {}
        },
        {
          "output_type": "display_data",
          "data": {
            "text/plain": [
              "<IPython.core.display.Javascript object>"
            ],
            "application/javascript": [
              "\n",
              "    async function download(id, filename, size) {\n",
              "      if (!google.colab.kernel.accessAllowed) {\n",
              "        return;\n",
              "      }\n",
              "      const div = document.createElement('div');\n",
              "      const label = document.createElement('label');\n",
              "      label.textContent = `Downloading \"${filename}\": `;\n",
              "      div.appendChild(label);\n",
              "      const progress = document.createElement('progress');\n",
              "      progress.max = size;\n",
              "      div.appendChild(progress);\n",
              "      document.body.appendChild(div);\n",
              "\n",
              "      const buffers = [];\n",
              "      let downloaded = 0;\n",
              "\n",
              "      const channel = await google.colab.kernel.comms.open(id);\n",
              "      // Send a message to notify the kernel that we're ready.\n",
              "      channel.send({})\n",
              "\n",
              "      for await (const message of channel.messages) {\n",
              "        // Send a message to notify the kernel that we're ready.\n",
              "        channel.send({})\n",
              "        if (message.buffers) {\n",
              "          for (const buffer of message.buffers) {\n",
              "            buffers.push(buffer);\n",
              "            downloaded += buffer.byteLength;\n",
              "            progress.value = downloaded;\n",
              "          }\n",
              "        }\n",
              "      }\n",
              "      const blob = new Blob(buffers, {type: 'application/binary'});\n",
              "      const a = document.createElement('a');\n",
              "      a.href = window.URL.createObjectURL(blob);\n",
              "      a.download = filename;\n",
              "      div.appendChild(a);\n",
              "      a.click();\n",
              "      div.remove();\n",
              "    }\n",
              "  "
            ]
          },
          "metadata": {}
        },
        {
          "output_type": "display_data",
          "data": {
            "text/plain": [
              "<IPython.core.display.Javascript object>"
            ],
            "application/javascript": [
              "download(\"download_e147ddca-3ea5-41d8-8670-78549015973f\", \"8.txt\", 25407)"
            ]
          },
          "metadata": {}
        },
        {
          "output_type": "display_data",
          "data": {
            "text/plain": [
              "<IPython.core.display.Javascript object>"
            ],
            "application/javascript": [
              "\n",
              "    async function download(id, filename, size) {\n",
              "      if (!google.colab.kernel.accessAllowed) {\n",
              "        return;\n",
              "      }\n",
              "      const div = document.createElement('div');\n",
              "      const label = document.createElement('label');\n",
              "      label.textContent = `Downloading \"${filename}\": `;\n",
              "      div.appendChild(label);\n",
              "      const progress = document.createElement('progress');\n",
              "      progress.max = size;\n",
              "      div.appendChild(progress);\n",
              "      document.body.appendChild(div);\n",
              "\n",
              "      const buffers = [];\n",
              "      let downloaded = 0;\n",
              "\n",
              "      const channel = await google.colab.kernel.comms.open(id);\n",
              "      // Send a message to notify the kernel that we're ready.\n",
              "      channel.send({})\n",
              "\n",
              "      for await (const message of channel.messages) {\n",
              "        // Send a message to notify the kernel that we're ready.\n",
              "        channel.send({})\n",
              "        if (message.buffers) {\n",
              "          for (const buffer of message.buffers) {\n",
              "            buffers.push(buffer);\n",
              "            downloaded += buffer.byteLength;\n",
              "            progress.value = downloaded;\n",
              "          }\n",
              "        }\n",
              "      }\n",
              "      const blob = new Blob(buffers, {type: 'application/binary'});\n",
              "      const a = document.createElement('a');\n",
              "      a.href = window.URL.createObjectURL(blob);\n",
              "      a.download = filename;\n",
              "      div.appendChild(a);\n",
              "      a.click();\n",
              "      div.remove();\n",
              "    }\n",
              "  "
            ]
          },
          "metadata": {}
        },
        {
          "output_type": "display_data",
          "data": {
            "text/plain": [
              "<IPython.core.display.Javascript object>"
            ],
            "application/javascript": [
              "download(\"download_11bc0d24-1c65-47b4-8df2-d32a1560d38b\", \"9.txt\", 24505)"
            ]
          },
          "metadata": {}
        },
        {
          "output_type": "display_data",
          "data": {
            "text/plain": [
              "<IPython.core.display.Javascript object>"
            ],
            "application/javascript": [
              "\n",
              "    async function download(id, filename, size) {\n",
              "      if (!google.colab.kernel.accessAllowed) {\n",
              "        return;\n",
              "      }\n",
              "      const div = document.createElement('div');\n",
              "      const label = document.createElement('label');\n",
              "      label.textContent = `Downloading \"${filename}\": `;\n",
              "      div.appendChild(label);\n",
              "      const progress = document.createElement('progress');\n",
              "      progress.max = size;\n",
              "      div.appendChild(progress);\n",
              "      document.body.appendChild(div);\n",
              "\n",
              "      const buffers = [];\n",
              "      let downloaded = 0;\n",
              "\n",
              "      const channel = await google.colab.kernel.comms.open(id);\n",
              "      // Send a message to notify the kernel that we're ready.\n",
              "      channel.send({})\n",
              "\n",
              "      for await (const message of channel.messages) {\n",
              "        // Send a message to notify the kernel that we're ready.\n",
              "        channel.send({})\n",
              "        if (message.buffers) {\n",
              "          for (const buffer of message.buffers) {\n",
              "            buffers.push(buffer);\n",
              "            downloaded += buffer.byteLength;\n",
              "            progress.value = downloaded;\n",
              "          }\n",
              "        }\n",
              "      }\n",
              "      const blob = new Blob(buffers, {type: 'application/binary'});\n",
              "      const a = document.createElement('a');\n",
              "      a.href = window.URL.createObjectURL(blob);\n",
              "      a.download = filename;\n",
              "      div.appendChild(a);\n",
              "      a.click();\n",
              "      div.remove();\n",
              "    }\n",
              "  "
            ]
          },
          "metadata": {}
        },
        {
          "output_type": "display_data",
          "data": {
            "text/plain": [
              "<IPython.core.display.Javascript object>"
            ],
            "application/javascript": [
              "download(\"download_14d35672-9f60-4f8a-a3e0-bc2153f07950\", \"10.txt\", 16851)"
            ]
          },
          "metadata": {}
        }
      ]
    }
  ],
  "metadata": {
    "colab": {
      "collapsed_sections": [
        "gtxqTCE_Prat"
      ],
      "provenance": []
    },
    "deepnote": {
      "is_reactive": false
    },
    "deepnote_execution_queue": [],
    "deepnote_notebook_id": "89096161-8db2-4c83-bd09-f2de34fe0e65",
    "kernelspec": {
      "display_name": "Python 3",
      "name": "python3"
    },
    "language_info": {
      "codemirror_mode": {
        "name": "ipython",
        "version": 3
      },
      "file_extension": ".py",
      "mimetype": "text/x-python",
      "name": "python",
      "nbconvert_exporter": "python",
      "pygments_lexer": "ipython3",
      "version": "3.10.4"
    },
    "orig_nbformat": 2,
    "accelerator": "GPU",
    "gpuClass": "standard"
  },
  "nbformat": 4,
  "nbformat_minor": 0
}