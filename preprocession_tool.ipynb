{
  "cells": [
    {
      "cell_type": "markdown",
      "metadata": {
        "id": "7IvR3JycPXRo"
      },
      "source": [
        "## Import packages"
      ]
    },
    {
      "cell_type": "code",
      "source": [
        "!pip install -Uq emoji==1.7\n",
        "!pip install -Uq optuna\n",
        "!pip install -Uq flashtext\n",
        "!pip install -Uq underthesea\n",
        "!pip install -Uq scikit-learn"
      ],
      "metadata": {
        "colab": {
          "base_uri": "https://localhost:8080/"
        },
        "id": "nEq-uS-qSmvo",
        "outputId": "bce8116d-141a-47e3-da16-b57fa41b4d16"
      },
      "execution_count": 1,
      "outputs": [
        {
          "output_type": "stream",
          "name": "stdout",
          "text": [
            "\u001b[?25l     \u001b[90m━━━━━━━━━━━━━━━━━━━━━━━━━━━━━━━━━━━━━━━━\u001b[0m \u001b[32m0.0/175.4 kB\u001b[0m \u001b[31m?\u001b[0m eta \u001b[36m-:--:--\u001b[0m\r\u001b[2K     \u001b[91m━━━━━━━━━━━━━━━━━━━━━━━━━━━━━━━━━━━━━━\u001b[0m\u001b[91m╸\u001b[0m \u001b[32m174.1/175.4 kB\u001b[0m \u001b[31m7.9 MB/s\u001b[0m eta \u001b[36m0:00:01\u001b[0m\r\u001b[2K     \u001b[90m━━━━━━━━━━━━━━━━━━━━━━━━━━━━━━━━━━━━━━━\u001b[0m \u001b[32m175.4/175.4 kB\u001b[0m \u001b[31m3.0 MB/s\u001b[0m eta \u001b[36m0:00:00\u001b[0m\n",
            "\u001b[?25h  Preparing metadata (setup.py) ... \u001b[?25l\u001b[?25hdone\n",
            "  Building wheel for emoji (setup.py) ... \u001b[?25l\u001b[?25hdone\n",
            "\u001b[2K     \u001b[90m━━━━━━━━━━━━━━━━━━━━━━━━━━━━━━━━━━━━━━\u001b[0m \u001b[32m365.7/365.7 kB\u001b[0m \u001b[31m29.1 MB/s\u001b[0m eta \u001b[36m0:00:00\u001b[0m\n",
            "\u001b[2K     \u001b[90m━━━━━━━━━━━━━━━━━━━━━━━━━━━━━━━━━━━━━━\u001b[0m \u001b[32m212.9/212.9 kB\u001b[0m \u001b[31m21.4 MB/s\u001b[0m eta \u001b[36m0:00:00\u001b[0m\n",
            "\u001b[2K     \u001b[90m━━━━━━━━━━━━━━━━━━━━━━━━━━━━━━━━━━━━━━━━\u001b[0m \u001b[32m78.7/78.7 kB\u001b[0m \u001b[31m8.6 MB/s\u001b[0m eta \u001b[36m0:00:00\u001b[0m\n",
            "\u001b[?25h  Preparing metadata (setup.py) ... \u001b[?25l\u001b[?25hdone\n",
            "  Building wheel for flashtext (setup.py) ... \u001b[?25l\u001b[?25hdone\n",
            "\u001b[2K     \u001b[90m━━━━━━━━━━━━━━━━━━━━━━━━━━━━━━━━━━━━━━━━\u001b[0m \u001b[32m19.2/19.2 MB\u001b[0m \u001b[31m48.0 MB/s\u001b[0m eta \u001b[36m0:00:00\u001b[0m\n",
            "\u001b[2K     \u001b[90m━━━━━━━━━━━━━━━━━━━━━━━━━━━━━━━━━━━━━━\u001b[0m \u001b[32m993.5/993.5 kB\u001b[0m \u001b[31m72.3 MB/s\u001b[0m eta \u001b[36m0:00:00\u001b[0m\n",
            "\u001b[2K     \u001b[90m━━━━━━━━━━━━━━━━━━━━━━━━━━━━━━━━━━━━━━\u001b[0m \u001b[32m599.6/599.6 kB\u001b[0m \u001b[31m53.6 MB/s\u001b[0m eta \u001b[36m0:00:00\u001b[0m\n",
            "\u001b[?25h"
          ]
        }
      ]
    },
    {
      "cell_type": "code",
      "execution_count": 2,
      "metadata": {
        "id": "g13UgoTNPXRt"
      },
      "outputs": [],
      "source": [
        "import re\n",
        "import unicodedata\n",
        "import numpy as np\n",
        "import pandas as pd\n",
        "from functools import partial\n",
        "from emoji import get_emoji_regexp\n",
        "from flashtext import KeywordProcessor\n",
        "from sklearn.base import BaseEstimator, TransformerMixin"
      ]
    },
    {
      "cell_type": "markdown",
      "metadata": {
        "id": "B0H8h_UD9PBW"
      },
      "source": [
        "## TextCleaner class"
      ]
    },
    {
      "cell_type": "code",
      "execution_count": 3,
      "metadata": {
        "cell_id": "00003-c74a2f8e-bc89-467a-85c2-abee6f93cd4f",
        "deepnote_cell_type": "code",
        "deepnote_to_be_reexecuted": false,
        "execution_millis": 1175,
        "execution_start": 1636288345626,
        "id": "ipXDgXJ5Pray",
        "source_hash": "e9c1ba90",
        "tags": []
      },
      "outputs": [],
      "source": [
        "from sklearn.base import BaseEstimator, TransformerMixin\n",
        "\n",
        "HASHTAG = 'hashtag'\n",
        "\n",
        "class TextCleanerBase(BaseEstimator, TransformerMixin):\n",
        "    def __init__(self):\n",
        "        super().__init__()\n",
        "\n",
        "        # Find emojis\n",
        "        emoji = get_emoji_regexp()\n",
        "\n",
        "        # Create preprocessing function\n",
        "        self.remove_emoji      = partial(emoji.sub, '')\n",
        "        self.normalize_unicode = partial(unicodedata.normalize, 'NFC')\n",
        "\n",
        "    def fit(self, X, y=None):\n",
        "        return self\n",
        "\n",
        "    def transform(self, X):\n",
        "        if not isinstance(X, pd.Series):\n",
        "            X = pd.Series(X)\n",
        "\n",
        "        return X.apply(str.lower) \\\n",
        "                .apply(self.remove_emoji) \\\n",
        "                .apply(self.normalize_unicode)\n",
        "        \n",
        "\n",
        "class TextCleaner(TextCleanerBase):\n",
        "    def __init__(self):\n",
        "        super().__init__()\n",
        "\n",
        "        # Find hashtag\n",
        "        hashtag = re.compile('#\\S+')\n",
        "\n",
        "        # Find price tags\n",
        "        pricetag = '((?:(?:\\d+[,\\.]?)+) ?(?:nghìn đồng|đồng|k|vnd|d|đ))'\n",
        "        pricetag = re.compile(pricetag)\n",
        "\n",
        "        # Find special characters\n",
        "        specialchar = r\"[\\\"#$%&'()*+,\\-.\\/\\\\:;<=>@[\\]^_`{|}~\\n\\r\\t]\"\n",
        "        specialchar = re.compile(specialchar)\n",
        "\n",
        "        # Spelling correction\n",
        "        rules = {\n",
        "            \"òa\":[\"oà\"], \"óa\":[\"oá\"], \"ỏa\":[\"oả\"], \"õa\":[\"oã\"], \"ọa\":[\"oạ\"],\n",
        "            \"òe\":[\"oè\"], \"óe\":[\"oé\"], \"ỏe\":[\"oẻ\"], \"õe\":[\"oẽ\"], \"ọe\":[\"oẹ\"],\n",
        "            \"ùy\":[\"uỳ\"], \"úy\":[\"uý\"], \"ủy\":[\"uỷ\"], \"ũy\":[\"uỹ\"], \"ụy\":[\"uỵ\"],\n",
        "            \"ùa\":[\"uà\"], \"úa\":[\"uá\"], \"ủa\":[\"uả\"], \"ũa\":[\"uã\"], \"ụa\":[\"uạ\"],\n",
        "            \"xảy\":[\"xẩy\"], \"bảy\":[\"bẩy\"], \"gãy\":[\"gẫy\"],\n",
        "            \"không\":[\"k\", \"hông\", \"ko\", \"khong\"]}\n",
        "\n",
        "        kp = KeywordProcessor(case_sensitive=False)\n",
        "        kp.add_keywords_from_dict(rules)\n",
        "\n",
        "        # Create preprocessing functions\n",
        "        self.autocorrect          = kp.replace_keywords\n",
        "        self.normalize_pricetag   = partial(pricetag.sub, 'giá_tiền')\n",
        "        self.normalize_hashtag    = partial(hashtag.sub, HASHTAG)\n",
        "        self.remove_specialchar   = partial(specialchar.sub, '')\n",
        "\n",
        "    def transform(self, X):\n",
        "        X = super().transform(X)\n",
        "\n",
        "        return X.apply(self.autocorrect) \\\n",
        "                .apply(self.normalize_pricetag) \\\n",
        "                .apply(self.normalize_hashtag) \\\n",
        "                .apply(self.remove_specialchar)\n"
      ]
    },
    {
      "cell_type": "markdown",
      "metadata": {
        "id": "KM0ohCtvRaHZ"
      },
      "source": [
        "## mo2ml - Multioutput to multilabel"
      ]
    },
    {
      "cell_type": "code",
      "execution_count": 4,
      "metadata": {
        "id": "iZif1GwORnKq"
      },
      "outputs": [],
      "source": [
        "aspects = ['FOOD#PRICES',\n",
        "           'FOOD#QUALITY',\n",
        "           'FOOD#STYLE&OPTIONS',\n",
        "           'DRINKS#PRICES',\n",
        "           'DRINKS#QUALITY',\n",
        "           'DRINKS#STYLE&OPTIONS',\n",
        "           'RESTAURANT#PRICES',\n",
        "           'RESTAURANT#GENERAL',\n",
        "           'RESTAURANT#MISCELLANEOUS',\n",
        "           'SERVICE#GENERAL',\n",
        "           'AMBIENCE#GENERAL',\n",
        "           'LOCATION#GENERAL']\n",
        "\n",
        "sentiments = ['-', 'o', '+']\n",
        "\n",
        "def mo2ml(y):\n",
        "    \"\"\"Convert multi-output to multi-label data\n",
        "    \"\"\"\n",
        "    newcols = [f'{a} {s}' for a in aspects for s in sentiments]\n",
        "\n",
        "    nrows, ncols = len(y), len(newcols)\n",
        "    ml = pd.DataFrame(np.zeros((nrows, ncols), dtype='bool'),\n",
        "                      columns=newcols)\n",
        "    \n",
        "    for i, a in enumerate(aspects):\n",
        "        for j in range(1, 4):\n",
        "            indices = y[a] == j\n",
        "            ml.iloc[indices, i * 3 + j - 1] = True\n",
        "\n",
        "    return ml"
      ]
    },
    {
      "cell_type": "markdown",
      "metadata": {
        "id": "jhbl0ne_6uET"
      },
      "source": [
        "## mo2df - Multioutput to DataFrame"
      ]
    },
    {
      "cell_type": "code",
      "execution_count": 5,
      "metadata": {
        "id": "yGc_-Ed_6zKL"
      },
      "outputs": [],
      "source": [
        "def mo2df(y):\n",
        "    if isinstance(y, pd.DataFrame):\n",
        "        return y\n",
        "    return pd.DataFrame(y, columns=aspects)"
      ]
    },
    {
      "cell_type": "markdown",
      "metadata": {
        "id": "WqJJy6pSPXRz"
      },
      "source": [
        "## Reading csv files"
      ]
    },
    {
      "cell_type": "code",
      "source": [
        "!git clone https://github.com/qhle2001/Corpus-Lingistic-CS321.git"
      ],
      "metadata": {
        "colab": {
          "base_uri": "https://localhost:8080/"
        },
        "id": "O3aHco6JTYhb",
        "outputId": "92bb9076-1298-43f6-da81-d942743c2c8a"
      },
      "execution_count": 6,
      "outputs": [
        {
          "output_type": "stream",
          "name": "stdout",
          "text": [
            "Cloning into 'Corpus-Lingistic-CS321'...\n",
            "remote: Enumerating objects: 17, done.\u001b[K\n",
            "remote: Counting objects: 100% (17/17), done.\u001b[K\n",
            "remote: Compressing objects: 100% (14/14), done.\u001b[K\n",
            "remote: Total 17 (delta 4), reused 10 (delta 3), pack-reused 0\u001b[K\n",
            "Unpacking objects: 100% (17/17), 2.36 MiB | 7.14 MiB/s, done.\n"
          ]
        }
      ]
    },
    {
      "cell_type": "code",
      "source": [
        "train_data = pd.read_csv('/content/Corpus-Lingistic-CS321/file csv/Train.csv')\n",
        "dev_data = pd.read_csv('/content/Corpus-Lingistic-CS321/file csv/Dev.csv')\n",
        "test_data = pd.read_csv('/content/Corpus-Lingistic-CS321/file csv/Test.csv')"
      ],
      "metadata": {
        "id": "2XIXtbTRTo9L"
      },
      "execution_count": 25,
      "outputs": []
    },
    {
      "cell_type": "code",
      "source": [
        "test_data.head()"
      ],
      "metadata": {
        "colab": {
          "base_uri": "https://localhost:8080/",
          "height": 825
        },
        "id": "MdWF3pYNgusJ",
        "outputId": "2dcd9e6b-10b6-4b63-9ae2-575a1d3d2b65"
      },
      "execution_count": 26,
      "outputs": [
        {
          "output_type": "execute_result",
          "data": {
            "text/plain": [
              "                                              review FOOD#PRICES FOOD#QUALITY  \\\n",
              "0  ❤ Bánh đc bao gói bao bì khá lạ, là túi nilong...         NaN          NaN   \n",
              "1                * soda and lemon thì cũng tạm được.         NaN          NaN   \n",
              "2  Mình sẽ ko baoh order ship thế này nữa, làm ăn...         NaN          NaN   \n",
              "3  Cơ sở Kichi Kichi này đã hạn chế về không gian...         NaN          NaN   \n",
              "4                     Nhắc 2 3 lần mới thấy đem tới.         NaN          NaN   \n",
              "\n",
              "  FOOD#STYLE&OPTIONS DRINKS#PRICES DRINKS#QUALITY DRINKS#STYLE&OPTIONS  \\\n",
              "0                NaN           NaN            NaN                  NaN   \n",
              "1                NaN           NaN        neutral                  NaN   \n",
              "2                NaN           NaN            NaN                  NaN   \n",
              "3                NaN           NaN            NaN                  NaN   \n",
              "4                NaN           NaN            NaN                  NaN   \n",
              "\n",
              "  RESTAURANT#PRICES RESTAURANT#GENERAL RESTAURANT#MISCELLANEOUS  \\\n",
              "0               NaN                NaN                 positive   \n",
              "1               NaN                NaN                      NaN   \n",
              "2               NaN                NaN                      NaN   \n",
              "3               NaN           positive                      NaN   \n",
              "4               NaN                NaN                      NaN   \n",
              "\n",
              "  SERVICE#GENERAL AMBIENCE#GENERAL LOCATION#GENERAL  \n",
              "0             NaN              NaN              NaN  \n",
              "1             NaN              NaN              NaN  \n",
              "2        negative              NaN              NaN  \n",
              "3             NaN         negative              NaN  \n",
              "4        negative              NaN              NaN  "
            ],
            "text/html": [
              "\n",
              "  <div id=\"df-02571f02-b744-4288-ba16-a39b87d429f9\">\n",
              "    <div class=\"colab-df-container\">\n",
              "      <div>\n",
              "<style scoped>\n",
              "    .dataframe tbody tr th:only-of-type {\n",
              "        vertical-align: middle;\n",
              "    }\n",
              "\n",
              "    .dataframe tbody tr th {\n",
              "        vertical-align: top;\n",
              "    }\n",
              "\n",
              "    .dataframe thead th {\n",
              "        text-align: right;\n",
              "    }\n",
              "</style>\n",
              "<table border=\"1\" class=\"dataframe\">\n",
              "  <thead>\n",
              "    <tr style=\"text-align: right;\">\n",
              "      <th></th>\n",
              "      <th>review</th>\n",
              "      <th>FOOD#PRICES</th>\n",
              "      <th>FOOD#QUALITY</th>\n",
              "      <th>FOOD#STYLE&amp;OPTIONS</th>\n",
              "      <th>DRINKS#PRICES</th>\n",
              "      <th>DRINKS#QUALITY</th>\n",
              "      <th>DRINKS#STYLE&amp;OPTIONS</th>\n",
              "      <th>RESTAURANT#PRICES</th>\n",
              "      <th>RESTAURANT#GENERAL</th>\n",
              "      <th>RESTAURANT#MISCELLANEOUS</th>\n",
              "      <th>SERVICE#GENERAL</th>\n",
              "      <th>AMBIENCE#GENERAL</th>\n",
              "      <th>LOCATION#GENERAL</th>\n",
              "    </tr>\n",
              "  </thead>\n",
              "  <tbody>\n",
              "    <tr>\n",
              "      <th>0</th>\n",
              "      <td>❤ Bánh đc bao gói bao bì khá lạ, là túi nilong...</td>\n",
              "      <td>NaN</td>\n",
              "      <td>NaN</td>\n",
              "      <td>NaN</td>\n",
              "      <td>NaN</td>\n",
              "      <td>NaN</td>\n",
              "      <td>NaN</td>\n",
              "      <td>NaN</td>\n",
              "      <td>NaN</td>\n",
              "      <td>positive</td>\n",
              "      <td>NaN</td>\n",
              "      <td>NaN</td>\n",
              "      <td>NaN</td>\n",
              "    </tr>\n",
              "    <tr>\n",
              "      <th>1</th>\n",
              "      <td>* soda and lemon thì cũng tạm được.</td>\n",
              "      <td>NaN</td>\n",
              "      <td>NaN</td>\n",
              "      <td>NaN</td>\n",
              "      <td>NaN</td>\n",
              "      <td>neutral</td>\n",
              "      <td>NaN</td>\n",
              "      <td>NaN</td>\n",
              "      <td>NaN</td>\n",
              "      <td>NaN</td>\n",
              "      <td>NaN</td>\n",
              "      <td>NaN</td>\n",
              "      <td>NaN</td>\n",
              "    </tr>\n",
              "    <tr>\n",
              "      <th>2</th>\n",
              "      <td>Mình sẽ ko baoh order ship thế này nữa, làm ăn...</td>\n",
              "      <td>NaN</td>\n",
              "      <td>NaN</td>\n",
              "      <td>NaN</td>\n",
              "      <td>NaN</td>\n",
              "      <td>NaN</td>\n",
              "      <td>NaN</td>\n",
              "      <td>NaN</td>\n",
              "      <td>NaN</td>\n",
              "      <td>NaN</td>\n",
              "      <td>negative</td>\n",
              "      <td>NaN</td>\n",
              "      <td>NaN</td>\n",
              "    </tr>\n",
              "    <tr>\n",
              "      <th>3</th>\n",
              "      <td>Cơ sở Kichi Kichi này đã hạn chế về không gian...</td>\n",
              "      <td>NaN</td>\n",
              "      <td>NaN</td>\n",
              "      <td>NaN</td>\n",
              "      <td>NaN</td>\n",
              "      <td>NaN</td>\n",
              "      <td>NaN</td>\n",
              "      <td>NaN</td>\n",
              "      <td>positive</td>\n",
              "      <td>NaN</td>\n",
              "      <td>NaN</td>\n",
              "      <td>negative</td>\n",
              "      <td>NaN</td>\n",
              "    </tr>\n",
              "    <tr>\n",
              "      <th>4</th>\n",
              "      <td>Nhắc 2 3 lần mới thấy đem tới.</td>\n",
              "      <td>NaN</td>\n",
              "      <td>NaN</td>\n",
              "      <td>NaN</td>\n",
              "      <td>NaN</td>\n",
              "      <td>NaN</td>\n",
              "      <td>NaN</td>\n",
              "      <td>NaN</td>\n",
              "      <td>NaN</td>\n",
              "      <td>NaN</td>\n",
              "      <td>negative</td>\n",
              "      <td>NaN</td>\n",
              "      <td>NaN</td>\n",
              "    </tr>\n",
              "  </tbody>\n",
              "</table>\n",
              "</div>\n",
              "      <button class=\"colab-df-convert\" onclick=\"convertToInteractive('df-02571f02-b744-4288-ba16-a39b87d429f9')\"\n",
              "              title=\"Convert this dataframe to an interactive table.\"\n",
              "              style=\"display:none;\">\n",
              "        \n",
              "  <svg xmlns=\"http://www.w3.org/2000/svg\" height=\"24px\"viewBox=\"0 0 24 24\"\n",
              "       width=\"24px\">\n",
              "    <path d=\"M0 0h24v24H0V0z\" fill=\"none\"/>\n",
              "    <path d=\"M18.56 5.44l.94 2.06.94-2.06 2.06-.94-2.06-.94-.94-2.06-.94 2.06-2.06.94zm-11 1L8.5 8.5l.94-2.06 2.06-.94-2.06-.94L8.5 2.5l-.94 2.06-2.06.94zm10 10l.94 2.06.94-2.06 2.06-.94-2.06-.94-.94-2.06-.94 2.06-2.06.94z\"/><path d=\"M17.41 7.96l-1.37-1.37c-.4-.4-.92-.59-1.43-.59-.52 0-1.04.2-1.43.59L10.3 9.45l-7.72 7.72c-.78.78-.78 2.05 0 2.83L4 21.41c.39.39.9.59 1.41.59.51 0 1.02-.2 1.41-.59l7.78-7.78 2.81-2.81c.8-.78.8-2.07 0-2.86zM5.41 20L4 18.59l7.72-7.72 1.47 1.35L5.41 20z\"/>\n",
              "  </svg>\n",
              "      </button>\n",
              "      \n",
              "  <style>\n",
              "    .colab-df-container {\n",
              "      display:flex;\n",
              "      flex-wrap:wrap;\n",
              "      gap: 12px;\n",
              "    }\n",
              "\n",
              "    .colab-df-convert {\n",
              "      background-color: #E8F0FE;\n",
              "      border: none;\n",
              "      border-radius: 50%;\n",
              "      cursor: pointer;\n",
              "      display: none;\n",
              "      fill: #1967D2;\n",
              "      height: 32px;\n",
              "      padding: 0 0 0 0;\n",
              "      width: 32px;\n",
              "    }\n",
              "\n",
              "    .colab-df-convert:hover {\n",
              "      background-color: #E2EBFA;\n",
              "      box-shadow: 0px 1px 2px rgba(60, 64, 67, 0.3), 0px 1px 3px 1px rgba(60, 64, 67, 0.15);\n",
              "      fill: #174EA6;\n",
              "    }\n",
              "\n",
              "    [theme=dark] .colab-df-convert {\n",
              "      background-color: #3B4455;\n",
              "      fill: #D2E3FC;\n",
              "    }\n",
              "\n",
              "    [theme=dark] .colab-df-convert:hover {\n",
              "      background-color: #434B5C;\n",
              "      box-shadow: 0px 1px 3px 1px rgba(0, 0, 0, 0.15);\n",
              "      filter: drop-shadow(0px 1px 2px rgba(0, 0, 0, 0.3));\n",
              "      fill: #FFFFFF;\n",
              "    }\n",
              "  </style>\n",
              "\n",
              "      <script>\n",
              "        const buttonEl =\n",
              "          document.querySelector('#df-02571f02-b744-4288-ba16-a39b87d429f9 button.colab-df-convert');\n",
              "        buttonEl.style.display =\n",
              "          google.colab.kernel.accessAllowed ? 'block' : 'none';\n",
              "\n",
              "        async function convertToInteractive(key) {\n",
              "          const element = document.querySelector('#df-02571f02-b744-4288-ba16-a39b87d429f9');\n",
              "          const dataTable =\n",
              "            await google.colab.kernel.invokeFunction('convertToInteractive',\n",
              "                                                     [key], {});\n",
              "          if (!dataTable) return;\n",
              "\n",
              "          const docLinkHtml = 'Like what you see? Visit the ' +\n",
              "            '<a target=\"_blank\" href=https://colab.research.google.com/notebooks/data_table.ipynb>data table notebook</a>'\n",
              "            + ' to learn more about interactive tables.';\n",
              "          element.innerHTML = '';\n",
              "          dataTable['output_type'] = 'display_data';\n",
              "          await google.colab.output.renderOutput(dataTable, element);\n",
              "          const docLink = document.createElement('div');\n",
              "          docLink.innerHTML = docLinkHtml;\n",
              "          element.appendChild(docLink);\n",
              "        }\n",
              "      </script>\n",
              "    </div>\n",
              "  </div>\n",
              "  "
            ]
          },
          "metadata": {},
          "execution_count": 26
        }
      ]
    },
    {
      "cell_type": "code",
      "source": [
        "sentences_review = test_data['review']\n",
        "print(sentences_review)"
      ],
      "metadata": {
        "colab": {
          "base_uri": "https://localhost:8080/"
        },
        "id": "4Rg6fhPbjbS7",
        "outputId": "520ccf11-581a-4781-aaee-2087e1da05b8"
      },
      "execution_count": 28,
      "outputs": [
        {
          "output_type": "stream",
          "name": "stdout",
          "text": [
            "0       ❤ Bánh đc bao gói bao bì khá lạ, là túi nilong...\n",
            "1                     * soda and lemon thì cũng tạm được.\n",
            "2       Mình sẽ ko baoh order ship thế này nữa, làm ăn...\n",
            "3       Cơ sở Kichi Kichi này đã hạn chế về không gian...\n",
            "4                          Nhắc 2 3 lần mới thấy đem tới.\n",
            "                              ...                        \n",
            "1933    Nước sốt, mình thử vị BBQ và Tiêu:cả hai cái đ...\n",
            "1934                           Phục vụ tệ, đồ ăn siêu tệ.\n",
            "1935    Lần 1 thì order 5 ly có hết 4 ly là cf trứng c...\n",
            "1936        Vừa sánh vừa béo ngậy mà thơm đậm mùi phomai.\n",
            "1937    Giá cả bình thg, đầy đủ mấy loại đồ ăn vặt mìn...\n",
            "Name: review, Length: 1938, dtype: object\n"
          ]
        }
      ]
    },
    {
      "cell_type": "code",
      "execution_count": 32,
      "metadata": {
        "id": "2AHiLec0PXRz"
      },
      "outputs": [],
      "source": [
        "# train_data = pd.read_csv('/content/Train.csv')\n",
        "# dev_data = pd.read_csv('/content/Dev.csv')\n",
        "# test_data = pd.read_csv('/content/Test.csv')"
      ]
    },
    {
      "cell_type": "code",
      "execution_count": 9,
      "metadata": {
        "id": "eNlyQuIOPXRz"
      },
      "outputs": [],
      "source": [
        "def ConvertOutput(df):\n",
        "    X = df.pop('review')\n",
        "    y = df.replace({np.nan: 0, \n",
        "                    'negative': 1, \n",
        "                    'neutral': 2, \n",
        "                    'positive': 3}).astype(np.uint8)\n",
        "\n",
        "    print('X.shape:', X.shape, 'y.shape:', y.shape)\n",
        "    return X, y"
      ]
    },
    {
      "cell_type": "code",
      "execution_count": 10,
      "metadata": {
        "colab": {
          "base_uri": "https://localhost:8080/"
        },
        "id": "X2_f6ZtBPXR0",
        "outputId": "8caa30d5-9507-4bce-d7cd-b3a52639aecf"
      },
      "outputs": [
        {
          "output_type": "stream",
          "name": "stdout",
          "text": [
            "X.shape: (7028,) y.shape: (7028, 12)\n",
            "X.shape: (771,) y.shape: (771, 12)\n",
            "X.shape: (1938,) y.shape: (1938, 12)\n"
          ]
        }
      ],
      "source": [
        "Xtrain, ytrain = ConvertOutput(train_data)\n",
        "Xdev,   ydev   = ConvertOutput(dev_data)\n",
        "Xtest,  ytest  = ConvertOutput(test_data)"
      ]
    },
    {
      "cell_type": "code",
      "execution_count": 11,
      "metadata": {
        "cell_id": "00000-d1f2d812-aabe-4dfd-9477-93be642302e1",
        "colab": {
          "base_uri": "https://localhost:8080/"
        },
        "deepnote_cell_type": "code",
        "deepnote_to_be_reexecuted": false,
        "execution_millis": 304,
        "execution_start": 1636288255576,
        "id": "gZj_jnCGPran",
        "outputId": "546d7daf-e9b1-4672-e3ad-c4e04f5d2e73",
        "source_hash": "1fdd19ce",
        "tags": []
      },
      "outputs": [
        {
          "output_type": "stream",
          "name": "stderr",
          "text": [
            "<ipython-input-3-5a91bb693718>:10: DeprecationWarning: 'emoji.get_emoji_regexp()' is deprecated and will be removed in version 2.0.0. If you want to remove emoji from a string, consider the method emoji.replace_emoji(str, replace='').\n",
            "To hide this warning, pin/downgrade the package to 'emoji~=1.6.3'\n",
            "  emoji = get_emoji_regexp()\n"
          ]
        }
      ],
      "source": [
        "# Advanced text cleanup\n",
        "cleaner       = TextCleaner()\n",
        "\n",
        "xtrain        = cleaner.transform(Xtrain)\n",
        "xdev          = cleaner.transform(Xdev)\n",
        "xtest         = cleaner.transform(Xtest)"
      ]
    },
    {
      "cell_type": "code",
      "execution_count": 12,
      "metadata": {
        "id": "MeYOZp0Uc2I9"
      },
      "outputs": [],
      "source": [
        "# y target for evaluation\n",
        "ytrain_ml = mo2ml(ytrain)\n",
        "ydev_ml   = mo2ml(ydev)\n",
        "ytest_ml  = mo2ml(ytest)"
      ]
    },
    {
      "cell_type": "markdown",
      "metadata": {
        "id": "03IBx4ZS8tn4"
      },
      "source": [
        "## Class distribution"
      ]
    },
    {
      "cell_type": "code",
      "execution_count": 13,
      "metadata": {
        "colab": {
          "base_uri": "https://localhost:8080/",
          "height": 542
        },
        "id": "ohAmNN9b50AH",
        "outputId": "aaa8cee6-087f-43b7-80d8-f478ae62d7a6"
      },
      "outputs": [
        {
          "output_type": "display_data",
          "data": {
            "text/html": [
              "<html>\n",
              "<head><meta charset=\"utf-8\" /></head>\n",
              "<body>\n",
              "    <div>            <script src=\"https://cdnjs.cloudflare.com/ajax/libs/mathjax/2.7.5/MathJax.js?config=TeX-AMS-MML_SVG\"></script><script type=\"text/javascript\">if (window.MathJax && window.MathJax.Hub && window.MathJax.Hub.Config) {window.MathJax.Hub.Config({SVG: {font: \"STIX-Web\"}});}</script>                <script type=\"text/javascript\">window.PlotlyConfig = {MathJaxConfig: 'local'};</script>\n",
              "        <script src=\"https://cdn.plot.ly/plotly-2.18.2.min.js\"></script>                <div id=\"ddc9b4ac-45e8-4940-b31d-f7e6cac00f04\" class=\"plotly-graph-div\" style=\"height:525px; width:100%;\"></div>            <script type=\"text/javascript\">                                    window.PLOTLYENV=window.PLOTLYENV || {};                                    if (document.getElementById(\"ddc9b4ac-45e8-4940-b31d-f7e6cac00f04\")) {                    Plotly.newPlot(                        \"ddc9b4ac-45e8-4940-b31d-f7e6cac00f04\",                        [{\"labels\":[\"FOOD#PRICES\",\"FOOD#QUALITY\",\"FOOD#STYLE&OPTIONS\",\"DRINKS#PRICES\",\"DRINKS#QUALITY\",\"DRINKS#STYLE&OPTIONS\",\"RESTAURANT#PRICES\",\"RESTAURANT#GENERAL\",\"RESTAURANT#MISCELLANEOUS\",\"SERVICE#GENERAL\",\"AMBIENCE#GENERAL\",\"LOCATION#GENERAL\"],\"name\":\"Train\",\"textposition\":\"inside\",\"values\":[841,5056,3648,333,1825,1055,884,2210,1167,2443,2003,884],\"type\":\"pie\",\"domain\":{\"x\":[0.0,0.2888888888888889],\"y\":[0.0,1.0]}},{\"labels\":[\"FOOD#PRICES\",\"FOOD#QUALITY\",\"FOOD#STYLE&OPTIONS\",\"DRINKS#PRICES\",\"DRINKS#QUALITY\",\"DRINKS#STYLE&OPTIONS\",\"RESTAURANT#PRICES\",\"RESTAURANT#GENERAL\",\"RESTAURANT#MISCELLANEOUS\",\"SERVICE#GENERAL\",\"AMBIENCE#GENERAL\",\"LOCATION#GENERAL\"],\"name\":\"Dev\",\"textposition\":\"inside\",\"values\":[88,563,434,39,182,120,101,233,139,261,232,97],\"type\":\"pie\",\"domain\":{\"x\":[0.35555555555555557,0.6444444444444445],\"y\":[0.0,1.0]}},{\"labels\":[\"FOOD#PRICES\",\"FOOD#QUALITY\",\"FOOD#STYLE&OPTIONS\",\"DRINKS#PRICES\",\"DRINKS#QUALITY\",\"DRINKS#STYLE&OPTIONS\",\"RESTAURANT#PRICES\",\"RESTAURANT#GENERAL\",\"RESTAURANT#MISCELLANEOUS\",\"SERVICE#GENERAL\",\"AMBIENCE#GENERAL\",\"LOCATION#GENERAL\"],\"name\":\"Test\",\"textposition\":\"inside\",\"values\":[245,1431,1022,99,509,305,244,620,348,678,577,248],\"type\":\"pie\",\"domain\":{\"x\":[0.7111111111111111,1.0],\"y\":[0.0,1.0]}}],                        {\"template\":{\"data\":{\"histogram2dcontour\":[{\"type\":\"histogram2dcontour\",\"colorbar\":{\"outlinewidth\":0,\"ticks\":\"\"},\"colorscale\":[[0.0,\"#0d0887\"],[0.1111111111111111,\"#46039f\"],[0.2222222222222222,\"#7201a8\"],[0.3333333333333333,\"#9c179e\"],[0.4444444444444444,\"#bd3786\"],[0.5555555555555556,\"#d8576b\"],[0.6666666666666666,\"#ed7953\"],[0.7777777777777778,\"#fb9f3a\"],[0.8888888888888888,\"#fdca26\"],[1.0,\"#f0f921\"]]}],\"choropleth\":[{\"type\":\"choropleth\",\"colorbar\":{\"outlinewidth\":0,\"ticks\":\"\"}}],\"histogram2d\":[{\"type\":\"histogram2d\",\"colorbar\":{\"outlinewidth\":0,\"ticks\":\"\"},\"colorscale\":[[0.0,\"#0d0887\"],[0.1111111111111111,\"#46039f\"],[0.2222222222222222,\"#7201a8\"],[0.3333333333333333,\"#9c179e\"],[0.4444444444444444,\"#bd3786\"],[0.5555555555555556,\"#d8576b\"],[0.6666666666666666,\"#ed7953\"],[0.7777777777777778,\"#fb9f3a\"],[0.8888888888888888,\"#fdca26\"],[1.0,\"#f0f921\"]]}],\"heatmap\":[{\"type\":\"heatmap\",\"colorbar\":{\"outlinewidth\":0,\"ticks\":\"\"},\"colorscale\":[[0.0,\"#0d0887\"],[0.1111111111111111,\"#46039f\"],[0.2222222222222222,\"#7201a8\"],[0.3333333333333333,\"#9c179e\"],[0.4444444444444444,\"#bd3786\"],[0.5555555555555556,\"#d8576b\"],[0.6666666666666666,\"#ed7953\"],[0.7777777777777778,\"#fb9f3a\"],[0.8888888888888888,\"#fdca26\"],[1.0,\"#f0f921\"]]}],\"heatmapgl\":[{\"type\":\"heatmapgl\",\"colorbar\":{\"outlinewidth\":0,\"ticks\":\"\"},\"colorscale\":[[0.0,\"#0d0887\"],[0.1111111111111111,\"#46039f\"],[0.2222222222222222,\"#7201a8\"],[0.3333333333333333,\"#9c179e\"],[0.4444444444444444,\"#bd3786\"],[0.5555555555555556,\"#d8576b\"],[0.6666666666666666,\"#ed7953\"],[0.7777777777777778,\"#fb9f3a\"],[0.8888888888888888,\"#fdca26\"],[1.0,\"#f0f921\"]]}],\"contourcarpet\":[{\"type\":\"contourcarpet\",\"colorbar\":{\"outlinewidth\":0,\"ticks\":\"\"}}],\"contour\":[{\"type\":\"contour\",\"colorbar\":{\"outlinewidth\":0,\"ticks\":\"\"},\"colorscale\":[[0.0,\"#0d0887\"],[0.1111111111111111,\"#46039f\"],[0.2222222222222222,\"#7201a8\"],[0.3333333333333333,\"#9c179e\"],[0.4444444444444444,\"#bd3786\"],[0.5555555555555556,\"#d8576b\"],[0.6666666666666666,\"#ed7953\"],[0.7777777777777778,\"#fb9f3a\"],[0.8888888888888888,\"#fdca26\"],[1.0,\"#f0f921\"]]}],\"surface\":[{\"type\":\"surface\",\"colorbar\":{\"outlinewidth\":0,\"ticks\":\"\"},\"colorscale\":[[0.0,\"#0d0887\"],[0.1111111111111111,\"#46039f\"],[0.2222222222222222,\"#7201a8\"],[0.3333333333333333,\"#9c179e\"],[0.4444444444444444,\"#bd3786\"],[0.5555555555555556,\"#d8576b\"],[0.6666666666666666,\"#ed7953\"],[0.7777777777777778,\"#fb9f3a\"],[0.8888888888888888,\"#fdca26\"],[1.0,\"#f0f921\"]]}],\"mesh3d\":[{\"type\":\"mesh3d\",\"colorbar\":{\"outlinewidth\":0,\"ticks\":\"\"}}],\"scatter\":[{\"fillpattern\":{\"fillmode\":\"overlay\",\"size\":10,\"solidity\":0.2},\"type\":\"scatter\"}],\"parcoords\":[{\"type\":\"parcoords\",\"line\":{\"colorbar\":{\"outlinewidth\":0,\"ticks\":\"\"}}}],\"scatterpolargl\":[{\"type\":\"scatterpolargl\",\"marker\":{\"colorbar\":{\"outlinewidth\":0,\"ticks\":\"\"}}}],\"bar\":[{\"error_x\":{\"color\":\"#2a3f5f\"},\"error_y\":{\"color\":\"#2a3f5f\"},\"marker\":{\"line\":{\"color\":\"#E5ECF6\",\"width\":0.5},\"pattern\":{\"fillmode\":\"overlay\",\"size\":10,\"solidity\":0.2}},\"type\":\"bar\"}],\"scattergeo\":[{\"type\":\"scattergeo\",\"marker\":{\"colorbar\":{\"outlinewidth\":0,\"ticks\":\"\"}}}],\"scatterpolar\":[{\"type\":\"scatterpolar\",\"marker\":{\"colorbar\":{\"outlinewidth\":0,\"ticks\":\"\"}}}],\"histogram\":[{\"marker\":{\"pattern\":{\"fillmode\":\"overlay\",\"size\":10,\"solidity\":0.2}},\"type\":\"histogram\"}],\"scattergl\":[{\"type\":\"scattergl\",\"marker\":{\"colorbar\":{\"outlinewidth\":0,\"ticks\":\"\"}}}],\"scatter3d\":[{\"type\":\"scatter3d\",\"line\":{\"colorbar\":{\"outlinewidth\":0,\"ticks\":\"\"}},\"marker\":{\"colorbar\":{\"outlinewidth\":0,\"ticks\":\"\"}}}],\"scattermapbox\":[{\"type\":\"scattermapbox\",\"marker\":{\"colorbar\":{\"outlinewidth\":0,\"ticks\":\"\"}}}],\"scatterternary\":[{\"type\":\"scatterternary\",\"marker\":{\"colorbar\":{\"outlinewidth\":0,\"ticks\":\"\"}}}],\"scattercarpet\":[{\"type\":\"scattercarpet\",\"marker\":{\"colorbar\":{\"outlinewidth\":0,\"ticks\":\"\"}}}],\"carpet\":[{\"aaxis\":{\"endlinecolor\":\"#2a3f5f\",\"gridcolor\":\"white\",\"linecolor\":\"white\",\"minorgridcolor\":\"white\",\"startlinecolor\":\"#2a3f5f\"},\"baxis\":{\"endlinecolor\":\"#2a3f5f\",\"gridcolor\":\"white\",\"linecolor\":\"white\",\"minorgridcolor\":\"white\",\"startlinecolor\":\"#2a3f5f\"},\"type\":\"carpet\"}],\"table\":[{\"cells\":{\"fill\":{\"color\":\"#EBF0F8\"},\"line\":{\"color\":\"white\"}},\"header\":{\"fill\":{\"color\":\"#C8D4E3\"},\"line\":{\"color\":\"white\"}},\"type\":\"table\"}],\"barpolar\":[{\"marker\":{\"line\":{\"color\":\"#E5ECF6\",\"width\":0.5},\"pattern\":{\"fillmode\":\"overlay\",\"size\":10,\"solidity\":0.2}},\"type\":\"barpolar\"}],\"pie\":[{\"automargin\":true,\"type\":\"pie\"}]},\"layout\":{\"autotypenumbers\":\"strict\",\"colorway\":[\"#636efa\",\"#EF553B\",\"#00cc96\",\"#ab63fa\",\"#FFA15A\",\"#19d3f3\",\"#FF6692\",\"#B6E880\",\"#FF97FF\",\"#FECB52\"],\"font\":{\"color\":\"#2a3f5f\"},\"hovermode\":\"closest\",\"hoverlabel\":{\"align\":\"left\"},\"paper_bgcolor\":\"white\",\"plot_bgcolor\":\"#E5ECF6\",\"polar\":{\"bgcolor\":\"#E5ECF6\",\"angularaxis\":{\"gridcolor\":\"white\",\"linecolor\":\"white\",\"ticks\":\"\"},\"radialaxis\":{\"gridcolor\":\"white\",\"linecolor\":\"white\",\"ticks\":\"\"}},\"ternary\":{\"bgcolor\":\"#E5ECF6\",\"aaxis\":{\"gridcolor\":\"white\",\"linecolor\":\"white\",\"ticks\":\"\"},\"baxis\":{\"gridcolor\":\"white\",\"linecolor\":\"white\",\"ticks\":\"\"},\"caxis\":{\"gridcolor\":\"white\",\"linecolor\":\"white\",\"ticks\":\"\"}},\"coloraxis\":{\"colorbar\":{\"outlinewidth\":0,\"ticks\":\"\"}},\"colorscale\":{\"sequential\":[[0.0,\"#0d0887\"],[0.1111111111111111,\"#46039f\"],[0.2222222222222222,\"#7201a8\"],[0.3333333333333333,\"#9c179e\"],[0.4444444444444444,\"#bd3786\"],[0.5555555555555556,\"#d8576b\"],[0.6666666666666666,\"#ed7953\"],[0.7777777777777778,\"#fb9f3a\"],[0.8888888888888888,\"#fdca26\"],[1.0,\"#f0f921\"]],\"sequentialminus\":[[0.0,\"#0d0887\"],[0.1111111111111111,\"#46039f\"],[0.2222222222222222,\"#7201a8\"],[0.3333333333333333,\"#9c179e\"],[0.4444444444444444,\"#bd3786\"],[0.5555555555555556,\"#d8576b\"],[0.6666666666666666,\"#ed7953\"],[0.7777777777777778,\"#fb9f3a\"],[0.8888888888888888,\"#fdca26\"],[1.0,\"#f0f921\"]],\"diverging\":[[0,\"#8e0152\"],[0.1,\"#c51b7d\"],[0.2,\"#de77ae\"],[0.3,\"#f1b6da\"],[0.4,\"#fde0ef\"],[0.5,\"#f7f7f7\"],[0.6,\"#e6f5d0\"],[0.7,\"#b8e186\"],[0.8,\"#7fbc41\"],[0.9,\"#4d9221\"],[1,\"#276419\"]]},\"xaxis\":{\"gridcolor\":\"white\",\"linecolor\":\"white\",\"ticks\":\"\",\"title\":{\"standoff\":15},\"zerolinecolor\":\"white\",\"automargin\":true,\"zerolinewidth\":2},\"yaxis\":{\"gridcolor\":\"white\",\"linecolor\":\"white\",\"ticks\":\"\",\"title\":{\"standoff\":15},\"zerolinecolor\":\"white\",\"automargin\":true,\"zerolinewidth\":2},\"scene\":{\"xaxis\":{\"backgroundcolor\":\"#E5ECF6\",\"gridcolor\":\"white\",\"linecolor\":\"white\",\"showbackground\":true,\"ticks\":\"\",\"zerolinecolor\":\"white\",\"gridwidth\":2},\"yaxis\":{\"backgroundcolor\":\"#E5ECF6\",\"gridcolor\":\"white\",\"linecolor\":\"white\",\"showbackground\":true,\"ticks\":\"\",\"zerolinecolor\":\"white\",\"gridwidth\":2},\"zaxis\":{\"backgroundcolor\":\"#E5ECF6\",\"gridcolor\":\"white\",\"linecolor\":\"white\",\"showbackground\":true,\"ticks\":\"\",\"zerolinecolor\":\"white\",\"gridwidth\":2}},\"shapedefaults\":{\"line\":{\"color\":\"#2a3f5f\"}},\"annotationdefaults\":{\"arrowcolor\":\"#2a3f5f\",\"arrowhead\":0,\"arrowwidth\":1},\"geo\":{\"bgcolor\":\"white\",\"landcolor\":\"#E5ECF6\",\"subunitcolor\":\"white\",\"showland\":true,\"showlakes\":true,\"lakecolor\":\"white\"},\"title\":{\"x\":0.05},\"mapbox\":{\"style\":\"light\"}}},\"annotations\":[{\"font\":{\"size\":16},\"showarrow\":false,\"text\":\"Train\",\"x\":0.14444444444444446,\"xanchor\":\"center\",\"xref\":\"paper\",\"y\":1.0,\"yanchor\":\"bottom\",\"yref\":\"paper\"},{\"font\":{\"size\":16},\"showarrow\":false,\"text\":\"Dev\",\"x\":0.5,\"xanchor\":\"center\",\"xref\":\"paper\",\"y\":1.0,\"yanchor\":\"bottom\",\"yref\":\"paper\"},{\"font\":{\"size\":16},\"showarrow\":false,\"text\":\"Test\",\"x\":0.8555555555555556,\"xanchor\":\"center\",\"xref\":\"paper\",\"y\":1.0,\"yanchor\":\"bottom\",\"yref\":\"paper\"}],\"title\":{\"text\":\"# of samples per aspect\"}},                        {\"responsive\": true}                    ).then(function(){\n",
              "                            \n",
              "var gd = document.getElementById('ddc9b4ac-45e8-4940-b31d-f7e6cac00f04');\n",
              "var x = new MutationObserver(function (mutations, observer) {{\n",
              "        var display = window.getComputedStyle(gd).display;\n",
              "        if (!display || display === 'none') {{\n",
              "            console.log([gd, 'removed!']);\n",
              "            Plotly.purge(gd);\n",
              "            observer.disconnect();\n",
              "        }}\n",
              "}});\n",
              "\n",
              "// Listen for the removal of the full notebook cells\n",
              "var notebookContainer = gd.closest('#notebook-container');\n",
              "if (notebookContainer) {{\n",
              "    x.observe(notebookContainer, {childList: true});\n",
              "}}\n",
              "\n",
              "// Listen for the clearing of the current output cell\n",
              "var outputEl = gd.closest('.output');\n",
              "if (outputEl) {{\n",
              "    x.observe(outputEl, {childList: true});\n",
              "}}\n",
              "\n",
              "                        })                };                            </script>        </div>\n",
              "</body>\n",
              "</html>"
            ]
          },
          "metadata": {}
        }
      ],
      "source": [
        "import plotly.graph_objects as go\n",
        "from plotly.subplots import make_subplots\n",
        "\n",
        "def get_pie(df, name):\n",
        "    count = df.sum(axis=0)\n",
        "    return go.Pie(labels=count.index, values=count, \n",
        "                  textposition='inside', name=name)\n",
        "\n",
        "\n",
        "names = ('Train', 'Dev', 'Test')\n",
        "phaseA = (ytrain, ydev, ytest)\n",
        "\n",
        "fig = make_subplots(cols=3, subplot_titles=names,\n",
        "                    specs=[[{'type': 'pie'}] * 3])\n",
        "\n",
        "for i, (df, name) in enumerate(zip(phaseA, names), 1):\n",
        "    fig.add_trace(get_pie(df, name), row=1, col=i)\n",
        "\n",
        "fig.update_layout(title='# of samples per aspect')"
      ]
    },
    {
      "cell_type": "code",
      "execution_count": 14,
      "metadata": {
        "colab": {
          "base_uri": "https://localhost:8080/",
          "height": 542
        },
        "id": "VQLRJkhS1t83",
        "outputId": "5e2a9211-4296-4f60-97f6-1b4d36441920"
      },
      "outputs": [
        {
          "output_type": "display_data",
          "data": {
            "text/html": [
              "<html>\n",
              "<head><meta charset=\"utf-8\" /></head>\n",
              "<body>\n",
              "    <div>            <script src=\"https://cdnjs.cloudflare.com/ajax/libs/mathjax/2.7.5/MathJax.js?config=TeX-AMS-MML_SVG\"></script><script type=\"text/javascript\">if (window.MathJax && window.MathJax.Hub && window.MathJax.Hub.Config) {window.MathJax.Hub.Config({SVG: {font: \"STIX-Web\"}});}</script>                <script type=\"text/javascript\">window.PlotlyConfig = {MathJaxConfig: 'local'};</script>\n",
              "        <script src=\"https://cdn.plot.ly/plotly-2.18.2.min.js\"></script>                <div id=\"f751d97f-6bf2-40a2-9d4b-5e0a98bdb909\" class=\"plotly-graph-div\" style=\"height:525px; width:100%;\"></div>            <script type=\"text/javascript\">                                    window.PLOTLYENV=window.PLOTLYENV || {};                                    if (document.getElementById(\"f751d97f-6bf2-40a2-9d4b-5e0a98bdb909\")) {                    Plotly.newPlot(                        \"f751d97f-6bf2-40a2-9d4b-5e0a98bdb909\",                        [{\"labels\":[\"FOOD#PRICES -\",\"FOOD#PRICES o\",\"FOOD#PRICES +\",\"FOOD#QUALITY -\",\"FOOD#QUALITY o\",\"FOOD#QUALITY +\",\"FOOD#STYLE&OPTIONS -\",\"FOOD#STYLE&OPTIONS o\",\"FOOD#STYLE&OPTIONS +\",\"DRINKS#PRICES -\",\"DRINKS#PRICES o\",\"DRINKS#PRICES +\",\"DRINKS#QUALITY -\",\"DRINKS#QUALITY o\",\"DRINKS#QUALITY +\",\"DRINKS#STYLE&OPTIONS -\",\"DRINKS#STYLE&OPTIONS o\",\"DRINKS#STYLE&OPTIONS +\",\"RESTAURANT#PRICES -\",\"RESTAURANT#PRICES o\",\"RESTAURANT#PRICES +\",\"RESTAURANT#GENERAL -\",\"RESTAURANT#GENERAL o\",\"RESTAURANT#GENERAL +\",\"RESTAURANT#MISCELLANEOUS -\",\"RESTAURANT#MISCELLANEOUS o\",\"RESTAURANT#MISCELLANEOUS +\",\"SERVICE#GENERAL -\",\"SERVICE#GENERAL o\",\"SERVICE#GENERAL +\",\"AMBIENCE#GENERAL -\",\"AMBIENCE#GENERAL o\",\"AMBIENCE#GENERAL +\",\"LOCATION#GENERAL -\",\"LOCATION#GENERAL o\",\"LOCATION#GENERAL +\"],\"name\":\"Train\",\"textposition\":\"inside\",\"values\":[52,258,91,310,309,1376,234,597,740,39,99,32,116,130,483,47,246,172,99,181,141,126,244,532,161,80,282,372,92,629,158,126,531,32,171,170],\"type\":\"pie\",\"domain\":{\"x\":[0.0,0.2888888888888889],\"y\":[0.0,1.0]}},{\"labels\":[\"FOOD#PRICES -\",\"FOOD#PRICES o\",\"FOOD#PRICES +\",\"FOOD#QUALITY -\",\"FOOD#QUALITY o\",\"FOOD#QUALITY +\",\"FOOD#STYLE&OPTIONS -\",\"FOOD#STYLE&OPTIONS o\",\"FOOD#STYLE&OPTIONS +\",\"DRINKS#PRICES -\",\"DRINKS#PRICES o\",\"DRINKS#PRICES +\",\"DRINKS#QUALITY -\",\"DRINKS#QUALITY o\",\"DRINKS#QUALITY +\",\"DRINKS#STYLE&OPTIONS -\",\"DRINKS#STYLE&OPTIONS o\",\"DRINKS#STYLE&OPTIONS +\",\"RESTAURANT#PRICES -\",\"RESTAURANT#PRICES o\",\"RESTAURANT#PRICES +\",\"RESTAURANT#GENERAL -\",\"RESTAURANT#GENERAL o\",\"RESTAURANT#GENERAL +\",\"RESTAURANT#MISCELLANEOUS -\",\"RESTAURANT#MISCELLANEOUS o\",\"RESTAURANT#MISCELLANEOUS +\",\"SERVICE#GENERAL -\",\"SERVICE#GENERAL o\",\"SERVICE#GENERAL +\",\"AMBIENCE#GENERAL -\",\"AMBIENCE#GENERAL o\",\"AMBIENCE#GENERAL +\",\"LOCATION#GENERAL -\",\"LOCATION#GENERAL o\",\"LOCATION#GENERAL +\"],\"name\":\"Dev\",\"textposition\":\"inside\",\"values\":[9,29,7,33,37,152,18,55,102,2,14,3,23,15,43,5,26,21,8,24,15,22,23,55,13,9,36,46,10,65,13,15,63,4,21,17],\"type\":\"pie\",\"domain\":{\"x\":[0.35555555555555557,0.6444444444444445],\"y\":[0.0,1.0]}},{\"labels\":[\"FOOD#PRICES -\",\"FOOD#PRICES o\",\"FOOD#PRICES +\",\"FOOD#QUALITY -\",\"FOOD#QUALITY o\",\"FOOD#QUALITY +\",\"FOOD#STYLE&OPTIONS -\",\"FOOD#STYLE&OPTIONS o\",\"FOOD#STYLE&OPTIONS +\",\"DRINKS#PRICES -\",\"DRINKS#PRICES o\",\"DRINKS#PRICES +\",\"DRINKS#QUALITY -\",\"DRINKS#QUALITY o\",\"DRINKS#QUALITY +\",\"DRINKS#STYLE&OPTIONS -\",\"DRINKS#STYLE&OPTIONS o\",\"DRINKS#STYLE&OPTIONS +\",\"RESTAURANT#PRICES -\",\"RESTAURANT#PRICES o\",\"RESTAURANT#PRICES +\",\"RESTAURANT#GENERAL -\",\"RESTAURANT#GENERAL o\",\"RESTAURANT#GENERAL +\",\"RESTAURANT#MISCELLANEOUS -\",\"RESTAURANT#MISCELLANEOUS o\",\"RESTAURANT#MISCELLANEOUS +\",\"SERVICE#GENERAL -\",\"SERVICE#GENERAL o\",\"SERVICE#GENERAL +\",\"AMBIENCE#GENERAL -\",\"AMBIENCE#GENERAL o\",\"AMBIENCE#GENERAL +\",\"LOCATION#GENERAL -\",\"LOCATION#GENERAL o\",\"LOCATION#GENERAL +\"],\"name\":\"Test\",\"textposition\":\"inside\",\"values\":[10,71,31,78,75,401,58,173,206,5,32,10,26,48,129,10,62,57,26,55,36,37,59,155,34,19,92,104,23,176,37,30,160,10,44,50],\"type\":\"pie\",\"domain\":{\"x\":[0.7111111111111111,1.0],\"y\":[0.0,1.0]}}],                        {\"template\":{\"data\":{\"histogram2dcontour\":[{\"type\":\"histogram2dcontour\",\"colorbar\":{\"outlinewidth\":0,\"ticks\":\"\"},\"colorscale\":[[0.0,\"#0d0887\"],[0.1111111111111111,\"#46039f\"],[0.2222222222222222,\"#7201a8\"],[0.3333333333333333,\"#9c179e\"],[0.4444444444444444,\"#bd3786\"],[0.5555555555555556,\"#d8576b\"],[0.6666666666666666,\"#ed7953\"],[0.7777777777777778,\"#fb9f3a\"],[0.8888888888888888,\"#fdca26\"],[1.0,\"#f0f921\"]]}],\"choropleth\":[{\"type\":\"choropleth\",\"colorbar\":{\"outlinewidth\":0,\"ticks\":\"\"}}],\"histogram2d\":[{\"type\":\"histogram2d\",\"colorbar\":{\"outlinewidth\":0,\"ticks\":\"\"},\"colorscale\":[[0.0,\"#0d0887\"],[0.1111111111111111,\"#46039f\"],[0.2222222222222222,\"#7201a8\"],[0.3333333333333333,\"#9c179e\"],[0.4444444444444444,\"#bd3786\"],[0.5555555555555556,\"#d8576b\"],[0.6666666666666666,\"#ed7953\"],[0.7777777777777778,\"#fb9f3a\"],[0.8888888888888888,\"#fdca26\"],[1.0,\"#f0f921\"]]}],\"heatmap\":[{\"type\":\"heatmap\",\"colorbar\":{\"outlinewidth\":0,\"ticks\":\"\"},\"colorscale\":[[0.0,\"#0d0887\"],[0.1111111111111111,\"#46039f\"],[0.2222222222222222,\"#7201a8\"],[0.3333333333333333,\"#9c179e\"],[0.4444444444444444,\"#bd3786\"],[0.5555555555555556,\"#d8576b\"],[0.6666666666666666,\"#ed7953\"],[0.7777777777777778,\"#fb9f3a\"],[0.8888888888888888,\"#fdca26\"],[1.0,\"#f0f921\"]]}],\"heatmapgl\":[{\"type\":\"heatmapgl\",\"colorbar\":{\"outlinewidth\":0,\"ticks\":\"\"},\"colorscale\":[[0.0,\"#0d0887\"],[0.1111111111111111,\"#46039f\"],[0.2222222222222222,\"#7201a8\"],[0.3333333333333333,\"#9c179e\"],[0.4444444444444444,\"#bd3786\"],[0.5555555555555556,\"#d8576b\"],[0.6666666666666666,\"#ed7953\"],[0.7777777777777778,\"#fb9f3a\"],[0.8888888888888888,\"#fdca26\"],[1.0,\"#f0f921\"]]}],\"contourcarpet\":[{\"type\":\"contourcarpet\",\"colorbar\":{\"outlinewidth\":0,\"ticks\":\"\"}}],\"contour\":[{\"type\":\"contour\",\"colorbar\":{\"outlinewidth\":0,\"ticks\":\"\"},\"colorscale\":[[0.0,\"#0d0887\"],[0.1111111111111111,\"#46039f\"],[0.2222222222222222,\"#7201a8\"],[0.3333333333333333,\"#9c179e\"],[0.4444444444444444,\"#bd3786\"],[0.5555555555555556,\"#d8576b\"],[0.6666666666666666,\"#ed7953\"],[0.7777777777777778,\"#fb9f3a\"],[0.8888888888888888,\"#fdca26\"],[1.0,\"#f0f921\"]]}],\"surface\":[{\"type\":\"surface\",\"colorbar\":{\"outlinewidth\":0,\"ticks\":\"\"},\"colorscale\":[[0.0,\"#0d0887\"],[0.1111111111111111,\"#46039f\"],[0.2222222222222222,\"#7201a8\"],[0.3333333333333333,\"#9c179e\"],[0.4444444444444444,\"#bd3786\"],[0.5555555555555556,\"#d8576b\"],[0.6666666666666666,\"#ed7953\"],[0.7777777777777778,\"#fb9f3a\"],[0.8888888888888888,\"#fdca26\"],[1.0,\"#f0f921\"]]}],\"mesh3d\":[{\"type\":\"mesh3d\",\"colorbar\":{\"outlinewidth\":0,\"ticks\":\"\"}}],\"scatter\":[{\"fillpattern\":{\"fillmode\":\"overlay\",\"size\":10,\"solidity\":0.2},\"type\":\"scatter\"}],\"parcoords\":[{\"type\":\"parcoords\",\"line\":{\"colorbar\":{\"outlinewidth\":0,\"ticks\":\"\"}}}],\"scatterpolargl\":[{\"type\":\"scatterpolargl\",\"marker\":{\"colorbar\":{\"outlinewidth\":0,\"ticks\":\"\"}}}],\"bar\":[{\"error_x\":{\"color\":\"#2a3f5f\"},\"error_y\":{\"color\":\"#2a3f5f\"},\"marker\":{\"line\":{\"color\":\"#E5ECF6\",\"width\":0.5},\"pattern\":{\"fillmode\":\"overlay\",\"size\":10,\"solidity\":0.2}},\"type\":\"bar\"}],\"scattergeo\":[{\"type\":\"scattergeo\",\"marker\":{\"colorbar\":{\"outlinewidth\":0,\"ticks\":\"\"}}}],\"scatterpolar\":[{\"type\":\"scatterpolar\",\"marker\":{\"colorbar\":{\"outlinewidth\":0,\"ticks\":\"\"}}}],\"histogram\":[{\"marker\":{\"pattern\":{\"fillmode\":\"overlay\",\"size\":10,\"solidity\":0.2}},\"type\":\"histogram\"}],\"scattergl\":[{\"type\":\"scattergl\",\"marker\":{\"colorbar\":{\"outlinewidth\":0,\"ticks\":\"\"}}}],\"scatter3d\":[{\"type\":\"scatter3d\",\"line\":{\"colorbar\":{\"outlinewidth\":0,\"ticks\":\"\"}},\"marker\":{\"colorbar\":{\"outlinewidth\":0,\"ticks\":\"\"}}}],\"scattermapbox\":[{\"type\":\"scattermapbox\",\"marker\":{\"colorbar\":{\"outlinewidth\":0,\"ticks\":\"\"}}}],\"scatterternary\":[{\"type\":\"scatterternary\",\"marker\":{\"colorbar\":{\"outlinewidth\":0,\"ticks\":\"\"}}}],\"scattercarpet\":[{\"type\":\"scattercarpet\",\"marker\":{\"colorbar\":{\"outlinewidth\":0,\"ticks\":\"\"}}}],\"carpet\":[{\"aaxis\":{\"endlinecolor\":\"#2a3f5f\",\"gridcolor\":\"white\",\"linecolor\":\"white\",\"minorgridcolor\":\"white\",\"startlinecolor\":\"#2a3f5f\"},\"baxis\":{\"endlinecolor\":\"#2a3f5f\",\"gridcolor\":\"white\",\"linecolor\":\"white\",\"minorgridcolor\":\"white\",\"startlinecolor\":\"#2a3f5f\"},\"type\":\"carpet\"}],\"table\":[{\"cells\":{\"fill\":{\"color\":\"#EBF0F8\"},\"line\":{\"color\":\"white\"}},\"header\":{\"fill\":{\"color\":\"#C8D4E3\"},\"line\":{\"color\":\"white\"}},\"type\":\"table\"}],\"barpolar\":[{\"marker\":{\"line\":{\"color\":\"#E5ECF6\",\"width\":0.5},\"pattern\":{\"fillmode\":\"overlay\",\"size\":10,\"solidity\":0.2}},\"type\":\"barpolar\"}],\"pie\":[{\"automargin\":true,\"type\":\"pie\"}]},\"layout\":{\"autotypenumbers\":\"strict\",\"colorway\":[\"#636efa\",\"#EF553B\",\"#00cc96\",\"#ab63fa\",\"#FFA15A\",\"#19d3f3\",\"#FF6692\",\"#B6E880\",\"#FF97FF\",\"#FECB52\"],\"font\":{\"color\":\"#2a3f5f\"},\"hovermode\":\"closest\",\"hoverlabel\":{\"align\":\"left\"},\"paper_bgcolor\":\"white\",\"plot_bgcolor\":\"#E5ECF6\",\"polar\":{\"bgcolor\":\"#E5ECF6\",\"angularaxis\":{\"gridcolor\":\"white\",\"linecolor\":\"white\",\"ticks\":\"\"},\"radialaxis\":{\"gridcolor\":\"white\",\"linecolor\":\"white\",\"ticks\":\"\"}},\"ternary\":{\"bgcolor\":\"#E5ECF6\",\"aaxis\":{\"gridcolor\":\"white\",\"linecolor\":\"white\",\"ticks\":\"\"},\"baxis\":{\"gridcolor\":\"white\",\"linecolor\":\"white\",\"ticks\":\"\"},\"caxis\":{\"gridcolor\":\"white\",\"linecolor\":\"white\",\"ticks\":\"\"}},\"coloraxis\":{\"colorbar\":{\"outlinewidth\":0,\"ticks\":\"\"}},\"colorscale\":{\"sequential\":[[0.0,\"#0d0887\"],[0.1111111111111111,\"#46039f\"],[0.2222222222222222,\"#7201a8\"],[0.3333333333333333,\"#9c179e\"],[0.4444444444444444,\"#bd3786\"],[0.5555555555555556,\"#d8576b\"],[0.6666666666666666,\"#ed7953\"],[0.7777777777777778,\"#fb9f3a\"],[0.8888888888888888,\"#fdca26\"],[1.0,\"#f0f921\"]],\"sequentialminus\":[[0.0,\"#0d0887\"],[0.1111111111111111,\"#46039f\"],[0.2222222222222222,\"#7201a8\"],[0.3333333333333333,\"#9c179e\"],[0.4444444444444444,\"#bd3786\"],[0.5555555555555556,\"#d8576b\"],[0.6666666666666666,\"#ed7953\"],[0.7777777777777778,\"#fb9f3a\"],[0.8888888888888888,\"#fdca26\"],[1.0,\"#f0f921\"]],\"diverging\":[[0,\"#8e0152\"],[0.1,\"#c51b7d\"],[0.2,\"#de77ae\"],[0.3,\"#f1b6da\"],[0.4,\"#fde0ef\"],[0.5,\"#f7f7f7\"],[0.6,\"#e6f5d0\"],[0.7,\"#b8e186\"],[0.8,\"#7fbc41\"],[0.9,\"#4d9221\"],[1,\"#276419\"]]},\"xaxis\":{\"gridcolor\":\"white\",\"linecolor\":\"white\",\"ticks\":\"\",\"title\":{\"standoff\":15},\"zerolinecolor\":\"white\",\"automargin\":true,\"zerolinewidth\":2},\"yaxis\":{\"gridcolor\":\"white\",\"linecolor\":\"white\",\"ticks\":\"\",\"title\":{\"standoff\":15},\"zerolinecolor\":\"white\",\"automargin\":true,\"zerolinewidth\":2},\"scene\":{\"xaxis\":{\"backgroundcolor\":\"#E5ECF6\",\"gridcolor\":\"white\",\"linecolor\":\"white\",\"showbackground\":true,\"ticks\":\"\",\"zerolinecolor\":\"white\",\"gridwidth\":2},\"yaxis\":{\"backgroundcolor\":\"#E5ECF6\",\"gridcolor\":\"white\",\"linecolor\":\"white\",\"showbackground\":true,\"ticks\":\"\",\"zerolinecolor\":\"white\",\"gridwidth\":2},\"zaxis\":{\"backgroundcolor\":\"#E5ECF6\",\"gridcolor\":\"white\",\"linecolor\":\"white\",\"showbackground\":true,\"ticks\":\"\",\"zerolinecolor\":\"white\",\"gridwidth\":2}},\"shapedefaults\":{\"line\":{\"color\":\"#2a3f5f\"}},\"annotationdefaults\":{\"arrowcolor\":\"#2a3f5f\",\"arrowhead\":0,\"arrowwidth\":1},\"geo\":{\"bgcolor\":\"white\",\"landcolor\":\"#E5ECF6\",\"subunitcolor\":\"white\",\"showland\":true,\"showlakes\":true,\"lakecolor\":\"white\"},\"title\":{\"x\":0.05},\"mapbox\":{\"style\":\"light\"}}},\"annotations\":[{\"font\":{\"size\":16},\"showarrow\":false,\"text\":\"Train\",\"x\":0.14444444444444446,\"xanchor\":\"center\",\"xref\":\"paper\",\"y\":1.0,\"yanchor\":\"bottom\",\"yref\":\"paper\"},{\"font\":{\"size\":16},\"showarrow\":false,\"text\":\"Dev\",\"x\":0.5,\"xanchor\":\"center\",\"xref\":\"paper\",\"y\":1.0,\"yanchor\":\"bottom\",\"yref\":\"paper\"},{\"font\":{\"size\":16},\"showarrow\":false,\"text\":\"Test\",\"x\":0.8555555555555556,\"xanchor\":\"center\",\"xref\":\"paper\",\"y\":1.0,\"yanchor\":\"bottom\",\"yref\":\"paper\"}],\"title\":{\"text\":\"# of samples per class (entity, sentiment)\"}},                        {\"responsive\": true}                    ).then(function(){\n",
              "                            \n",
              "var gd = document.getElementById('f751d97f-6bf2-40a2-9d4b-5e0a98bdb909');\n",
              "var x = new MutationObserver(function (mutations, observer) {{\n",
              "        var display = window.getComputedStyle(gd).display;\n",
              "        if (!display || display === 'none') {{\n",
              "            console.log([gd, 'removed!']);\n",
              "            Plotly.purge(gd);\n",
              "            observer.disconnect();\n",
              "        }}\n",
              "}});\n",
              "\n",
              "// Listen for the removal of the full notebook cells\n",
              "var notebookContainer = gd.closest('#notebook-container');\n",
              "if (notebookContainer) {{\n",
              "    x.observe(notebookContainer, {childList: true});\n",
              "}}\n",
              "\n",
              "// Listen for the clearing of the current output cell\n",
              "var outputEl = gd.closest('.output');\n",
              "if (outputEl) {{\n",
              "    x.observe(outputEl, {childList: true});\n",
              "}}\n",
              "\n",
              "                        })                };                            </script>        </div>\n",
              "</body>\n",
              "</html>"
            ]
          },
          "metadata": {}
        }
      ],
      "source": [
        "phaseML = (ytrain_ml, ydev_ml, ytest_ml)\n",
        "\n",
        "fig = make_subplots(cols=3, subplot_titles=names,\n",
        "                    specs=[[{'type': 'pie'}] * 3])\n",
        "\n",
        "for i, (df, name) in enumerate(zip(phaseML, names), 1):\n",
        "    fig.add_trace(get_pie(df, name), row=1, col=i)\n",
        "\n",
        "fig.update_layout(title='# of samples per class (entity, sentiment)')"
      ]
    },
    {
      "cell_type": "markdown",
      "metadata": {
        "id": "tz4aAURfgKIW"
      },
      "source": [
        "# Feature extraction (Convert reviews to vectors)"
      ]
    },
    {
      "cell_type": "markdown",
      "metadata": {
        "id": "v2UquVpDgbvH"
      },
      "source": [
        "##  Basic features (1, 2, 3 grams)\n"
      ]
    },
    {
      "cell_type": "code",
      "execution_count": 15,
      "metadata": {
        "id": "UM3MhHNcPXR2"
      },
      "outputs": [],
      "source": [
        "from sklearn.feature_extraction.text import CountVectorizer\n",
        "\n",
        "vectorizer = CountVectorizer()\n",
        "\n",
        "# x data using advanced clean up class and basic features extrator\n",
        "xtrain_basef = vectorizer.fit_transform(xtrain)\n",
        "xdev_basef   = vectorizer.transform(xdev)\n",
        "xtest_basef  = vectorizer.transform(xtest)"
      ]
    },
    {
      "cell_type": "code",
      "execution_count": 16,
      "metadata": {
        "id": "YTpdlwwCgY2o"
      },
      "outputs": [],
      "source": [
        "# from sklearn.feature_extraction.text import TfidfVectorizer\n",
        "\n",
        "# vectorizer = TfidfVectorizer(ngram_range=(1, 3),\n",
        "#                              min_df=2, max_df=0.9)\n",
        "\n",
        "# # x data using advanced clean up class and basic features extrator\n",
        "# xtrain_basef = vectorizer.fit_transform(xtrain)\n",
        "# xdev_basef   = vectorizer.transform(xdev)\n",
        "# xtest_basef  = vectorizer.transform(xtest)"
      ]
    },
    {
      "cell_type": "code",
      "execution_count": 16,
      "metadata": {
        "colab": {
          "base_uri": "https://localhost:8080/"
        },
        "id": "8siUMrKjPXR2",
        "outputId": "9e69b9a4-0ba8-4bbc-a0c5-341f0a44e146"
      },
      "outputs": [
        {
          "output_type": "execute_result",
          "data": {
            "text/plain": [
              "<7028x4768 sparse matrix of type '<class 'numpy.int64'>'\n",
              "\twith 103177 stored elements in Compressed Sparse Row format>"
            ]
          },
          "metadata": {},
          "execution_count": 16
        }
      ],
      "source": [
        "xtrain_basef"
      ]
    },
    {
      "cell_type": "code",
      "execution_count": 17,
      "metadata": {
        "colab": {
          "base_uri": "https://localhost:8080/"
        },
        "id": "egBRGMSHncKX",
        "outputId": "e217a98d-42d7-4c77-ae84-78a306696717"
      },
      "outputs": [
        {
          "output_type": "execute_result",
          "data": {
            "text/plain": [
              "(7028, 4768)"
            ]
          },
          "metadata": {},
          "execution_count": 17
        }
      ],
      "source": [
        "xtrain_basef.shape"
      ]
    },
    {
      "cell_type": "markdown",
      "metadata": {
        "cell_id": "00008-3e35d1d6-b9cd-4dc2-a45e-ccf833534cd9",
        "deepnote_cell_type": "markdown",
        "id": "ppKYl2LZPra0",
        "tags": []
      },
      "source": [
        "# Model Architectures"
      ]
    },
    {
      "cell_type": "markdown",
      "metadata": {
        "id": "rFrqY_VnqN-2"
      },
      "source": [
        "## End-to-End Architecture"
      ]
    },
    {
      "cell_type": "code",
      "execution_count": 18,
      "metadata": {
        "id": "Hpwu1HJLqWmT"
      },
      "outputs": [],
      "source": [
        "from sklearn.multioutput import MultiOutputClassifier as MOC"
      ]
    },
    {
      "cell_type": "markdown",
      "metadata": {
        "cell_id": "00011-0d327c11-f739-49f4-b198-560e8b9d6e52",
        "deepnote_cell_type": "markdown",
        "id": "J7cEYevzPrbB",
        "tags": []
      },
      "source": [
        "# Evaluation functions"
      ]
    },
    {
      "cell_type": "code",
      "execution_count": 19,
      "metadata": {
        "id": "RJ952C7RUM6Y"
      },
      "outputs": [],
      "source": [
        "from sklearn.metrics import f1_score, classification_report\n",
        "\n",
        "def quick_f1(y_true, y_pred):\n",
        "    y_pred = mo2ml(mo2df(y_pred))\n",
        "    return round(f1_score(y_true, y_pred, average='micro', zero_division=0), 4)\n",
        "\n",
        "def evaluate(model, X, y):\n",
        "    yb_true  = mo2ml(y)\n",
        "\n",
        "    yb_pred  = mo2df(model.predict(X))\n",
        "    yb_pred  = mo2ml(yb_pred)\n",
        "\n",
        "    return classification_report(yb_true, yb_pred, zero_division=0)"
      ]
    },
    {
      "cell_type": "markdown",
      "metadata": {
        "id": "1mOvkWcI-j4u"
      },
      "source": [
        "# Compare models"
      ]
    },
    {
      "cell_type": "markdown",
      "metadata": {
        "id": "qhF6HkLKNPSL"
      },
      "source": [
        "## Logistic Regression"
      ]
    },
    {
      "cell_type": "code",
      "execution_count": 20,
      "metadata": {
        "colab": {
          "base_uri": "https://localhost:8080/"
        },
        "id": "3srrPw5Ay7mn",
        "outputId": "fb9093d2-8796-4b0e-b1e7-507471dcd489"
      },
      "outputs": [
        {
          "output_type": "stream",
          "name": "stderr",
          "text": [
            "/usr/local/lib/python3.10/dist-packages/sklearn/linear_model/_logistic.py:458: ConvergenceWarning:\n",
            "\n",
            "lbfgs failed to converge (status=1):\n",
            "STOP: TOTAL NO. of ITERATIONS REACHED LIMIT.\n",
            "\n",
            "Increase the number of iterations (max_iter) or scale the data as shown in:\n",
            "    https://scikit-learn.org/stable/modules/preprocessing.html\n",
            "Please also refer to the documentation for alternative solver options:\n",
            "    https://scikit-learn.org/stable/modules/linear_model.html#logistic-regression\n",
            "\n",
            "/usr/local/lib/python3.10/dist-packages/sklearn/linear_model/_logistic.py:458: ConvergenceWarning:\n",
            "\n",
            "lbfgs failed to converge (status=1):\n",
            "STOP: TOTAL NO. of ITERATIONS REACHED LIMIT.\n",
            "\n",
            "Increase the number of iterations (max_iter) or scale the data as shown in:\n",
            "    https://scikit-learn.org/stable/modules/preprocessing.html\n",
            "Please also refer to the documentation for alternative solver options:\n",
            "    https://scikit-learn.org/stable/modules/linear_model.html#logistic-regression\n",
            "\n",
            "/usr/local/lib/python3.10/dist-packages/sklearn/linear_model/_logistic.py:458: ConvergenceWarning:\n",
            "\n",
            "lbfgs failed to converge (status=1):\n",
            "STOP: TOTAL NO. of ITERATIONS REACHED LIMIT.\n",
            "\n",
            "Increase the number of iterations (max_iter) or scale the data as shown in:\n",
            "    https://scikit-learn.org/stable/modules/preprocessing.html\n",
            "Please also refer to the documentation for alternative solver options:\n",
            "    https://scikit-learn.org/stable/modules/linear_model.html#logistic-regression\n",
            "\n"
          ]
        },
        {
          "output_type": "stream",
          "name": "stdout",
          "text": [
            "Micro F1 score on train: 0.914\n",
            "Micro F1 score on dev 0.558\n",
            "Micro F1 score on test 0.5571\n",
            "              precision    recall  f1-score   support\n",
            "\n",
            "           0       0.00      0.00      0.00        10\n",
            "           1       0.60      0.41      0.49        71\n",
            "           2       0.47      0.29      0.36        31\n",
            "           3       0.42      0.22      0.29        78\n",
            "           4       0.49      0.33      0.40        75\n",
            "           5       0.74      0.74      0.74       401\n",
            "           6       0.48      0.28      0.35        58\n",
            "           7       0.52      0.45      0.48       173\n",
            "           8       0.62      0.47      0.53       206\n",
            "           9       0.20      0.20      0.20         5\n",
            "          10       0.23      0.09      0.13        32\n",
            "          11       0.50      0.10      0.17        10\n",
            "          12       0.47      0.31      0.37        26\n",
            "          13       0.60      0.25      0.35        48\n",
            "          14       0.58      0.59      0.58       129\n",
            "          15       0.00      0.00      0.00        10\n",
            "          16       0.50      0.48      0.49        62\n",
            "          17       0.41      0.21      0.28        57\n",
            "          18       0.65      0.50      0.57        26\n",
            "          19       0.69      0.44      0.53        55\n",
            "          20       0.53      0.44      0.48        36\n",
            "          21       0.42      0.22      0.29        37\n",
            "          22       0.39      0.25      0.31        59\n",
            "          23       0.54      0.40      0.46       155\n",
            "          24       0.43      0.29      0.35        34\n",
            "          25       0.33      0.16      0.21        19\n",
            "          26       0.74      0.47      0.57        92\n",
            "          27       0.73      0.60      0.66       104\n",
            "          28       0.30      0.13      0.18        23\n",
            "          29       0.84      0.76      0.80       176\n",
            "          30       0.71      0.65      0.68        37\n",
            "          31       0.29      0.13      0.18        30\n",
            "          32       0.83      0.74      0.79       160\n",
            "          33       0.50      0.10      0.17        10\n",
            "          34       0.63      0.55      0.59        44\n",
            "          35       0.77      0.54      0.64        50\n",
            "\n",
            "   micro avg       0.64      0.49      0.56      2629\n",
            "   macro avg       0.51      0.36      0.41      2629\n",
            "weighted avg       0.61      0.49      0.54      2629\n",
            " samples avg       0.52      0.51      0.50      2629\n",
            "\n"
          ]
        }
      ],
      "source": [
        "from sklearn.linear_model import LogisticRegression\n",
        "\n",
        "lr = MOC(LogisticRegression())\n",
        "lr.fit(xtrain_basef, ytrain)\n",
        "\n",
        "print('Micro F1 score on train:',quick_f1(ytrain_ml  , lr.predict(xtrain_basef)))\n",
        "print('Micro F1 score on dev',quick_f1(ydev_ml  , lr.predict(xdev_basef)))\n",
        "print('Micro F1 score on test',quick_f1(ytest_ml , lr.predict(xtest_basef)))\n",
        "print(evaluate(lr, xtest_basef, ytest))"
      ]
    },
    {
      "cell_type": "markdown",
      "metadata": {
        "id": "37vd9rwqPXR4"
      },
      "source": [
        "## Support Vector Machine"
      ]
    },
    {
      "cell_type": "code",
      "execution_count": 21,
      "metadata": {
        "colab": {
          "base_uri": "https://localhost:8080/"
        },
        "id": "vW1fbZJLPXR4",
        "outputId": "05f84a82-1345-48b3-afbd-8f41d1bd69f1"
      },
      "outputs": [
        {
          "output_type": "stream",
          "name": "stdout",
          "text": [
            "Micro F1 score on train: 0.8145\n",
            "Micro F1 score on dev 0.4589\n",
            "Micro F1 score on test 0.4868\n",
            "              precision    recall  f1-score   support\n",
            "\n",
            "           0       0.00      0.00      0.00        10\n",
            "           1       0.78      0.10      0.17        71\n",
            "           2       0.00      0.00      0.00        31\n",
            "           3       0.67      0.05      0.10        78\n",
            "           4       0.93      0.17      0.29        75\n",
            "           5       0.78      0.72      0.75       401\n",
            "           6       0.76      0.22      0.35        58\n",
            "           7       0.75      0.27      0.40       173\n",
            "           8       0.77      0.33      0.46       206\n",
            "           9       0.00      0.00      0.00         5\n",
            "          10       0.00      0.00      0.00        32\n",
            "          11       0.00      0.00      0.00        10\n",
            "          12       0.00      0.00      0.00        26\n",
            "          13       0.00      0.00      0.00        48\n",
            "          14       0.69      0.46      0.55       129\n",
            "          15       0.00      0.00      0.00        10\n",
            "          16       0.85      0.27      0.41        62\n",
            "          17       0.00      0.00      0.00        57\n",
            "          18       1.00      0.42      0.59        26\n",
            "          19       0.88      0.27      0.42        55\n",
            "          20       0.75      0.33      0.46        36\n",
            "          21       1.00      0.03      0.05        37\n",
            "          22       0.64      0.15      0.25        59\n",
            "          23       0.76      0.19      0.30       155\n",
            "          24       0.67      0.18      0.28        34\n",
            "          25       0.00      0.00      0.00        19\n",
            "          26       1.00      0.15      0.26        92\n",
            "          27       0.71      0.31      0.43       104\n",
            "          28       1.00      0.04      0.08        23\n",
            "          29       0.89      0.75      0.81       176\n",
            "          30       0.92      0.30      0.45        37\n",
            "          31       0.50      0.10      0.17        30\n",
            "          32       0.84      0.60      0.70       160\n",
            "          33       0.00      0.00      0.00        10\n",
            "          34       0.61      0.32      0.42        44\n",
            "          35       0.95      0.42      0.58        50\n",
            "\n",
            "   micro avg       0.79      0.35      0.49      2629\n",
            "   macro avg       0.56      0.20      0.27      2629\n",
            "weighted avg       0.72      0.35      0.44      2629\n",
            " samples avg       0.43      0.37      0.39      2629\n",
            "\n"
          ]
        }
      ],
      "source": [
        "from sklearn.svm import SVC\n",
        "\n",
        "svc = MOC(SVC())\n",
        "svc.fit(xtrain_basef, ytrain)\n",
        "\n",
        "print('Micro F1 score on train:',quick_f1(ytrain_ml  , svc.predict(xtrain_basef)))\n",
        "print('Micro F1 score on dev',quick_f1(ydev_ml  , svc.predict(xdev_basef)))\n",
        "print('Micro F1 score on test',quick_f1(ytest_ml , svc.predict(xtest_basef)))\n",
        "print(evaluate(svc, xtest_basef, ytest))"
      ]
    },
    {
      "cell_type": "markdown",
      "metadata": {
        "id": "dgLxF_zP7l26"
      },
      "source": [
        "## Unicode normalization"
      ]
    },
    {
      "cell_type": "code",
      "execution_count": 23,
      "metadata": {
        "id": "7vOYbrYIAFjU"
      },
      "outputs": [],
      "source": [
        "# import unicodedata\n",
        "\n",
        "# dựng_sẵn = '\\u1EA0'\n",
        "# tổ_hợp   = '\\u0041\\u0323'\n",
        "\n",
        "# print(dựng_sẵn, tổ_hợp)\n",
        "# print(dựng_sẵn == tổ_hợp)\n",
        "\n",
        "# print('-'*10)\n",
        "\n",
        "# dựng_sẵn = unicodedata.normalize('NFC', dựng_sẵn)\n",
        "# tổ_hợp   = unicodedata.normalize('NFC', tổ_hợp)\n",
        "\n",
        "# print(dựng_sẵn, tổ_hợp)\n",
        "# print(dựng_sẵn == tổ_hợp)"
      ]
    },
    {
      "cell_type": "markdown",
      "metadata": {
        "id": "WgNHI9f9B4d_"
      },
      "source": [
        "## Test TextCleaner class"
      ]
    },
    {
      "cell_type": "code",
      "execution_count": 24,
      "metadata": {
        "id": "W__UH-mI8isz"
      },
      "outputs": [],
      "source": [
        "# texts = ['K khí trong lành. đồ ăn hong ngon, thức uống  K tồi; 🥙🌮',\n",
        "#          'khung cảnh xinh đẹp',\n",
        "#          'khuyến mãi cực sốc giả chỉ 1000 đồng',\n",
        "#          '200k quá mắc',\n",
        "#          'món ăn này mắc quá tới 200k lận. ngày 23/3/2000 😴',\n",
        "#          'mua 100.000vnd',\n",
        "#          'bán 1,000,000 d. 5 cái bành xèo tốn 500k',\n",
        "#          'bán 1.000.000 d. 5 cái bành xèo tốn 500k %^^4',\n",
        "#          'món ăn này có giá 10 lít',\n",
        "#          'món ăn này tận 100 nghìn đồng',\n",
        "#          'bán 1.000đ',\n",
        "#          'quán này có giá trung bình từ 100k-200k 😛',\n",
        "#          'quán này có giá trung bình từ 100-200k 😫',\n",
        "#          '#mắc #food',\n",
        "#          'bàn ghế sạch đẹp, thái độ nhân viên ok#restaurant 😍',\n",
        "#          '#tiktok ở nhà vẫn vui',\n",
        "#          '# birthday ngày mai có tiệc ^^',\n",
        "#          'aslkdhlakd#tiktok#learn asljdalskjd',\n",
        "#          '#tiktok   #learn',\n",
        "#          '#hastag alskjdlasjd #hastag asdsadas #hastag 😁',\n",
        "#          '#123&456',\n",
        "#          '#!?@!']\n",
        "\n",
        "# cleaner = TextCleaner()\n",
        "# for t in cleaner.fit_transform(texts):\n",
        "#     print(t.strip())"
      ]
    },
    {
      "cell_type": "markdown",
      "source": [
        "#Export file"
      ],
      "metadata": {
        "id": "TH3ik81KlfA8"
      }
    },
    {
      "cell_type": "code",
      "source": [
        "testpredict = lr.predict(xtest_basef)\n",
        "# for i in testpredict:\n",
        "#   print(i)"
      ],
      "metadata": {
        "id": "PeT1AfcqToE5"
      },
      "execution_count": 22,
      "outputs": []
    },
    {
      "cell_type": "code",
      "source": [
        "number = list()\n",
        "f = open(\"/content/Corpus-Lingistic-CS321/file text/Test.txt\", 'r', encoding ='UTF8')\n",
        "tem = f.readlines()\n",
        "f.close()\n",
        "for i in range(0, len(tem), 4):\n",
        "  number.append(tem[i])\n",
        "print(number)"
      ],
      "metadata": {
        "colab": {
          "base_uri": "https://localhost:8080/"
        },
        "id": "YL8Twt2-fBKz",
        "outputId": "cd687521-5cd5-451e-d895-5cfd1bb29722"
      },
      "execution_count": 37,
      "outputs": [
        {
          "output_type": "stream",
          "name": "stdout",
          "text": [
            "['#1\\n', '#2\\n', '#3\\n', '#4\\n', '#5\\n', '#6\\n', '#7\\n', '#8\\n', '#9\\n', '#10\\n', '#11\\n', '#12\\n', '#13\\n', '#14\\n', '#15\\n', '#16\\n', '#17\\n', '#18\\n', '#19\\n', '#20\\n', '#21\\n', '#22\\n', '#23\\n', '#24\\n', '#25\\n', '#26\\n', '#27\\n', '#28\\n', '#29\\n', '#30\\n', '#31\\n', '#32\\n', '#33\\n', '#34\\n', '#35\\n', '#36\\n', '#37\\n', '#38\\n', '#39\\n', '#40\\n', '#41\\n', '#42\\n', '#43\\n', '#44\\n', '#45\\n', '#46\\n', '#47\\n', '#48\\n', '#49\\n', '#50\\n', '#51\\n', '#52\\n', '#53\\n', '#54\\n', '#55\\n', '#56\\n', '#57\\n', '#58\\n', '#59\\n', '#60\\n', '#61\\n', '#62\\n', '#63\\n', '#64\\n', '#65\\n', '#66\\n', '#67\\n', '#68\\n', '#69\\n', '#70\\n', '#71\\n', '#72\\n', '#73\\n', '#74\\n', '#75\\n', '#76\\n', '#77\\n', '#78\\n', '#79\\n', '#80\\n', '#81\\n', '#82\\n', '#83\\n', '#84\\n', '#85\\n', '#86\\n', '#87\\n', '#88\\n', '#89\\n', '#90\\n', '#91\\n', '#92\\n', '#93\\n', '#94\\n', '#95\\n', '#96\\n', '#97\\n', '#98\\n', '#99\\n', '#100\\n', '#101\\n', '#102\\n', '#103\\n', '#104\\n', '#105\\n', '#106\\n', '#107\\n', '#108\\n', '#109\\n', '#110\\n', '#111\\n', '#112\\n', '#113\\n', '#114\\n', '#115\\n', '#116\\n', '#117\\n', '#118\\n', '#119\\n', '#120\\n', '#121\\n', '#122\\n', '#123\\n', '#124\\n', '#125\\n', '#126\\n', '#127\\n', '#128\\n', '#129\\n', '#130\\n', '#131\\n', '#132\\n', '#133\\n', '#134\\n', '#135\\n', '#136\\n', '#137\\n', '#138\\n', '#139\\n', '#140\\n', '#141\\n', '#142\\n', '#143\\n', '#144\\n', '#145\\n', '#146\\n', '#147\\n', '#148\\n', '#149\\n', '#150\\n', '#151\\n', '#152\\n', '#153\\n', '#154\\n', '#155\\n', '#156\\n', '#157\\n', '#158\\n', '#159\\n', '#160\\n', '#161\\n', '#162\\n', '#163\\n', '#164\\n', '#165\\n', '#166\\n', '#167\\n', '#168\\n', '#169\\n', '#170\\n', '#171\\n', '#172\\n', '#173\\n', '#174\\n', '#175\\n', '#176\\n', '#177\\n', '#178\\n', '#179\\n', '#180\\n', '#181\\n', '#182\\n', '#183\\n', '#184\\n', '#185\\n', '#186\\n', '#187\\n', '#188\\n', '#189\\n', '#190\\n', '#191\\n', '#192\\n', '#193\\n', '#194\\n', '#195\\n', '#196\\n', '#197\\n', '#198\\n', '#199\\n', '#200\\n', '#201\\n', '#202\\n', '#203\\n', '#204\\n', '#205\\n', '#206\\n', '#207\\n', '#208\\n', '#209\\n', '#210\\n', '#211\\n', '#212\\n', '#213\\n', '#214\\n', '#215\\n', '#216\\n', '#217\\n', '#218\\n', '#219\\n', '#220\\n', '#221\\n', '#222\\n', '#223\\n', '#224\\n', '#225\\n', '#226\\n', '#227\\n', '#228\\n', '#229\\n', '#230\\n', '#231\\n', '#232\\n', '#233\\n', '#234\\n', '#235\\n', '#236\\n', '#237\\n', '#238\\n', '#239\\n', '#240\\n', '#241\\n', '#242\\n', '#243\\n', '#244\\n', '#245\\n', '#246\\n', '#247\\n', '#248\\n', '#249\\n', '#250\\n', '#251\\n', '#252\\n', '#253\\n', '#254\\n', '#255\\n', '#256\\n', '#257\\n', '#258\\n', '#259\\n', '#260\\n', '#261\\n', '#262\\n', '#263\\n', '#264\\n', '#265\\n', '#266\\n', '#267\\n', '#268\\n', '#269\\n', '#270\\n', '#271\\n', '#272\\n', '#273\\n', '#274\\n', '#275\\n', '#276\\n', '#277\\n', '#278\\n', '#279\\n', '#280\\n', '#281\\n', '#282\\n', '#283\\n', '#284\\n', '#285\\n', '#286\\n', '#287\\n', '#288\\n', '#289\\n', '#290\\n', '#291\\n', '#292\\n', '#293\\n', '#294\\n', '#295\\n', '#296\\n', '#297\\n', '#298\\n', '#299\\n', '#300\\n', '#301\\n', '#302\\n', '#303\\n', '#304\\n', '#305\\n', '#306\\n', '#307\\n', '#308\\n', '#309\\n', '#310\\n', '#311\\n', '#312\\n', '#313\\n', '#314\\n', '#315\\n', '#316\\n', '#317\\n', '#318\\n', '#319\\n', '#320\\n', '#321\\n', '#322\\n', '#323\\n', '#324\\n', '#325\\n', '#326\\n', '#327\\n', '#328\\n', '#329\\n', '#330\\n', '#331\\n', '#332\\n', '#333\\n', '#334\\n', '#335\\n', '#336\\n', '#337\\n', '#338\\n', '#339\\n', '#340\\n', '#341\\n', '#342\\n', '#343\\n', '#344\\n', '#345\\n', '#346\\n', '#347\\n', '#348\\n', '#349\\n', '#350\\n', '#351\\n', '#352\\n', '#353\\n', '#354\\n', '#355\\n', '#356\\n', '#357\\n', '#358\\n', '#359\\n', '#360\\n', '#361\\n', '#362\\n', '#363\\n', '#364\\n', '#365\\n', '#366\\n', '#367\\n', '#368\\n', '#369\\n', '#370\\n', '#371\\n', '#372\\n', '#373\\n', '#374\\n', '#375\\n', '#376\\n', '#377\\n', '#378\\n', '#379\\n', '#380\\n', '#381\\n', '#382\\n', '#383\\n', '#384\\n', '#385\\n', '#386\\n', '#387\\n', '#388\\n', '#389\\n', '#390\\n', '#391\\n', '#392\\n', '#393\\n', '#394\\n', '#395\\n', '#396\\n', '#397\\n', '#398\\n', '#399\\n', '#400\\n', '#401\\n', '#402\\n', '#403\\n', '#404\\n', '#405\\n', '#406\\n', '#407\\n', '#408\\n', '#409\\n', '#410\\n', '#411\\n', '#412\\n', '#413\\n', '#414\\n', '#415\\n', '#416\\n', '#417\\n', '#418\\n', '#419\\n', '#420\\n', '#421\\n', '#422\\n', '#423\\n', '#424\\n', '#425\\n', '#426\\n', '#427\\n', '#428\\n', '#429\\n', '#430\\n', '#431\\n', '#432\\n', '#433\\n', '#434\\n', '#435\\n', '#436\\n', '#437\\n', '#438\\n', '#439\\n', '#440\\n', '#441\\n', '#442\\n', '#443\\n', '#444\\n', '#445\\n', '#446\\n', '#447\\n', '#448\\n', '#449\\n', '#450\\n', '#451\\n', '#452\\n', '#453\\n', '#454\\n', '#455\\n', '#456\\n', '#457\\n', '#458\\n', '#459\\n', '#460\\n', '#461\\n', '#462\\n', '#463\\n', '#464\\n', '#465\\n', '#466\\n', '#467\\n', '#468\\n', '#469\\n', '#470\\n', '#471\\n', '#472\\n', '#473\\n', '#474\\n', '#475\\n', '#476\\n', '#477\\n', '#478\\n', '#479\\n', '#480\\n', '#481\\n', '#482\\n', '#483\\n', '#484\\n', '#485\\n', '#486\\n', '#487\\n', '#488\\n', '#489\\n', '#490\\n', '#491\\n', '#492\\n', '#493\\n', '#494\\n', '#495\\n', '#496\\n', '#497\\n', '#498\\n', '#499\\n', '#500\\n', '#501\\n', '#502\\n', '#503\\n', '#504\\n', '#505\\n', '#506\\n', '#507\\n', '#508\\n', '#509\\n', '#510\\n', '#511\\n', '#512\\n', '#513\\n', '#514\\n', '#515\\n', '#516\\n', '#517\\n', '#518\\n', '#519\\n', '#520\\n', '#521\\n', '#522\\n', '#523\\n', '#524\\n', '#525\\n', '#526\\n', '#527\\n', '#528\\n', '#529\\n', '#530\\n', '#531\\n', '#532\\n', '#533\\n', '#534\\n', '#535\\n', '#536\\n', '#537\\n', '#538\\n', '#539\\n', '#540\\n', '#541\\n', '#542\\n', '#543\\n', '#544\\n', '#545\\n', '#546\\n', '#547\\n', '#548\\n', '#549\\n', '#550\\n', '#551\\n', '#552\\n', '#553\\n', '#554\\n', '#555\\n', '#556\\n', '#557\\n', '#558\\n', '#559\\n', '#560\\n', '#561\\n', '#562\\n', '#563\\n', '#564\\n', '#565\\n', '#566\\n', '#567\\n', '#568\\n', '#569\\n', '#570\\n', '#571\\n', '#572\\n', '#573\\n', '#574\\n', '#575\\n', '#576\\n', '#577\\n', '#578\\n', '#579\\n', '#580\\n', '#581\\n', '#582\\n', '#583\\n', '#584\\n', '#585\\n', '#586\\n', '#587\\n', '#588\\n', '#589\\n', '#590\\n', '#591\\n', '#592\\n', '#593\\n', '#594\\n', '#595\\n', '#596\\n', '#597\\n', '#598\\n', '#599\\n', '#600\\n', '#601\\n', '#602\\n', '#603\\n', '#604\\n', '#605\\n', '#606\\n', '#607\\n', '#608\\n', '#609\\n', '#610\\n', '#611\\n', '#612\\n', '#613\\n', '#614\\n', '#615\\n', '#616\\n', '#617\\n', '#618\\n', '#619\\n', '#620\\n', '#621\\n', '#622\\n', '#623\\n', '#624\\n', '#625\\n', '#626\\n', '#627\\n', '#628\\n', '#629\\n', '#630\\n', '#631\\n', '#632\\n', '#633\\n', '#634\\n', '#635\\n', '#636\\n', '#637\\n', '#638\\n', '#639\\n', '#640\\n', '#641\\n', '#642\\n', '#643\\n', '#644\\n', '#645\\n', '#646\\n', '#647\\n', '#648\\n', '#649\\n', '#650\\n', '#651\\n', '#652\\n', '#653\\n', '#654\\n', '#655\\n', '#656\\n', '#657\\n', '#658\\n', '#659\\n', '#660\\n', '#661\\n', '#662\\n', '#663\\n', '#664\\n', '#665\\n', '#666\\n', '#667\\n', '#668\\n', '#669\\n', '#670\\n', '#671\\n', '#672\\n', '#673\\n', '#674\\n', '#675\\n', '#676\\n', '#677\\n', '#678\\n', '#679\\n', '#680\\n', '#681\\n', '#682\\n', '#683\\n', '#684\\n', '#685\\n', '#686\\n', '#687\\n', '#688\\n', '#689\\n', '#690\\n', '#691\\n', '#692\\n', '#693\\n', '#694\\n', '#695\\n', '#696\\n', '#697\\n', '#698\\n', '#699\\n', '#700\\n', '#701\\n', '#702\\n', '#703\\n', '#704\\n', '#705\\n', '#706\\n', '#707\\n', '#708\\n', '#709\\n', '#710\\n', '#711\\n', '#712\\n', '#713\\n', '#714\\n', '#715\\n', '#716\\n', '#717\\n', '#718\\n', '#719\\n', '#720\\n', '#721\\n', '#722\\n', '#723\\n', '#724\\n', '#725\\n', '#726\\n', '#727\\n', '#728\\n', '#729\\n', '#730\\n', '#731\\n', '#732\\n', '#733\\n', '#734\\n', '#735\\n', '#736\\n', '#737\\n', '#738\\n', '#739\\n', '#740\\n', '#741\\n', '#742\\n', '#743\\n', '#744\\n', '#745\\n', '#746\\n', '#747\\n', '#748\\n', '#749\\n', '#750\\n', '#751\\n', '#752\\n', '#753\\n', '#754\\n', '#755\\n', '#756\\n', '#757\\n', '#758\\n', '#759\\n', '#760\\n', '#761\\n', '#762\\n', '#763\\n', '#764\\n', '#765\\n', '#766\\n', '#767\\n', '#768\\n', '#769\\n', '#770\\n', '#771\\n', '#772\\n', '#773\\n', '#774\\n', '#775\\n', '#776\\n', '#777\\n', '#778\\n', '#779\\n', '#780\\n', '#781\\n', '#782\\n', '#783\\n', '#784\\n', '#785\\n', '#786\\n', '#787\\n', '#788\\n', '#789\\n', '#790\\n', '#791\\n', '#792\\n', '#793\\n', '#794\\n', '#795\\n', '#796\\n', '#797\\n', '#798\\n', '#799\\n', '#800\\n', '#801\\n', '#802\\n', '#803\\n', '#804\\n', '#805\\n', '#806\\n', '#807\\n', '#808\\n', '#809\\n', '#810\\n', '#811\\n', '#812\\n', '#813\\n', '#814\\n', '#815\\n', '#816\\n', '#817\\n', '#818\\n', '#819\\n', '#820\\n', '#821\\n', '#822\\n', '#823\\n', '#824\\n', '#825\\n', '#826\\n', '#827\\n', '#828\\n', '#829\\n', '#830\\n', '#831\\n', '#832\\n', '#833\\n', '#834\\n', '#835\\n', '#836\\n', '#837\\n', '#838\\n', '#839\\n', '#840\\n', '#841\\n', '#842\\n', '#843\\n', '#844\\n', '#845\\n', '#846\\n', '#847\\n', '#848\\n', '#849\\n', '#850\\n', '#851\\n', '#852\\n', '#853\\n', '#854\\n', '#855\\n', '#856\\n', '#857\\n', '#858\\n', '#859\\n', '#860\\n', '#861\\n', '#862\\n', '#863\\n', '#864\\n', '#865\\n', '#866\\n', '#867\\n', '#868\\n', '#869\\n', '#870\\n', '#871\\n', '#872\\n', '#873\\n', '#874\\n', '#875\\n', '#876\\n', '#877\\n', '#878\\n', '#879\\n', '#880\\n', '#881\\n', '#882\\n', '#883\\n', '#884\\n', '#885\\n', '#886\\n', '#887\\n', '#888\\n', '#889\\n', '#890\\n', '#891\\n', '#892\\n', '#893\\n', '#894\\n', '#895\\n', '#896\\n', '#897\\n', '#898\\n', '#899\\n', '#900\\n', '#901\\n', '#902\\n', '#903\\n', '#904\\n', '#905\\n', '#906\\n', '#907\\n', '#908\\n', '#909\\n', '#910\\n', '#911\\n', '#912\\n', '#913\\n', '#914\\n', '#915\\n', '#916\\n', '#917\\n', '#918\\n', '#919\\n', '#920\\n', '#921\\n', '#922\\n', '#923\\n', '#924\\n', '#925\\n', '#926\\n', '#927\\n', '#928\\n', '#929\\n', '#930\\n', '#931\\n', '#932\\n', '#933\\n', '#934\\n', '#935\\n', '#936\\n', '#937\\n', '#938\\n', '#939\\n', '#940\\n', '#941\\n', '#942\\n', '#943\\n', '#944\\n', '#945\\n', '#946\\n', '#947\\n', '#948\\n', '#949\\n', '#950\\n', '#951\\n', '#952\\n', '#953\\n', '#954\\n', '#955\\n', '#956\\n', '#957\\n', '#958\\n', '#959\\n', '#960\\n', '#961\\n', '#962\\n', '#963\\n', '#964\\n', '#965\\n', '#966\\n', '#967\\n', '#968\\n', '#969\\n', '#970\\n', '#971\\n', '#972\\n', '#973\\n', '#974\\n', '#975\\n', '#976\\n', '#977\\n', '#978\\n', '#979\\n', '#980\\n', '#981\\n', '#982\\n', '#983\\n', '#984\\n', '#985\\n', '#986\\n', '#987\\n', '#988\\n', '#989\\n', '#990\\n', '#991\\n', '#992\\n', '#993\\n', '#994\\n', '#995\\n', '#996\\n', '#997\\n', '#998\\n', '#999\\n', '#1000\\n', '#1001\\n', '#1002\\n', '#1003\\n', '#1004\\n', '#1005\\n', '#1006\\n', '#1007\\n', '#1008\\n', '#1009\\n', '#1010\\n', '#1011\\n', '#1012\\n', '#1013\\n', '#1014\\n', '#1015\\n', '#1016\\n', '#1017\\n', '#1018\\n', '#1019\\n', '#1020\\n', '#1021\\n', '#1022\\n', '#1023\\n', '#1024\\n', '#1025\\n', '#1026\\n', '#1027\\n', '#1028\\n', '#1029\\n', '#1030\\n', '#1031\\n', '#1032\\n', '#1033\\n', '#1034\\n', '#1035\\n', '#1036\\n', '#1037\\n', '#1038\\n', '#1039\\n', '#1040\\n', '#1041\\n', '#1042\\n', '#1043\\n', '#1044\\n', '#1045\\n', '#1046\\n', '#1047\\n', '#1048\\n', '#1049\\n', '#1050\\n', '#1051\\n', '#1052\\n', '#1053\\n', '#1054\\n', '#1055\\n', '#1056\\n', '#1057\\n', '#1058\\n', '#1059\\n', '#1060\\n', '#1061\\n', '#1062\\n', '#1063\\n', '#1064\\n', '#1065\\n', '#1066\\n', '#1067\\n', '#1068\\n', '#1069\\n', '#1070\\n', '#1071\\n', '#1072\\n', '#1073\\n', '#1074\\n', '#1075\\n', '#1076\\n', '#1077\\n', '#1078\\n', '#1079\\n', '#1080\\n', '#1081\\n', '#1082\\n', '#1083\\n', '#1084\\n', '#1085\\n', '#1086\\n', '#1087\\n', '#1088\\n', '#1089\\n', '#1090\\n', '#1091\\n', '#1092\\n', '#1093\\n', '#1094\\n', '#1095\\n', '#1096\\n', '#1097\\n', '#1098\\n', '#1099\\n', '#1100\\n', '#1101\\n', '#1102\\n', '#1103\\n', '#1104\\n', '#1105\\n', '#1106\\n', '#1107\\n', '#1108\\n', '#1109\\n', '#1110\\n', '#1111\\n', '#1112\\n', '#1113\\n', '#1114\\n', '#1115\\n', '#1116\\n', '#1117\\n', '#1118\\n', '#1119\\n', '#1120\\n', '#1121\\n', '#1122\\n', '#1123\\n', '#1124\\n', '#1125\\n', '#1126\\n', '#1127\\n', '#1128\\n', '#1129\\n', '#1130\\n', '#1131\\n', '#1132\\n', '#1133\\n', '#1134\\n', '#1135\\n', '#1136\\n', '#1137\\n', '#1138\\n', '#1139\\n', '#1140\\n', '#1141\\n', '#1142\\n', '#1143\\n', '#1144\\n', '#1145\\n', '#1146\\n', '#1147\\n', '#1148\\n', '#1149\\n', '#1150\\n', '#1151\\n', '#1152\\n', '#1153\\n', '#1154\\n', '#1155\\n', '#1156\\n', '#1157\\n', '#1158\\n', '#1159\\n', '#1160\\n', '#1161\\n', '#1162\\n', '#1163\\n', '#1164\\n', '#1165\\n', '#1166\\n', '#1167\\n', '#1168\\n', '#1169\\n', '#1170\\n', '#1171\\n', '#1172\\n', '#1173\\n', '#1174\\n', '#1175\\n', '#1176\\n', '#1177\\n', '#1178\\n', '#1179\\n', '#1180\\n', '#1181\\n', '#1182\\n', '#1183\\n', '#1184\\n', '#1185\\n', '#1186\\n', '#1187\\n', '#1188\\n', '#1189\\n', '#1190\\n', '#1191\\n', '#1192\\n', '#1193\\n', '#1194\\n', '#1195\\n', '#1196\\n', '#1197\\n', '#1198\\n', '#1199\\n', '#1200\\n', '#1201\\n', '#1202\\n', '#1203\\n', '#1204\\n', '#1205\\n', '#1206\\n', '#1207\\n', '#1208\\n', '#1209\\n', '#1210\\n', '#1211\\n', '#1212\\n', '#1213\\n', '#1214\\n', '#1215\\n', '#1216\\n', '#1217\\n', '#1218\\n', '#1219\\n', '#1220\\n', '#1221\\n', '#1222\\n', '#1223\\n', '#1224\\n', '#1225\\n', '#1226\\n', '#1227\\n', '#1228\\n', '#1229\\n', '#1230\\n', '#1231\\n', '#1232\\n', '#1233\\n', '#1234\\n', '#1235\\n', '#1236\\n', '#1237\\n', '#1238\\n', '#1239\\n', '#1240\\n', '#1241\\n', '#1242\\n', '#1243\\n', '#1244\\n', '#1245\\n', '#1246\\n', '#1247\\n', '#1248\\n', '#1249\\n', '#1250\\n', '#1251\\n', '#1252\\n', '#1253\\n', '#1254\\n', '#1255\\n', '#1256\\n', '#1257\\n', '#1258\\n', '#1259\\n', '#1260\\n', '#1261\\n', '#1262\\n', '#1263\\n', '#1264\\n', '#1265\\n', '#1266\\n', '#1267\\n', '#1268\\n', '#1269\\n', '#1270\\n', '#1271\\n', '#1272\\n', '#1273\\n', '#1274\\n', '#1275\\n', '#1276\\n', '#1277\\n', '#1278\\n', '#1279\\n', '#1280\\n', '#1281\\n', '#1282\\n', '#1283\\n', '#1284\\n', '#1285\\n', '#1286\\n', '#1287\\n', '#1288\\n', '#1289\\n', '#1290\\n', '#1291\\n', '#1292\\n', '#1293\\n', '#1294\\n', '#1295\\n', '#1296\\n', '#1297\\n', '#1298\\n', '#1299\\n', '#1300\\n', '#1301\\n', '#1302\\n', '#1303\\n', '#1304\\n', '#1305\\n', '#1306\\n', '#1307\\n', '#1308\\n', '#1309\\n', '#1310\\n', '#1311\\n', '#1312\\n', '#1313\\n', '#1314\\n', '#1315\\n', '#1316\\n', '#1317\\n', '#1318\\n', '#1319\\n', '#1320\\n', '#1321\\n', '#1322\\n', '#1323\\n', '#1324\\n', '#1325\\n', '#1326\\n', '#1327\\n', '#1328\\n', '#1329\\n', '#1330\\n', '#1331\\n', '#1332\\n', '#1333\\n', '#1334\\n', '#1335\\n', '#1336\\n', '#1337\\n', '#1338\\n', '#1339\\n', '#1340\\n', '#1341\\n', '#1342\\n', '#1343\\n', '#1344\\n', '#1345\\n', '#1346\\n', '#1347\\n', '#1348\\n', '#1349\\n', '#1350\\n', '#1351\\n', '#1352\\n', '#1353\\n', '#1354\\n', '#1355\\n', '#1356\\n', '#1357\\n', '#1358\\n', '#1359\\n', '#1360\\n', '#1361\\n', '#1362\\n', '#1363\\n', '#1364\\n', '#1365\\n', '#1366\\n', '#1367\\n', '#1368\\n', '#1369\\n', '#1370\\n', '#1371\\n', '#1372\\n', '#1373\\n', '#1374\\n', '#1375\\n', '#1376\\n', '#1377\\n', '#1378\\n', '#1379\\n', '#1380\\n', '#1381\\n', '#1382\\n', '#1383\\n', '#1384\\n', '#1385\\n', '#1386\\n', '#1387\\n', '#1388\\n', '#1389\\n', '#1390\\n', '#1391\\n', '#1392\\n', '#1393\\n', '#1394\\n', '#1395\\n', '#1396\\n', '#1397\\n', '#1398\\n', '#1399\\n', '#1400\\n', '#1401\\n', '#1402\\n', '#1403\\n', '#1404\\n', '#1405\\n', '#1406\\n', '#1407\\n', '#1408\\n', '#1409\\n', '#1410\\n', '#1411\\n', '#1412\\n', '#1413\\n', '#1414\\n', '#1415\\n', '#1416\\n', '#1417\\n', '#1418\\n', '#1419\\n', '#1420\\n', '#1421\\n', '#1422\\n', '#1423\\n', '#1424\\n', '#1425\\n', '#1426\\n', '#1427\\n', '#1428\\n', '#1429\\n', '#1430\\n', '#1431\\n', '#1432\\n', '#1433\\n', '#1434\\n', '#1435\\n', '#1436\\n', '#1437\\n', '#1438\\n', '#1439\\n', '#1440\\n', '#1441\\n', '#1442\\n', '#1443\\n', '#1444\\n', '#1445\\n', '#1446\\n', '#1447\\n', '#1448\\n', '#1449\\n', '#1450\\n', '#1451\\n', '#1452\\n', '#1453\\n', '#1454\\n', '#1455\\n', '#1456\\n', '#1457\\n', '#1458\\n', '#1459\\n', '#1460\\n', '#1461\\n', '#1462\\n', '#1463\\n', '#1464\\n', '#1465\\n', '#1466\\n', '#1467\\n', '#1468\\n', '#1469\\n', '#1470\\n', '#1471\\n', '#1472\\n', '#1473\\n', '#1474\\n', '#1475\\n', '#1476\\n', '#1477\\n', '#1478\\n', '#1479\\n', '#1480\\n', '#1481\\n', '#1482\\n', '#1483\\n', '#1484\\n', '#1485\\n', '#1486\\n', '#1487\\n', '#1488\\n', '#1489\\n', '#1490\\n', '#1491\\n', '#1492\\n', '#1493\\n', '#1494\\n', '#1495\\n', '#1496\\n', '#1497\\n', '#1498\\n', '#1499\\n', '#1500\\n', '#1501\\n', '#1502\\n', '#1503\\n', '#1504\\n', '#1505\\n', '#1506\\n', '#1507\\n', '#1508\\n', '#1509\\n', '#1510\\n', '#1511\\n', '#1512\\n', '#1513\\n', '#1514\\n', '#1515\\n', '#1516\\n', '#1517\\n', '#1518\\n', '#1519\\n', '#1520\\n', '#1521\\n', '#1522\\n', '#1523\\n', '#1524\\n', '#1525\\n', '#1526\\n', '#1527\\n', '#1528\\n', '#1529\\n', '#1530\\n', '#1531\\n', '#1532\\n', '#1533\\n', '#1534\\n', '#1535\\n', '#1536\\n', '#1537\\n', '#1538\\n', '#1539\\n', '#1540\\n', '#1541\\n', '#1542\\n', '#1543\\n', '#1544\\n', '#1545\\n', '#1546\\n', '#1547\\n', '#1548\\n', '#1549\\n', '#1550\\n', '#1551\\n', '#1552\\n', '#1553\\n', '#1554\\n', '#1555\\n', '#1556\\n', '#1557\\n', '#1558\\n', '#1559\\n', '#1560\\n', '#1561\\n', '#1562\\n', '#1563\\n', '#1564\\n', '#1565\\n', '#1566\\n', '#1567\\n', '#1568\\n', '#1569\\n', '#1570\\n', '#1571\\n', '#1572\\n', '#1573\\n', '#1574\\n', '#1575\\n', '#1576\\n', '#1577\\n', '#1578\\n', '#1579\\n', '#1580\\n', '#1581\\n', '#1582\\n', '#1583\\n', '#1584\\n', '#1585\\n', '#1586\\n', '#1587\\n', '#1588\\n', '#1589\\n', '#1590\\n', '#1591\\n', '#1592\\n', '#1593\\n', '#1594\\n', '#1595\\n', '#1596\\n', '#1597\\n', '#1598\\n', '#1599\\n', '#1600\\n', '#1601\\n', '#1602\\n', '#1603\\n', '#1604\\n', '#1605\\n', '#1606\\n', '#1607\\n', '#1608\\n', '#1609\\n', '#1610\\n', '#1611\\n', '#1612\\n', '#1613\\n', '#1614\\n', '#1615\\n', '#1616\\n', '#1617\\n', '#1618\\n', '#1619\\n', '#1620\\n', '#1621\\n', '#1622\\n', '#1623\\n', '#1624\\n', '#1625\\n', '#1626\\n', '#1627\\n', '#1628\\n', '#1629\\n', '#1630\\n', '#1631\\n', '#1632\\n', '#1633\\n', '#1634\\n', '#1635\\n', '#1636\\n', '#1637\\n', '#1638\\n', '#1639\\n', '#1640\\n', '#1641\\n', '#1642\\n', '#1643\\n', '#1644\\n', '#1645\\n', '#1646\\n', '#1647\\n', '#1648\\n', '#1649\\n', '#1650\\n', '#1651\\n', '#1652\\n', '#1653\\n', '#1654\\n', '#1655\\n', '#1656\\n', '#1657\\n', '#1658\\n', '#1659\\n', '#1660\\n', '#1661\\n', '#1662\\n', '#1663\\n', '#1664\\n', '#1665\\n', '#1666\\n', '#1667\\n', '#1668\\n', '#1669\\n', '#1670\\n', '#1671\\n', '#1672\\n', '#1673\\n', '#1674\\n', '#1675\\n', '#1676\\n', '#1677\\n', '#1678\\n', '#1679\\n', '#1680\\n', '#1681\\n', '#1682\\n', '#1683\\n', '#1684\\n', '#1685\\n', '#1686\\n', '#1687\\n', '#1688\\n', '#1689\\n', '#1690\\n', '#1691\\n', '#1692\\n', '#1693\\n', '#1694\\n', '#1695\\n', '#1696\\n', '#1697\\n', '#1698\\n', '#1699\\n', '#1700\\n', '#1701\\n', '#1702\\n', '#1703\\n', '#1704\\n', '#1705\\n', '#1706\\n', '#1707\\n', '#1708\\n', '#1709\\n', '#1710\\n', '#1711\\n', '#1712\\n', '#1713\\n', '#1714\\n', '#1715\\n', '#1716\\n', '#1717\\n', '#1718\\n', '#1719\\n', '#1720\\n', '#1721\\n', '#1722\\n', '#1723\\n', '#1724\\n', '#1725\\n', '#1726\\n', '#1727\\n', '#1728\\n', '#1729\\n', '#1730\\n', '#1731\\n', '#1732\\n', '#1733\\n', '#1734\\n', '#1735\\n', '#1736\\n', '#1737\\n', '#1738\\n', '#1739\\n', '#1740\\n', '#1741\\n', '#1742\\n', '#1743\\n', '#1744\\n', '#1745\\n', '#1746\\n', '#1747\\n', '#1748\\n', '#1749\\n', '#1750\\n', '#1751\\n', '#1752\\n', '#1753\\n', '#1754\\n', '#1755\\n', '#1756\\n', '#1757\\n', '#1758\\n', '#1759\\n', '#1760\\n', '#1761\\n', '#1762\\n', '#1763\\n', '#1764\\n', '#1765\\n', '#1766\\n', '#1767\\n', '#1768\\n', '#1769\\n', '#1770\\n', '#1771\\n', '#1772\\n', '#1773\\n', '#1774\\n', '#1775\\n', '#1776\\n', '#1777\\n', '#1778\\n', '#1779\\n', '#1780\\n', '#1781\\n', '#1782\\n', '#1783\\n', '#1784\\n', '#1785\\n', '#1786\\n', '#1787\\n', '#1788\\n', '#1789\\n', '#1790\\n', '#1791\\n', '#1792\\n', '#1793\\n', '#1794\\n', '#1795\\n', '#1796\\n', '#1797\\n', '#1798\\n', '#1799\\n', '#1800\\n', '#1801\\n', '#1802\\n', '#1803\\n', '#1804\\n', '#1805\\n', '#1806\\n', '#1807\\n', '#1808\\n', '#1809\\n', '#1810\\n', '#1811\\n', '#1812\\n', '#1813\\n', '#1814\\n', '#1815\\n', '#1816\\n', '#1817\\n', '#1818\\n', '#1819\\n', '#1820\\n', '#1821\\n', '#1822\\n', '#1823\\n', '#1824\\n', '#1825\\n', '#1826\\n', '#1827\\n', '#1828\\n', '#1829\\n', '#1830\\n', '#1831\\n', '#1832\\n', '#1833\\n', '#1834\\n', '#1835\\n', '#1836\\n', '#1837\\n', '#1838\\n', '#1839\\n', '#1840\\n', '#1841\\n', '#1842\\n', '#1843\\n', '#1844\\n', '#1845\\n', '#1846\\n', '#1847\\n', '#1848\\n', '#1849\\n', '#1850\\n', '#1851\\n', '#1852\\n', '#1853\\n', '#1854\\n', '#1855\\n', '#1856\\n', '#1857\\n', '#1858\\n', '#1859\\n', '#1860\\n', '#1861\\n', '#1862\\n', '#1863\\n', '#1864\\n', '#1865\\n', '#1866\\n', '#1867\\n', '#1868\\n', '#1869\\n', '#1870\\n', '#1871\\n', '#1872\\n', '#1873\\n', '#1874\\n', '#1875\\n', '#1876\\n', '#1877\\n', '#1878\\n', '#1879\\n', '#1880\\n', '#1881\\n', '#1882\\n', '#1883\\n', '#1884\\n', '#1885\\n', '#1886\\n', '#1887\\n', '#1888\\n', '#1889\\n', '#1890\\n', '#1891\\n', '#1892\\n', '#1893\\n', '#1894\\n', '#1895\\n', '#1896\\n', '#1897\\n', '#1898\\n', '#1899\\n', '#1900\\n', '#1901\\n', '#1902\\n', '#1903\\n', '#1904\\n', '#1905\\n', '#1906\\n', '#1907\\n', '#1908\\n', '#1909\\n', '#1910\\n', '#1911\\n', '#1912\\n', '#1913\\n', '#1914\\n', '#1915\\n', '#1916\\n', '#1917\\n', '#1918\\n', '#1919\\n', '#1920\\n', '#1921\\n', '#1922\\n', '#1923\\n', '#1924\\n', '#1925\\n', '#1926\\n', '#1927\\n', '#1928\\n', '#1929\\n', '#1930\\n', '#1931\\n', '#1932\\n', '#1933\\n', '#1934\\n', '#1935\\n', '#1936\\n', '#1937\\n', '#1938\\n']\n"
          ]
        }
      ]
    },
    {
      "cell_type": "code",
      "source": [
        "value = ['negative', 'neutral', 'positive']"
      ],
      "metadata": {
        "id": "shk1DOjJgkFj"
      },
      "execution_count": 35,
      "outputs": []
    },
    {
      "cell_type": "markdown",
      "source": [
        "##Export csv file"
      ],
      "metadata": {
        "id": "Ij_nv1ZwmURl"
      }
    },
    {
      "cell_type": "code",
      "source": [
        "f = open('/content/test.txt', 'w', encoding='UTF-8')\n",
        "for i in range(0,len(sentences_review)):\n",
        "  f.write(number[i])\n",
        "  f.write(test_data['review'][i])\n",
        "  f.write('\\n')\n",
        "  countlabel = 0\n",
        "  count = 0\n",
        "  for j in range(0,len(testpredict[i])):\n",
        "    if testpredict[i][j] != 0:\n",
        "      countlabel += 1\n",
        "  if countlabel != 0:\n",
        "    temp = ''\n",
        "    for j in range(0, len(testpredict[i])):\n",
        "      if testpredict[i][j] == 1:\n",
        "        temp = '{'+ aspects[j] + ', ' + value[0] + '}'\n",
        "        count += 1\n",
        "      elif testpredict[i][j] == 2:\n",
        "        temp = '{'+ aspects[j] + ', ' + value[1] + '}'\n",
        "        count += 1\n",
        "      elif testpredict[i][j] == 3:\n",
        "        temp = '{'+ aspects[j] + ', ' + value[2] + '}'\n",
        "        count += 1\n",
        "      if count < countlabel:\n",
        "        temp += ','\n",
        "    f.write(temp)\n",
        "  f.write('\\n')\n",
        "  f.write('\\n')\n",
        "f.close()"
      ],
      "metadata": {
        "id": "ORjaS0wXfxt6"
      },
      "execution_count": 38,
      "outputs": []
    },
    {
      "cell_type": "markdown",
      "source": [
        "##Export 10 text files"
      ],
      "metadata": {
        "id": "qdhAapBBmX6x"
      }
    },
    {
      "cell_type": "code",
      "source": [
        "from google.colab import files"
      ],
      "metadata": {
        "id": "HnAupQHRmuqz"
      },
      "execution_count": 40,
      "outputs": []
    },
    {
      "cell_type": "code",
      "source": [
        "f = open('/content/test.txt', 'r', encoding='UTF-8')\n",
        "test_file = f.readlines()\n",
        "f.close()\n",
        "num = 1\n",
        "tem = []\n",
        "count = 0\n",
        "for idx in test_file:\n",
        "  tem.append(idx)\n",
        "  count += 1\n",
        "  if count == 800:\n",
        "    with open('{}.txt'.format(num),'w', encoding='utf-8') as f:\n",
        "      for i in tem:\n",
        "        f.write(i)\n",
        "    files.download('{}.txt'.format(num))\n",
        "    num += 1\n",
        "    count = 0\n",
        "    tem = []\n",
        "    continue\n",
        "with open('{}.txt'.format(num),'w', encoding='utf-8') as f:\n",
        "    for i in tem:\n",
        "       f.write(i)\n",
        "files.download('{}.txt'.format(num))\n",
        "f.close()"
      ],
      "metadata": {
        "colab": {
          "base_uri": "https://localhost:8080/",
          "height": 17
        },
        "id": "TVOgXg0jk_Kr",
        "outputId": "f91aa104-fb29-46d8-b289-747a40631f97"
      },
      "execution_count": 41,
      "outputs": [
        {
          "output_type": "display_data",
          "data": {
            "text/plain": [
              "<IPython.core.display.Javascript object>"
            ],
            "application/javascript": [
              "\n",
              "    async function download(id, filename, size) {\n",
              "      if (!google.colab.kernel.accessAllowed) {\n",
              "        return;\n",
              "      }\n",
              "      const div = document.createElement('div');\n",
              "      const label = document.createElement('label');\n",
              "      label.textContent = `Downloading \"${filename}\": `;\n",
              "      div.appendChild(label);\n",
              "      const progress = document.createElement('progress');\n",
              "      progress.max = size;\n",
              "      div.appendChild(progress);\n",
              "      document.body.appendChild(div);\n",
              "\n",
              "      const buffers = [];\n",
              "      let downloaded = 0;\n",
              "\n",
              "      const channel = await google.colab.kernel.comms.open(id);\n",
              "      // Send a message to notify the kernel that we're ready.\n",
              "      channel.send({})\n",
              "\n",
              "      for await (const message of channel.messages) {\n",
              "        // Send a message to notify the kernel that we're ready.\n",
              "        channel.send({})\n",
              "        if (message.buffers) {\n",
              "          for (const buffer of message.buffers) {\n",
              "            buffers.push(buffer);\n",
              "            downloaded += buffer.byteLength;\n",
              "            progress.value = downloaded;\n",
              "          }\n",
              "        }\n",
              "      }\n",
              "      const blob = new Blob(buffers, {type: 'application/binary'});\n",
              "      const a = document.createElement('a');\n",
              "      a.href = window.URL.createObjectURL(blob);\n",
              "      a.download = filename;\n",
              "      div.appendChild(a);\n",
              "      a.click();\n",
              "      div.remove();\n",
              "    }\n",
              "  "
            ]
          },
          "metadata": {}
        },
        {
          "output_type": "display_data",
          "data": {
            "text/plain": [
              "<IPython.core.display.Javascript object>"
            ],
            "application/javascript": [
              "download(\"download_94fe17a1-2dad-4b63-82c5-c48c1b192718\", \"1.txt\", 25939)"
            ]
          },
          "metadata": {}
        },
        {
          "output_type": "display_data",
          "data": {
            "text/plain": [
              "<IPython.core.display.Javascript object>"
            ],
            "application/javascript": [
              "\n",
              "    async function download(id, filename, size) {\n",
              "      if (!google.colab.kernel.accessAllowed) {\n",
              "        return;\n",
              "      }\n",
              "      const div = document.createElement('div');\n",
              "      const label = document.createElement('label');\n",
              "      label.textContent = `Downloading \"${filename}\": `;\n",
              "      div.appendChild(label);\n",
              "      const progress = document.createElement('progress');\n",
              "      progress.max = size;\n",
              "      div.appendChild(progress);\n",
              "      document.body.appendChild(div);\n",
              "\n",
              "      const buffers = [];\n",
              "      let downloaded = 0;\n",
              "\n",
              "      const channel = await google.colab.kernel.comms.open(id);\n",
              "      // Send a message to notify the kernel that we're ready.\n",
              "      channel.send({})\n",
              "\n",
              "      for await (const message of channel.messages) {\n",
              "        // Send a message to notify the kernel that we're ready.\n",
              "        channel.send({})\n",
              "        if (message.buffers) {\n",
              "          for (const buffer of message.buffers) {\n",
              "            buffers.push(buffer);\n",
              "            downloaded += buffer.byteLength;\n",
              "            progress.value = downloaded;\n",
              "          }\n",
              "        }\n",
              "      }\n",
              "      const blob = new Blob(buffers, {type: 'application/binary'});\n",
              "      const a = document.createElement('a');\n",
              "      a.href = window.URL.createObjectURL(blob);\n",
              "      a.download = filename;\n",
              "      div.appendChild(a);\n",
              "      a.click();\n",
              "      div.remove();\n",
              "    }\n",
              "  "
            ]
          },
          "metadata": {}
        },
        {
          "output_type": "display_data",
          "data": {
            "text/plain": [
              "<IPython.core.display.Javascript object>"
            ],
            "application/javascript": [
              "download(\"download_881153a2-f96a-4ff4-81a7-6f71bd828bea\", \"2.txt\", 23610)"
            ]
          },
          "metadata": {}
        },
        {
          "output_type": "display_data",
          "data": {
            "text/plain": [
              "<IPython.core.display.Javascript object>"
            ],
            "application/javascript": [
              "\n",
              "    async function download(id, filename, size) {\n",
              "      if (!google.colab.kernel.accessAllowed) {\n",
              "        return;\n",
              "      }\n",
              "      const div = document.createElement('div');\n",
              "      const label = document.createElement('label');\n",
              "      label.textContent = `Downloading \"${filename}\": `;\n",
              "      div.appendChild(label);\n",
              "      const progress = document.createElement('progress');\n",
              "      progress.max = size;\n",
              "      div.appendChild(progress);\n",
              "      document.body.appendChild(div);\n",
              "\n",
              "      const buffers = [];\n",
              "      let downloaded = 0;\n",
              "\n",
              "      const channel = await google.colab.kernel.comms.open(id);\n",
              "      // Send a message to notify the kernel that we're ready.\n",
              "      channel.send({})\n",
              "\n",
              "      for await (const message of channel.messages) {\n",
              "        // Send a message to notify the kernel that we're ready.\n",
              "        channel.send({})\n",
              "        if (message.buffers) {\n",
              "          for (const buffer of message.buffers) {\n",
              "            buffers.push(buffer);\n",
              "            downloaded += buffer.byteLength;\n",
              "            progress.value = downloaded;\n",
              "          }\n",
              "        }\n",
              "      }\n",
              "      const blob = new Blob(buffers, {type: 'application/binary'});\n",
              "      const a = document.createElement('a');\n",
              "      a.href = window.URL.createObjectURL(blob);\n",
              "      a.download = filename;\n",
              "      div.appendChild(a);\n",
              "      a.click();\n",
              "      div.remove();\n",
              "    }\n",
              "  "
            ]
          },
          "metadata": {}
        },
        {
          "output_type": "display_data",
          "data": {
            "text/plain": [
              "<IPython.core.display.Javascript object>"
            ],
            "application/javascript": [
              "download(\"download_eb3d9df4-bc2c-40ad-abc1-25a2181586b0\", \"3.txt\", 25762)"
            ]
          },
          "metadata": {}
        },
        {
          "output_type": "display_data",
          "data": {
            "text/plain": [
              "<IPython.core.display.Javascript object>"
            ],
            "application/javascript": [
              "\n",
              "    async function download(id, filename, size) {\n",
              "      if (!google.colab.kernel.accessAllowed) {\n",
              "        return;\n",
              "      }\n",
              "      const div = document.createElement('div');\n",
              "      const label = document.createElement('label');\n",
              "      label.textContent = `Downloading \"${filename}\": `;\n",
              "      div.appendChild(label);\n",
              "      const progress = document.createElement('progress');\n",
              "      progress.max = size;\n",
              "      div.appendChild(progress);\n",
              "      document.body.appendChild(div);\n",
              "\n",
              "      const buffers = [];\n",
              "      let downloaded = 0;\n",
              "\n",
              "      const channel = await google.colab.kernel.comms.open(id);\n",
              "      // Send a message to notify the kernel that we're ready.\n",
              "      channel.send({})\n",
              "\n",
              "      for await (const message of channel.messages) {\n",
              "        // Send a message to notify the kernel that we're ready.\n",
              "        channel.send({})\n",
              "        if (message.buffers) {\n",
              "          for (const buffer of message.buffers) {\n",
              "            buffers.push(buffer);\n",
              "            downloaded += buffer.byteLength;\n",
              "            progress.value = downloaded;\n",
              "          }\n",
              "        }\n",
              "      }\n",
              "      const blob = new Blob(buffers, {type: 'application/binary'});\n",
              "      const a = document.createElement('a');\n",
              "      a.href = window.URL.createObjectURL(blob);\n",
              "      a.download = filename;\n",
              "      div.appendChild(a);\n",
              "      a.click();\n",
              "      div.remove();\n",
              "    }\n",
              "  "
            ]
          },
          "metadata": {}
        },
        {
          "output_type": "display_data",
          "data": {
            "text/plain": [
              "<IPython.core.display.Javascript object>"
            ],
            "application/javascript": [
              "download(\"download_f951e1da-15f1-40b0-a50e-be952f83181c\", \"4.txt\", 23439)"
            ]
          },
          "metadata": {}
        },
        {
          "output_type": "display_data",
          "data": {
            "text/plain": [
              "<IPython.core.display.Javascript object>"
            ],
            "application/javascript": [
              "\n",
              "    async function download(id, filename, size) {\n",
              "      if (!google.colab.kernel.accessAllowed) {\n",
              "        return;\n",
              "      }\n",
              "      const div = document.createElement('div');\n",
              "      const label = document.createElement('label');\n",
              "      label.textContent = `Downloading \"${filename}\": `;\n",
              "      div.appendChild(label);\n",
              "      const progress = document.createElement('progress');\n",
              "      progress.max = size;\n",
              "      div.appendChild(progress);\n",
              "      document.body.appendChild(div);\n",
              "\n",
              "      const buffers = [];\n",
              "      let downloaded = 0;\n",
              "\n",
              "      const channel = await google.colab.kernel.comms.open(id);\n",
              "      // Send a message to notify the kernel that we're ready.\n",
              "      channel.send({})\n",
              "\n",
              "      for await (const message of channel.messages) {\n",
              "        // Send a message to notify the kernel that we're ready.\n",
              "        channel.send({})\n",
              "        if (message.buffers) {\n",
              "          for (const buffer of message.buffers) {\n",
              "            buffers.push(buffer);\n",
              "            downloaded += buffer.byteLength;\n",
              "            progress.value = downloaded;\n",
              "          }\n",
              "        }\n",
              "      }\n",
              "      const blob = new Blob(buffers, {type: 'application/binary'});\n",
              "      const a = document.createElement('a');\n",
              "      a.href = window.URL.createObjectURL(blob);\n",
              "      a.download = filename;\n",
              "      div.appendChild(a);\n",
              "      a.click();\n",
              "      div.remove();\n",
              "    }\n",
              "  "
            ]
          },
          "metadata": {}
        },
        {
          "output_type": "display_data",
          "data": {
            "text/plain": [
              "<IPython.core.display.Javascript object>"
            ],
            "application/javascript": [
              "download(\"download_24dc7b63-4d2a-4873-b6b6-3e571b582a14\", \"5.txt\", 22360)"
            ]
          },
          "metadata": {}
        },
        {
          "output_type": "display_data",
          "data": {
            "text/plain": [
              "<IPython.core.display.Javascript object>"
            ],
            "application/javascript": [
              "\n",
              "    async function download(id, filename, size) {\n",
              "      if (!google.colab.kernel.accessAllowed) {\n",
              "        return;\n",
              "      }\n",
              "      const div = document.createElement('div');\n",
              "      const label = document.createElement('label');\n",
              "      label.textContent = `Downloading \"${filename}\": `;\n",
              "      div.appendChild(label);\n",
              "      const progress = document.createElement('progress');\n",
              "      progress.max = size;\n",
              "      div.appendChild(progress);\n",
              "      document.body.appendChild(div);\n",
              "\n",
              "      const buffers = [];\n",
              "      let downloaded = 0;\n",
              "\n",
              "      const channel = await google.colab.kernel.comms.open(id);\n",
              "      // Send a message to notify the kernel that we're ready.\n",
              "      channel.send({})\n",
              "\n",
              "      for await (const message of channel.messages) {\n",
              "        // Send a message to notify the kernel that we're ready.\n",
              "        channel.send({})\n",
              "        if (message.buffers) {\n",
              "          for (const buffer of message.buffers) {\n",
              "            buffers.push(buffer);\n",
              "            downloaded += buffer.byteLength;\n",
              "            progress.value = downloaded;\n",
              "          }\n",
              "        }\n",
              "      }\n",
              "      const blob = new Blob(buffers, {type: 'application/binary'});\n",
              "      const a = document.createElement('a');\n",
              "      a.href = window.URL.createObjectURL(blob);\n",
              "      a.download = filename;\n",
              "      div.appendChild(a);\n",
              "      a.click();\n",
              "      div.remove();\n",
              "    }\n",
              "  "
            ]
          },
          "metadata": {}
        },
        {
          "output_type": "display_data",
          "data": {
            "text/plain": [
              "<IPython.core.display.Javascript object>"
            ],
            "application/javascript": [
              "download(\"download_716177ad-cae8-4b17-a30e-a0295c09ae08\", \"6.txt\", 24533)"
            ]
          },
          "metadata": {}
        },
        {
          "output_type": "display_data",
          "data": {
            "text/plain": [
              "<IPython.core.display.Javascript object>"
            ],
            "application/javascript": [
              "\n",
              "    async function download(id, filename, size) {\n",
              "      if (!google.colab.kernel.accessAllowed) {\n",
              "        return;\n",
              "      }\n",
              "      const div = document.createElement('div');\n",
              "      const label = document.createElement('label');\n",
              "      label.textContent = `Downloading \"${filename}\": `;\n",
              "      div.appendChild(label);\n",
              "      const progress = document.createElement('progress');\n",
              "      progress.max = size;\n",
              "      div.appendChild(progress);\n",
              "      document.body.appendChild(div);\n",
              "\n",
              "      const buffers = [];\n",
              "      let downloaded = 0;\n",
              "\n",
              "      const channel = await google.colab.kernel.comms.open(id);\n",
              "      // Send a message to notify the kernel that we're ready.\n",
              "      channel.send({})\n",
              "\n",
              "      for await (const message of channel.messages) {\n",
              "        // Send a message to notify the kernel that we're ready.\n",
              "        channel.send({})\n",
              "        if (message.buffers) {\n",
              "          for (const buffer of message.buffers) {\n",
              "            buffers.push(buffer);\n",
              "            downloaded += buffer.byteLength;\n",
              "            progress.value = downloaded;\n",
              "          }\n",
              "        }\n",
              "      }\n",
              "      const blob = new Blob(buffers, {type: 'application/binary'});\n",
              "      const a = document.createElement('a');\n",
              "      a.href = window.URL.createObjectURL(blob);\n",
              "      a.download = filename;\n",
              "      div.appendChild(a);\n",
              "      a.click();\n",
              "      div.remove();\n",
              "    }\n",
              "  "
            ]
          },
          "metadata": {}
        },
        {
          "output_type": "display_data",
          "data": {
            "text/plain": [
              "<IPython.core.display.Javascript object>"
            ],
            "application/javascript": [
              "download(\"download_76b431a0-4d79-4dfe-9d94-1c9832d7125d\", \"7.txt\", 25559)"
            ]
          },
          "metadata": {}
        },
        {
          "output_type": "display_data",
          "data": {
            "text/plain": [
              "<IPython.core.display.Javascript object>"
            ],
            "application/javascript": [
              "\n",
              "    async function download(id, filename, size) {\n",
              "      if (!google.colab.kernel.accessAllowed) {\n",
              "        return;\n",
              "      }\n",
              "      const div = document.createElement('div');\n",
              "      const label = document.createElement('label');\n",
              "      label.textContent = `Downloading \"${filename}\": `;\n",
              "      div.appendChild(label);\n",
              "      const progress = document.createElement('progress');\n",
              "      progress.max = size;\n",
              "      div.appendChild(progress);\n",
              "      document.body.appendChild(div);\n",
              "\n",
              "      const buffers = [];\n",
              "      let downloaded = 0;\n",
              "\n",
              "      const channel = await google.colab.kernel.comms.open(id);\n",
              "      // Send a message to notify the kernel that we're ready.\n",
              "      channel.send({})\n",
              "\n",
              "      for await (const message of channel.messages) {\n",
              "        // Send a message to notify the kernel that we're ready.\n",
              "        channel.send({})\n",
              "        if (message.buffers) {\n",
              "          for (const buffer of message.buffers) {\n",
              "            buffers.push(buffer);\n",
              "            downloaded += buffer.byteLength;\n",
              "            progress.value = downloaded;\n",
              "          }\n",
              "        }\n",
              "      }\n",
              "      const blob = new Blob(buffers, {type: 'application/binary'});\n",
              "      const a = document.createElement('a');\n",
              "      a.href = window.URL.createObjectURL(blob);\n",
              "      a.download = filename;\n",
              "      div.appendChild(a);\n",
              "      a.click();\n",
              "      div.remove();\n",
              "    }\n",
              "  "
            ]
          },
          "metadata": {}
        },
        {
          "output_type": "display_data",
          "data": {
            "text/plain": [
              "<IPython.core.display.Javascript object>"
            ],
            "application/javascript": [
              "download(\"download_02aebe11-0397-4af9-8cd7-fbe55fc42413\", \"8.txt\", 25407)"
            ]
          },
          "metadata": {}
        },
        {
          "output_type": "display_data",
          "data": {
            "text/plain": [
              "<IPython.core.display.Javascript object>"
            ],
            "application/javascript": [
              "\n",
              "    async function download(id, filename, size) {\n",
              "      if (!google.colab.kernel.accessAllowed) {\n",
              "        return;\n",
              "      }\n",
              "      const div = document.createElement('div');\n",
              "      const label = document.createElement('label');\n",
              "      label.textContent = `Downloading \"${filename}\": `;\n",
              "      div.appendChild(label);\n",
              "      const progress = document.createElement('progress');\n",
              "      progress.max = size;\n",
              "      div.appendChild(progress);\n",
              "      document.body.appendChild(div);\n",
              "\n",
              "      const buffers = [];\n",
              "      let downloaded = 0;\n",
              "\n",
              "      const channel = await google.colab.kernel.comms.open(id);\n",
              "      // Send a message to notify the kernel that we're ready.\n",
              "      channel.send({})\n",
              "\n",
              "      for await (const message of channel.messages) {\n",
              "        // Send a message to notify the kernel that we're ready.\n",
              "        channel.send({})\n",
              "        if (message.buffers) {\n",
              "          for (const buffer of message.buffers) {\n",
              "            buffers.push(buffer);\n",
              "            downloaded += buffer.byteLength;\n",
              "            progress.value = downloaded;\n",
              "          }\n",
              "        }\n",
              "      }\n",
              "      const blob = new Blob(buffers, {type: 'application/binary'});\n",
              "      const a = document.createElement('a');\n",
              "      a.href = window.URL.createObjectURL(blob);\n",
              "      a.download = filename;\n",
              "      div.appendChild(a);\n",
              "      a.click();\n",
              "      div.remove();\n",
              "    }\n",
              "  "
            ]
          },
          "metadata": {}
        },
        {
          "output_type": "display_data",
          "data": {
            "text/plain": [
              "<IPython.core.display.Javascript object>"
            ],
            "application/javascript": [
              "download(\"download_c915a035-9aa2-492e-99f1-845cb2af50ea\", \"9.txt\", 24505)"
            ]
          },
          "metadata": {}
        },
        {
          "output_type": "display_data",
          "data": {
            "text/plain": [
              "<IPython.core.display.Javascript object>"
            ],
            "application/javascript": [
              "\n",
              "    async function download(id, filename, size) {\n",
              "      if (!google.colab.kernel.accessAllowed) {\n",
              "        return;\n",
              "      }\n",
              "      const div = document.createElement('div');\n",
              "      const label = document.createElement('label');\n",
              "      label.textContent = `Downloading \"${filename}\": `;\n",
              "      div.appendChild(label);\n",
              "      const progress = document.createElement('progress');\n",
              "      progress.max = size;\n",
              "      div.appendChild(progress);\n",
              "      document.body.appendChild(div);\n",
              "\n",
              "      const buffers = [];\n",
              "      let downloaded = 0;\n",
              "\n",
              "      const channel = await google.colab.kernel.comms.open(id);\n",
              "      // Send a message to notify the kernel that we're ready.\n",
              "      channel.send({})\n",
              "\n",
              "      for await (const message of channel.messages) {\n",
              "        // Send a message to notify the kernel that we're ready.\n",
              "        channel.send({})\n",
              "        if (message.buffers) {\n",
              "          for (const buffer of message.buffers) {\n",
              "            buffers.push(buffer);\n",
              "            downloaded += buffer.byteLength;\n",
              "            progress.value = downloaded;\n",
              "          }\n",
              "        }\n",
              "      }\n",
              "      const blob = new Blob(buffers, {type: 'application/binary'});\n",
              "      const a = document.createElement('a');\n",
              "      a.href = window.URL.createObjectURL(blob);\n",
              "      a.download = filename;\n",
              "      div.appendChild(a);\n",
              "      a.click();\n",
              "      div.remove();\n",
              "    }\n",
              "  "
            ]
          },
          "metadata": {}
        },
        {
          "output_type": "display_data",
          "data": {
            "text/plain": [
              "<IPython.core.display.Javascript object>"
            ],
            "application/javascript": [
              "download(\"download_2eebcb4c-6804-45e4-b2ed-b18ca5cfba61\", \"10.txt\", 16851)"
            ]
          },
          "metadata": {}
        }
      ]
    }
  ],
  "metadata": {
    "colab": {
      "collapsed_sections": [
        "gtxqTCE_Prat"
      ],
      "provenance": []
    },
    "deepnote": {
      "is_reactive": false
    },
    "deepnote_execution_queue": [],
    "deepnote_notebook_id": "89096161-8db2-4c83-bd09-f2de34fe0e65",
    "kernelspec": {
      "display_name": "Python 3",
      "name": "python3"
    },
    "language_info": {
      "codemirror_mode": {
        "name": "ipython",
        "version": 3
      },
      "file_extension": ".py",
      "mimetype": "text/x-python",
      "name": "python",
      "nbconvert_exporter": "python",
      "pygments_lexer": "ipython3",
      "version": "3.10.4"
    },
    "orig_nbformat": 2,
    "accelerator": "GPU",
    "gpuClass": "standard"
  },
  "nbformat": 4,
  "nbformat_minor": 0
}